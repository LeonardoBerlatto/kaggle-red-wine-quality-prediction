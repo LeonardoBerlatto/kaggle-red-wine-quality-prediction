{
  "nbformat": 4,
  "nbformat_minor": 0,
  "metadata": {
    "colab": {
      "name": "kaggle-red-wine-quality-prediction.ipynb",
      "provenance": [],
      "toc_visible": true
    },
    "kernelspec": {
      "name": "python3",
      "display_name": "Python 3"
    },
    "language_info": {
      "name": "python"
    }
  },
  "cells": [
    {
      "cell_type": "markdown",
      "source": [
        "# Red Wines Quality\n",
        "*Simple and clean practice dataset for regression or **classification** modelling*"
      ],
      "metadata": {
        "id": "6clinAex1Z5y"
      }
    },
    {
      "cell_type": "code",
      "source": [
        "from matplotlib import pyplot as plt\n",
        "import seaborn as sns\n",
        "import plotly.express as px\n",
        "\n",
        "import plotly.graph_objects as go"
      ],
      "metadata": {
        "id": "Isqtl8MzmCq_"
      },
      "execution_count": 1,
      "outputs": []
    },
    {
      "cell_type": "markdown",
      "source": [
        "## Spark Setup\n",
        "*skip if not in Google Colab*"
      ],
      "metadata": {
        "id": "LbFUvbcZyDR7"
      }
    },
    {
      "cell_type": "markdown",
      "source": [
        "### JDK + SPARK\n",
        "\n"
      ],
      "metadata": {
        "id": "ErJCtyfKltji"
      }
    },
    {
      "cell_type": "code",
      "execution_count": 51,
      "metadata": {
        "id": "zne6_BKRwj-O"
      },
      "outputs": [],
      "source": [
        "!apt-get install openjdk-11-jdk-headless -qq > /dev/null\n",
        "!wget -q https://archive.apache.org/dist/spark/spark-3.2.1/spark-3.2.1-bin-hadoop3.2.tgz\n",
        "!tar xf spark-3.2.1-bin-hadoop3.2.tgz\n",
        "!pip install -q findspark"
      ]
    },
    {
      "cell_type": "code",
      "source": [
        "import os\n",
        "os.environ[\"JAVA_HOME\"] = \"/usr/lib/jvm/java-11-openjdk-amd64\"\n",
        "os.environ[\"SPARK_HOME\"] = \"/content/spark-3.2.1-bin-hadoop3.2\"\n",
        "\n",
        "import findspark\n",
        "findspark.init('spark-3.2.1-bin-hadoop3.2')"
      ],
      "metadata": {
        "id": "WkTlgky_yKHa"
      },
      "execution_count": 52,
      "outputs": []
    },
    {
      "cell_type": "markdown",
      "source": [
        "## Spark Session"
      ],
      "metadata": {
        "id": "JwZlIyGdl7XD"
      }
    },
    {
      "cell_type": "code",
      "source": [
        "from pyspark.sql import SparkSession\n",
        "spark = SparkSession.builder \\\n",
        "  .master('local[*]') \\\n",
        "  .appName('Red Wine Quality Prediction') \\\n",
        "  .getOrCreate()\n"
      ],
      "metadata": {
        "id": "uBbjgCL6yLil"
      },
      "execution_count": 53,
      "outputs": []
    },
    {
      "cell_type": "markdown",
      "source": [
        "## Reading the data "
      ],
      "metadata": {
        "id": "bxhQUFdamfJ4"
      }
    },
    {
      "cell_type": "code",
      "source": [
        "df =(spark.read\n",
        "          .format('csv')\n",
        "          .option('header', 'true')\n",
        "          .load('./winequality-red.csv'))\n",
        "\n",
        "df.show()"
      ],
      "metadata": {
        "colab": {
          "base_uri": "https://localhost:8080/"
        },
        "id": "2WLGcdL8meH7",
        "outputId": "8b527ee1-3c6d-40ea-b6f1-3ebd421578d6"
      },
      "execution_count": 54,
      "outputs": [
        {
          "output_type": "stream",
          "name": "stdout",
          "text": [
            "+-------------+----------------+-----------+--------------+-------------------+-------------------+--------------------+-------+----+---------+-------+-------+\n",
            "|fixed acidity|volatile acidity|citric acid|residual sugar|          chlorides|free sulfur dioxide|total sulfur dioxide|density|  pH|sulphates|alcohol|quality|\n",
            "+-------------+----------------+-----------+--------------+-------------------+-------------------+--------------------+-------+----+---------+-------+-------+\n",
            "|          7.4|             0.7|        0.0|           1.9|              0.076|               11.0|                34.0| 0.9978|3.51|     0.56|    9.4|      5|\n",
            "|          7.8|            0.88|        0.0|           2.6|              0.098|               25.0|                67.0| 0.9968| 3.2|     0.68|    9.8|      5|\n",
            "|          7.8|            0.76|       0.04|           2.3|              0.092|               15.0|                54.0|  0.997|3.26|     0.65|    9.8|      5|\n",
            "|         11.2|            0.28|       0.56|           1.9|              0.075|               17.0|                60.0|  0.998|3.16|     0.58|    9.8|      6|\n",
            "|          7.4|             0.7|        0.0|           1.9|              0.076|               11.0|                34.0| 0.9978|3.51|     0.56|    9.4|      5|\n",
            "|          7.4|            0.66|        0.0|           1.8|              0.075|               13.0|                40.0| 0.9978|3.51|     0.56|    9.4|      5|\n",
            "|          7.9|             0.6|       0.06|           1.6|              0.069|               15.0|                59.0| 0.9964| 3.3|     0.46|    9.4|      5|\n",
            "|          7.3|            0.65|        0.0|           1.2|              0.065|               15.0|                21.0| 0.9946|3.39|     0.47|   10.0|      7|\n",
            "|          7.8|            0.58|       0.02|           2.0|              0.073|                9.0|                18.0| 0.9968|3.36|     0.57|    9.5|      7|\n",
            "|          7.5|             0.5|       0.36|           6.1|              0.071|               17.0|               102.0| 0.9978|3.35|      0.8|   10.5|      5|\n",
            "|          6.7|            0.58|       0.08|           1.8|0.09699999999999999|               15.0|                65.0| 0.9959|3.28|     0.54|    9.2|      5|\n",
            "|          7.5|             0.5|       0.36|           6.1|              0.071|               17.0|               102.0| 0.9978|3.35|      0.8|   10.5|      5|\n",
            "|          5.6|           0.615|        0.0|           1.6|0.08900000000000001|               16.0|                59.0| 0.9943|3.58|     0.52|    9.9|      5|\n",
            "|          7.8|            0.61|       0.29|           1.6|              0.114|                9.0|                29.0| 0.9974|3.26|     1.56|    9.1|      5|\n",
            "|          8.9|            0.62|       0.18|           3.8|0.17600000000000002|               52.0|               145.0| 0.9986|3.16|     0.88|    9.2|      5|\n",
            "|          8.9|            0.62|       0.19|           3.9|               0.17|               51.0|               148.0| 0.9986|3.17|     0.93|    9.2|      5|\n",
            "|          8.5|            0.28|       0.56|           1.8|              0.092|               35.0|               103.0| 0.9969| 3.3|     0.75|   10.5|      7|\n",
            "|          8.1|            0.56|       0.28|           1.7|              0.368|               16.0|                56.0| 0.9968|3.11|     1.28|    9.3|      5|\n",
            "|          7.4|            0.59|       0.08|           4.4|              0.086|                6.0|                29.0| 0.9974|3.38|      0.5|    9.0|      4|\n",
            "|          7.9|            0.32|       0.51|           1.8|              0.341|               17.0|                56.0| 0.9969|3.04|     1.08|    9.2|      6|\n",
            "+-------------+----------------+-----------+--------------+-------------------+-------------------+--------------------+-------+----+---------+-------+-------+\n",
            "only showing top 20 rows\n",
            "\n"
          ]
        }
      ]
    },
    {
      "cell_type": "code",
      "source": [
        "from pyspark.sql.functions import col\n",
        "df = df.select(col('fixed acidity').cast('float'),\n",
        "                         col('volatile acidity').cast('float'),\n",
        "                         col('citric acid').cast('float'),\n",
        "                         col('residual sugar').cast('float'),\n",
        "                         col('chlorides').cast('float'),\n",
        "                         col('free sulfur dioxide').cast('float'),\n",
        "                         col('total sulfur dioxide').cast('float'),\n",
        "                         col('density').cast('float'),\n",
        "                         col('pH').cast('float'),\n",
        "                         col('sulphates').cast('float'),\n",
        "                         col('alcohol').cast('float'),\n",
        "                         col('quality').cast('int')\n",
        "                        )\n",
        "\n",
        "dataset = df.toPandas()\n",
        "dataset.head()"
      ],
      "metadata": {
        "colab": {
          "base_uri": "https://localhost:8080/",
          "height": 206
        },
        "id": "f2wKQPUkpVUu",
        "outputId": "f360ca5e-f5c8-4965-e249-077ca938c75d"
      },
      "execution_count": 55,
      "outputs": [
        {
          "output_type": "execute_result",
          "data": {
            "text/html": [
              "\n",
              "  <div id=\"df-57329917-fc51-4ce1-afea-e961fc7d57d7\">\n",
              "    <div class=\"colab-df-container\">\n",
              "      <div>\n",
              "<style scoped>\n",
              "    .dataframe tbody tr th:only-of-type {\n",
              "        vertical-align: middle;\n",
              "    }\n",
              "\n",
              "    .dataframe tbody tr th {\n",
              "        vertical-align: top;\n",
              "    }\n",
              "\n",
              "    .dataframe thead th {\n",
              "        text-align: right;\n",
              "    }\n",
              "</style>\n",
              "<table border=\"1\" class=\"dataframe\">\n",
              "  <thead>\n",
              "    <tr style=\"text-align: right;\">\n",
              "      <th></th>\n",
              "      <th>fixed acidity</th>\n",
              "      <th>volatile acidity</th>\n",
              "      <th>citric acid</th>\n",
              "      <th>residual sugar</th>\n",
              "      <th>chlorides</th>\n",
              "      <th>free sulfur dioxide</th>\n",
              "      <th>total sulfur dioxide</th>\n",
              "      <th>density</th>\n",
              "      <th>pH</th>\n",
              "      <th>sulphates</th>\n",
              "      <th>alcohol</th>\n",
              "      <th>quality</th>\n",
              "    </tr>\n",
              "  </thead>\n",
              "  <tbody>\n",
              "    <tr>\n",
              "      <th>0</th>\n",
              "      <td>7.4</td>\n",
              "      <td>0.70</td>\n",
              "      <td>0.00</td>\n",
              "      <td>1.9</td>\n",
              "      <td>0.076</td>\n",
              "      <td>11.0</td>\n",
              "      <td>34.0</td>\n",
              "      <td>0.9978</td>\n",
              "      <td>3.51</td>\n",
              "      <td>0.56</td>\n",
              "      <td>9.4</td>\n",
              "      <td>5</td>\n",
              "    </tr>\n",
              "    <tr>\n",
              "      <th>1</th>\n",
              "      <td>7.8</td>\n",
              "      <td>0.88</td>\n",
              "      <td>0.00</td>\n",
              "      <td>2.6</td>\n",
              "      <td>0.098</td>\n",
              "      <td>25.0</td>\n",
              "      <td>67.0</td>\n",
              "      <td>0.9968</td>\n",
              "      <td>3.20</td>\n",
              "      <td>0.68</td>\n",
              "      <td>9.8</td>\n",
              "      <td>5</td>\n",
              "    </tr>\n",
              "    <tr>\n",
              "      <th>2</th>\n",
              "      <td>7.8</td>\n",
              "      <td>0.76</td>\n",
              "      <td>0.04</td>\n",
              "      <td>2.3</td>\n",
              "      <td>0.092</td>\n",
              "      <td>15.0</td>\n",
              "      <td>54.0</td>\n",
              "      <td>0.9970</td>\n",
              "      <td>3.26</td>\n",
              "      <td>0.65</td>\n",
              "      <td>9.8</td>\n",
              "      <td>5</td>\n",
              "    </tr>\n",
              "    <tr>\n",
              "      <th>3</th>\n",
              "      <td>11.2</td>\n",
              "      <td>0.28</td>\n",
              "      <td>0.56</td>\n",
              "      <td>1.9</td>\n",
              "      <td>0.075</td>\n",
              "      <td>17.0</td>\n",
              "      <td>60.0</td>\n",
              "      <td>0.9980</td>\n",
              "      <td>3.16</td>\n",
              "      <td>0.58</td>\n",
              "      <td>9.8</td>\n",
              "      <td>6</td>\n",
              "    </tr>\n",
              "    <tr>\n",
              "      <th>4</th>\n",
              "      <td>7.4</td>\n",
              "      <td>0.70</td>\n",
              "      <td>0.00</td>\n",
              "      <td>1.9</td>\n",
              "      <td>0.076</td>\n",
              "      <td>11.0</td>\n",
              "      <td>34.0</td>\n",
              "      <td>0.9978</td>\n",
              "      <td>3.51</td>\n",
              "      <td>0.56</td>\n",
              "      <td>9.4</td>\n",
              "      <td>5</td>\n",
              "    </tr>\n",
              "  </tbody>\n",
              "</table>\n",
              "</div>\n",
              "      <button class=\"colab-df-convert\" onclick=\"convertToInteractive('df-57329917-fc51-4ce1-afea-e961fc7d57d7')\"\n",
              "              title=\"Convert this dataframe to an interactive table.\"\n",
              "              style=\"display:none;\">\n",
              "        \n",
              "  <svg xmlns=\"http://www.w3.org/2000/svg\" height=\"24px\"viewBox=\"0 0 24 24\"\n",
              "       width=\"24px\">\n",
              "    <path d=\"M0 0h24v24H0V0z\" fill=\"none\"/>\n",
              "    <path d=\"M18.56 5.44l.94 2.06.94-2.06 2.06-.94-2.06-.94-.94-2.06-.94 2.06-2.06.94zm-11 1L8.5 8.5l.94-2.06 2.06-.94-2.06-.94L8.5 2.5l-.94 2.06-2.06.94zm10 10l.94 2.06.94-2.06 2.06-.94-2.06-.94-.94-2.06-.94 2.06-2.06.94z\"/><path d=\"M17.41 7.96l-1.37-1.37c-.4-.4-.92-.59-1.43-.59-.52 0-1.04.2-1.43.59L10.3 9.45l-7.72 7.72c-.78.78-.78 2.05 0 2.83L4 21.41c.39.39.9.59 1.41.59.51 0 1.02-.2 1.41-.59l7.78-7.78 2.81-2.81c.8-.78.8-2.07 0-2.86zM5.41 20L4 18.59l7.72-7.72 1.47 1.35L5.41 20z\"/>\n",
              "  </svg>\n",
              "      </button>\n",
              "      \n",
              "  <style>\n",
              "    .colab-df-container {\n",
              "      display:flex;\n",
              "      flex-wrap:wrap;\n",
              "      gap: 12px;\n",
              "    }\n",
              "\n",
              "    .colab-df-convert {\n",
              "      background-color: #E8F0FE;\n",
              "      border: none;\n",
              "      border-radius: 50%;\n",
              "      cursor: pointer;\n",
              "      display: none;\n",
              "      fill: #1967D2;\n",
              "      height: 32px;\n",
              "      padding: 0 0 0 0;\n",
              "      width: 32px;\n",
              "    }\n",
              "\n",
              "    .colab-df-convert:hover {\n",
              "      background-color: #E2EBFA;\n",
              "      box-shadow: 0px 1px 2px rgba(60, 64, 67, 0.3), 0px 1px 3px 1px rgba(60, 64, 67, 0.15);\n",
              "      fill: #174EA6;\n",
              "    }\n",
              "\n",
              "    [theme=dark] .colab-df-convert {\n",
              "      background-color: #3B4455;\n",
              "      fill: #D2E3FC;\n",
              "    }\n",
              "\n",
              "    [theme=dark] .colab-df-convert:hover {\n",
              "      background-color: #434B5C;\n",
              "      box-shadow: 0px 1px 3px 1px rgba(0, 0, 0, 0.15);\n",
              "      filter: drop-shadow(0px 1px 2px rgba(0, 0, 0, 0.3));\n",
              "      fill: #FFFFFF;\n",
              "    }\n",
              "  </style>\n",
              "\n",
              "      <script>\n",
              "        const buttonEl =\n",
              "          document.querySelector('#df-57329917-fc51-4ce1-afea-e961fc7d57d7 button.colab-df-convert');\n",
              "        buttonEl.style.display =\n",
              "          google.colab.kernel.accessAllowed ? 'block' : 'none';\n",
              "\n",
              "        async function convertToInteractive(key) {\n",
              "          const element = document.querySelector('#df-57329917-fc51-4ce1-afea-e961fc7d57d7');\n",
              "          const dataTable =\n",
              "            await google.colab.kernel.invokeFunction('convertToInteractive',\n",
              "                                                     [key], {});\n",
              "          if (!dataTable) return;\n",
              "\n",
              "          const docLinkHtml = 'Like what you see? Visit the ' +\n",
              "            '<a target=\"_blank\" href=https://colab.research.google.com/notebooks/data_table.ipynb>data table notebook</a>'\n",
              "            + ' to learn more about interactive tables.';\n",
              "          element.innerHTML = '';\n",
              "          dataTable['output_type'] = 'display_data';\n",
              "          await google.colab.output.renderOutput(dataTable, element);\n",
              "          const docLink = document.createElement('div');\n",
              "          docLink.innerHTML = docLinkHtml;\n",
              "          element.appendChild(docLink);\n",
              "        }\n",
              "      </script>\n",
              "    </div>\n",
              "  </div>\n",
              "  "
            ],
            "text/plain": [
              "   fixed acidity  volatile acidity  citric acid  ...  sulphates  alcohol  quality\n",
              "0            7.4              0.70         0.00  ...       0.56      9.4        5\n",
              "1            7.8              0.88         0.00  ...       0.68      9.8        5\n",
              "2            7.8              0.76         0.04  ...       0.65      9.8        5\n",
              "3           11.2              0.28         0.56  ...       0.58      9.8        6\n",
              "4            7.4              0.70         0.00  ...       0.56      9.4        5\n",
              "\n",
              "[5 rows x 12 columns]"
            ]
          },
          "metadata": {},
          "execution_count": 55
        }
      ]
    },
    {
      "cell_type": "markdown",
      "source": [
        "### Checking for null values"
      ],
      "metadata": {
        "id": "KOMS5rcSn0SN"
      }
    },
    {
      "cell_type": "code",
      "source": [
        "dataset.info()"
      ],
      "metadata": {
        "colab": {
          "base_uri": "https://localhost:8080/"
        },
        "id": "vIdcV_7Onq3y",
        "outputId": "6b97e9b8-abbc-4f11-cbf7-c9272305389a"
      },
      "execution_count": 56,
      "outputs": [
        {
          "output_type": "stream",
          "name": "stdout",
          "text": [
            "<class 'pandas.core.frame.DataFrame'>\n",
            "RangeIndex: 1599 entries, 0 to 1598\n",
            "Data columns (total 12 columns):\n",
            " #   Column                Non-Null Count  Dtype  \n",
            "---  ------                --------------  -----  \n",
            " 0   fixed acidity         1599 non-null   float32\n",
            " 1   volatile acidity      1599 non-null   float32\n",
            " 2   citric acid           1599 non-null   float32\n",
            " 3   residual sugar        1599 non-null   float32\n",
            " 4   chlorides             1599 non-null   float32\n",
            " 5   free sulfur dioxide   1599 non-null   float32\n",
            " 6   total sulfur dioxide  1599 non-null   float32\n",
            " 7   density               1599 non-null   float32\n",
            " 8   pH                    1599 non-null   float32\n",
            " 9   sulphates             1599 non-null   float32\n",
            " 10  alcohol               1599 non-null   float32\n",
            " 11  quality               1599 non-null   int32  \n",
            "dtypes: float32(11), int32(1)\n",
            "memory usage: 75.1 KB\n"
          ]
        }
      ]
    },
    {
      "cell_type": "markdown",
      "source": [
        "### Dataset info"
      ],
      "metadata": {
        "id": "O5f1I7Gln_MG"
      }
    },
    {
      "cell_type": "code",
      "source": [
        "dataset.describe().T"
      ],
      "metadata": {
        "colab": {
          "base_uri": "https://localhost:8080/",
          "height": 426
        },
        "id": "B-GX1njKnzge",
        "outputId": "4e04d60a-bb03-4d32-e97c-994f1e8bb1ba"
      },
      "execution_count": 57,
      "outputs": [
        {
          "output_type": "execute_result",
          "data": {
            "text/html": [
              "\n",
              "  <div id=\"df-031cfbab-ffb4-4064-8e79-c047308e8e8b\">\n",
              "    <div class=\"colab-df-container\">\n",
              "      <div>\n",
              "<style scoped>\n",
              "    .dataframe tbody tr th:only-of-type {\n",
              "        vertical-align: middle;\n",
              "    }\n",
              "\n",
              "    .dataframe tbody tr th {\n",
              "        vertical-align: top;\n",
              "    }\n",
              "\n",
              "    .dataframe thead th {\n",
              "        text-align: right;\n",
              "    }\n",
              "</style>\n",
              "<table border=\"1\" class=\"dataframe\">\n",
              "  <thead>\n",
              "    <tr style=\"text-align: right;\">\n",
              "      <th></th>\n",
              "      <th>count</th>\n",
              "      <th>mean</th>\n",
              "      <th>std</th>\n",
              "      <th>min</th>\n",
              "      <th>25%</th>\n",
              "      <th>50%</th>\n",
              "      <th>75%</th>\n",
              "      <th>max</th>\n",
              "    </tr>\n",
              "  </thead>\n",
              "  <tbody>\n",
              "    <tr>\n",
              "      <th>fixed acidity</th>\n",
              "      <td>1599.0</td>\n",
              "      <td>8.319636</td>\n",
              "      <td>1.741094</td>\n",
              "      <td>4.60000</td>\n",
              "      <td>7.1000</td>\n",
              "      <td>7.90000</td>\n",
              "      <td>9.200000</td>\n",
              "      <td>15.90000</td>\n",
              "    </tr>\n",
              "    <tr>\n",
              "      <th>volatile acidity</th>\n",
              "      <td>1599.0</td>\n",
              "      <td>0.527821</td>\n",
              "      <td>0.179060</td>\n",
              "      <td>0.12000</td>\n",
              "      <td>0.3900</td>\n",
              "      <td>0.52000</td>\n",
              "      <td>0.640000</td>\n",
              "      <td>1.58000</td>\n",
              "    </tr>\n",
              "    <tr>\n",
              "      <th>citric acid</th>\n",
              "      <td>1599.0</td>\n",
              "      <td>0.270976</td>\n",
              "      <td>0.194801</td>\n",
              "      <td>0.00000</td>\n",
              "      <td>0.0900</td>\n",
              "      <td>0.26000</td>\n",
              "      <td>0.420000</td>\n",
              "      <td>1.00000</td>\n",
              "    </tr>\n",
              "    <tr>\n",
              "      <th>residual sugar</th>\n",
              "      <td>1599.0</td>\n",
              "      <td>2.538806</td>\n",
              "      <td>1.409926</td>\n",
              "      <td>0.90000</td>\n",
              "      <td>1.9000</td>\n",
              "      <td>2.20000</td>\n",
              "      <td>2.600000</td>\n",
              "      <td>15.50000</td>\n",
              "    </tr>\n",
              "    <tr>\n",
              "      <th>chlorides</th>\n",
              "      <td>1599.0</td>\n",
              "      <td>0.087467</td>\n",
              "      <td>0.047065</td>\n",
              "      <td>0.01200</td>\n",
              "      <td>0.0700</td>\n",
              "      <td>0.07900</td>\n",
              "      <td>0.090000</td>\n",
              "      <td>0.61100</td>\n",
              "    </tr>\n",
              "    <tr>\n",
              "      <th>free sulfur dioxide</th>\n",
              "      <td>1599.0</td>\n",
              "      <td>15.874922</td>\n",
              "      <td>10.460162</td>\n",
              "      <td>1.00000</td>\n",
              "      <td>7.0000</td>\n",
              "      <td>14.00000</td>\n",
              "      <td>21.000000</td>\n",
              "      <td>72.00000</td>\n",
              "    </tr>\n",
              "    <tr>\n",
              "      <th>total sulfur dioxide</th>\n",
              "      <td>1599.0</td>\n",
              "      <td>46.467793</td>\n",
              "      <td>32.895329</td>\n",
              "      <td>6.00000</td>\n",
              "      <td>22.0000</td>\n",
              "      <td>38.00000</td>\n",
              "      <td>62.000000</td>\n",
              "      <td>289.00000</td>\n",
              "    </tr>\n",
              "    <tr>\n",
              "      <th>density</th>\n",
              "      <td>1599.0</td>\n",
              "      <td>0.996747</td>\n",
              "      <td>0.001887</td>\n",
              "      <td>0.99007</td>\n",
              "      <td>0.9956</td>\n",
              "      <td>0.99675</td>\n",
              "      <td>0.997835</td>\n",
              "      <td>1.00369</td>\n",
              "    </tr>\n",
              "    <tr>\n",
              "      <th>pH</th>\n",
              "      <td>1599.0</td>\n",
              "      <td>3.311108</td>\n",
              "      <td>0.154387</td>\n",
              "      <td>2.74000</td>\n",
              "      <td>3.2100</td>\n",
              "      <td>3.31000</td>\n",
              "      <td>3.400000</td>\n",
              "      <td>4.01000</td>\n",
              "    </tr>\n",
              "    <tr>\n",
              "      <th>sulphates</th>\n",
              "      <td>1599.0</td>\n",
              "      <td>0.658150</td>\n",
              "      <td>0.169507</td>\n",
              "      <td>0.33000</td>\n",
              "      <td>0.5500</td>\n",
              "      <td>0.62000</td>\n",
              "      <td>0.730000</td>\n",
              "      <td>2.00000</td>\n",
              "    </tr>\n",
              "    <tr>\n",
              "      <th>alcohol</th>\n",
              "      <td>1599.0</td>\n",
              "      <td>10.422993</td>\n",
              "      <td>1.065668</td>\n",
              "      <td>8.40000</td>\n",
              "      <td>9.5000</td>\n",
              "      <td>10.20000</td>\n",
              "      <td>11.100000</td>\n",
              "      <td>14.90000</td>\n",
              "    </tr>\n",
              "    <tr>\n",
              "      <th>quality</th>\n",
              "      <td>1599.0</td>\n",
              "      <td>5.636023</td>\n",
              "      <td>0.807569</td>\n",
              "      <td>3.00000</td>\n",
              "      <td>5.0000</td>\n",
              "      <td>6.00000</td>\n",
              "      <td>6.000000</td>\n",
              "      <td>8.00000</td>\n",
              "    </tr>\n",
              "  </tbody>\n",
              "</table>\n",
              "</div>\n",
              "      <button class=\"colab-df-convert\" onclick=\"convertToInteractive('df-031cfbab-ffb4-4064-8e79-c047308e8e8b')\"\n",
              "              title=\"Convert this dataframe to an interactive table.\"\n",
              "              style=\"display:none;\">\n",
              "        \n",
              "  <svg xmlns=\"http://www.w3.org/2000/svg\" height=\"24px\"viewBox=\"0 0 24 24\"\n",
              "       width=\"24px\">\n",
              "    <path d=\"M0 0h24v24H0V0z\" fill=\"none\"/>\n",
              "    <path d=\"M18.56 5.44l.94 2.06.94-2.06 2.06-.94-2.06-.94-.94-2.06-.94 2.06-2.06.94zm-11 1L8.5 8.5l.94-2.06 2.06-.94-2.06-.94L8.5 2.5l-.94 2.06-2.06.94zm10 10l.94 2.06.94-2.06 2.06-.94-2.06-.94-.94-2.06-.94 2.06-2.06.94z\"/><path d=\"M17.41 7.96l-1.37-1.37c-.4-.4-.92-.59-1.43-.59-.52 0-1.04.2-1.43.59L10.3 9.45l-7.72 7.72c-.78.78-.78 2.05 0 2.83L4 21.41c.39.39.9.59 1.41.59.51 0 1.02-.2 1.41-.59l7.78-7.78 2.81-2.81c.8-.78.8-2.07 0-2.86zM5.41 20L4 18.59l7.72-7.72 1.47 1.35L5.41 20z\"/>\n",
              "  </svg>\n",
              "      </button>\n",
              "      \n",
              "  <style>\n",
              "    .colab-df-container {\n",
              "      display:flex;\n",
              "      flex-wrap:wrap;\n",
              "      gap: 12px;\n",
              "    }\n",
              "\n",
              "    .colab-df-convert {\n",
              "      background-color: #E8F0FE;\n",
              "      border: none;\n",
              "      border-radius: 50%;\n",
              "      cursor: pointer;\n",
              "      display: none;\n",
              "      fill: #1967D2;\n",
              "      height: 32px;\n",
              "      padding: 0 0 0 0;\n",
              "      width: 32px;\n",
              "    }\n",
              "\n",
              "    .colab-df-convert:hover {\n",
              "      background-color: #E2EBFA;\n",
              "      box-shadow: 0px 1px 2px rgba(60, 64, 67, 0.3), 0px 1px 3px 1px rgba(60, 64, 67, 0.15);\n",
              "      fill: #174EA6;\n",
              "    }\n",
              "\n",
              "    [theme=dark] .colab-df-convert {\n",
              "      background-color: #3B4455;\n",
              "      fill: #D2E3FC;\n",
              "    }\n",
              "\n",
              "    [theme=dark] .colab-df-convert:hover {\n",
              "      background-color: #434B5C;\n",
              "      box-shadow: 0px 1px 3px 1px rgba(0, 0, 0, 0.15);\n",
              "      filter: drop-shadow(0px 1px 2px rgba(0, 0, 0, 0.3));\n",
              "      fill: #FFFFFF;\n",
              "    }\n",
              "  </style>\n",
              "\n",
              "      <script>\n",
              "        const buttonEl =\n",
              "          document.querySelector('#df-031cfbab-ffb4-4064-8e79-c047308e8e8b button.colab-df-convert');\n",
              "        buttonEl.style.display =\n",
              "          google.colab.kernel.accessAllowed ? 'block' : 'none';\n",
              "\n",
              "        async function convertToInteractive(key) {\n",
              "          const element = document.querySelector('#df-031cfbab-ffb4-4064-8e79-c047308e8e8b');\n",
              "          const dataTable =\n",
              "            await google.colab.kernel.invokeFunction('convertToInteractive',\n",
              "                                                     [key], {});\n",
              "          if (!dataTable) return;\n",
              "\n",
              "          const docLinkHtml = 'Like what you see? Visit the ' +\n",
              "            '<a target=\"_blank\" href=https://colab.research.google.com/notebooks/data_table.ipynb>data table notebook</a>'\n",
              "            + ' to learn more about interactive tables.';\n",
              "          element.innerHTML = '';\n",
              "          dataTable['output_type'] = 'display_data';\n",
              "          await google.colab.output.renderOutput(dataTable, element);\n",
              "          const docLink = document.createElement('div');\n",
              "          docLink.innerHTML = docLinkHtml;\n",
              "          element.appendChild(docLink);\n",
              "        }\n",
              "      </script>\n",
              "    </div>\n",
              "  </div>\n",
              "  "
            ],
            "text/plain": [
              "                       count       mean  ...        75%        max\n",
              "fixed acidity         1599.0   8.319636  ...   9.200000   15.90000\n",
              "volatile acidity      1599.0   0.527821  ...   0.640000    1.58000\n",
              "citric acid           1599.0   0.270976  ...   0.420000    1.00000\n",
              "residual sugar        1599.0   2.538806  ...   2.600000   15.50000\n",
              "chlorides             1599.0   0.087467  ...   0.090000    0.61100\n",
              "free sulfur dioxide   1599.0  15.874922  ...  21.000000   72.00000\n",
              "total sulfur dioxide  1599.0  46.467793  ...  62.000000  289.00000\n",
              "density               1599.0   0.996747  ...   0.997835    1.00369\n",
              "pH                    1599.0   3.311108  ...   3.400000    4.01000\n",
              "sulphates             1599.0   0.658150  ...   0.730000    2.00000\n",
              "alcohol               1599.0  10.422993  ...  11.100000   14.90000\n",
              "quality               1599.0   5.636023  ...   6.000000    8.00000\n",
              "\n",
              "[12 rows x 8 columns]"
            ]
          },
          "metadata": {},
          "execution_count": 57
        }
      ]
    },
    {
      "cell_type": "markdown",
      "source": [
        "## Exploratory Data Analysis"
      ],
      "metadata": {
        "id": "10Wv8jq3Upoy"
      }
    },
    {
      "cell_type": "markdown",
      "source": [
        "### Wine Quality Distribuition"
      ],
      "metadata": {
        "id": "Riks5GyXUkR3"
      }
    },
    {
      "cell_type": "code",
      "source": [
        "quality_plot_df = df.select(col('quality').cast('string')).toPandas()\n",
        "\n",
        "fig = px.histogram(quality_plot_df, x='quality', title='Quality Distribuition', color_discrete_sequence=px.colors.qualitative.G10, category_orders=dict(quality=list(range(1,11))))\n",
        "fig.show(renderer=\"colab\")"
      ],
      "metadata": {
        "colab": {
          "base_uri": "https://localhost:8080/",
          "height": 542
        },
        "id": "sz9XkcCkowwz",
        "outputId": "a22b17dd-0e84-4f6a-d3cb-44240aa8e4df"
      },
      "execution_count": 80,
      "outputs": [
        {
          "output_type": "display_data",
          "data": {
            "text/html": [
              "<html>\n",
              "<head><meta charset=\"utf-8\" /></head>\n",
              "<body>\n",
              "    <div>            <script src=\"https://cdnjs.cloudflare.com/ajax/libs/mathjax/2.7.5/MathJax.js?config=TeX-AMS-MML_SVG\"></script><script type=\"text/javascript\">if (window.MathJax) {MathJax.Hub.Config({SVG: {font: \"STIX-Web\"}});}</script>                <script type=\"text/javascript\">window.PlotlyConfig = {MathJaxConfig: 'local'};</script>\n",
              "        <script src=\"https://cdn.plot.ly/plotly-2.8.3.min.js\"></script>                <div id=\"e409e716-0336-4d8e-a5c4-0bb1328a7a69\" class=\"plotly-graph-div\" style=\"height:525px; width:100%;\"></div>            <script type=\"text/javascript\">                                    window.PLOTLYENV=window.PLOTLYENV || {};                                    if (document.getElementById(\"e409e716-0336-4d8e-a5c4-0bb1328a7a69\")) {                    Plotly.newPlot(                        \"e409e716-0336-4d8e-a5c4-0bb1328a7a69\",                        [{\"alignmentgroup\":\"True\",\"bingroup\":\"x\",\"hovertemplate\":\"quality=%{x}<br>count=%{y}<extra></extra>\",\"legendgroup\":\"\",\"marker\":{\"color\":\"#3366CC\",\"pattern\":{\"shape\":\"\"}},\"name\":\"\",\"offsetgroup\":\"\",\"orientation\":\"v\",\"showlegend\":false,\"x\":[\"5\",\"5\",\"5\",\"6\",\"5\",\"5\",\"5\",\"7\",\"7\",\"5\",\"5\",\"5\",\"5\",\"5\",\"5\",\"5\",\"7\",\"5\",\"4\",\"6\",\"6\",\"5\",\"5\",\"5\",\"6\",\"5\",\"5\",\"5\",\"5\",\"6\",\"5\",\"6\",\"5\",\"6\",\"5\",\"6\",\"6\",\"7\",\"4\",\"5\",\"5\",\"4\",\"6\",\"5\",\"5\",\"4\",\"5\",\"5\",\"5\",\"5\",\"5\",\"6\",\"6\",\"5\",\"6\",\"5\",\"5\",\"5\",\"5\",\"6\",\"5\",\"5\",\"7\",\"5\",\"5\",\"5\",\"5\",\"5\",\"5\",\"6\",\"6\",\"5\",\"5\",\"4\",\"5\",\"5\",\"5\",\"6\",\"5\",\"4\",\"5\",\"5\",\"5\",\"5\",\"6\",\"5\",\"6\",\"5\",\"5\",\"5\",\"5\",\"6\",\"5\",\"5\",\"4\",\"6\",\"5\",\"5\",\"5\",\"6\",\"6\",\"6\",\"6\",\"5\",\"5\",\"5\",\"5\",\"5\",\"6\",\"5\",\"5\",\"5\",\"5\",\"6\",\"5\",\"6\",\"6\",\"6\",\"6\",\"6\",\"5\",\"6\",\"5\",\"5\",\"5\",\"5\",\"5\",\"5\",\"7\",\"5\",\"5\",\"5\",\"5\",\"6\",\"6\",\"5\",\"5\",\"5\",\"5\",\"5\",\"5\",\"5\",\"6\",\"5\",\"6\",\"5\",\"5\",\"5\",\"6\",\"6\",\"6\",\"4\",\"5\",\"5\",\"5\",\"5\",\"5\",\"5\",\"5\",\"6\",\"5\",\"4\",\"6\",\"5\",\"5\",\"5\",\"5\",\"4\",\"6\",\"5\",\"4\",\"6\",\"6\",\"6\",\"5\",\"5\",\"5\",\"6\",\"5\",\"5\",\"5\",\"5\",\"5\",\"5\",\"6\",\"5\",\"5\",\"5\",\"5\",\"5\",\"5\",\"6\",\"5\",\"5\",\"5\",\"5\",\"5\",\"6\",\"7\",\"4\",\"7\",\"5\",\"5\",\"5\",\"6\",\"7\",\"7\",\"5\",\"5\",\"7\",\"6\",\"6\",\"6\",\"5\",\"6\",\"5\",\"5\",\"5\",\"5\",\"5\",\"6\",\"5\",\"5\",\"6\",\"4\",\"6\",\"6\",\"5\",\"6\",\"5\",\"7\",\"6\",\"6\",\"5\",\"6\",\"6\",\"6\",\"6\",\"6\",\"6\",\"5\",\"6\",\"6\",\"7\",\"7\",\"6\",\"5\",\"5\",\"6\",\"6\",\"6\",\"6\",\"5\",\"5\",\"6\",\"5\",\"5\",\"5\",\"5\",\"7\",\"5\",\"4\",\"5\",\"5\",\"5\",\"7\",\"4\",\"8\",\"6\",\"6\",\"6\",\"6\",\"5\",\"5\",\"5\",\"6\",\"6\",\"6\",\"8\",\"7\",\"6\",\"7\",\"5\",\"7\",\"5\",\"5\",\"6\",\"6\",\"7\",\"5\",\"7\",\"5\",\"6\",\"6\",\"6\",\"5\",\"5\",\"5\",\"5\",\"5\",\"6\",\"6\",\"5\",\"5\",\"5\",\"6\",\"5\",\"6\",\"6\",\"6\",\"6\",\"6\",\"6\",\"5\",\"5\",\"6\",\"5\",\"6\",\"7\",\"6\",\"7\",\"5\",\"5\",\"6\",\"6\",\"6\",\"7\",\"5\",\"6\",\"5\",\"6\",\"6\",\"6\",\"5\",\"7\",\"7\",\"6\",\"5\",\"6\",\"7\",\"6\",\"6\",\"6\",\"6\",\"6\",\"5\",\"7\",\"6\",\"6\",\"6\",\"6\",\"6\",\"5\",\"5\",\"6\",\"6\",\"5\",\"7\",\"7\",\"6\",\"5\",\"6\",\"5\",\"5\",\"7\",\"6\",\"7\",\"5\",\"5\",\"7\",\"5\",\"6\",\"6\",\"5\",\"6\",\"7\",\"6\",\"7\",\"6\",\"6\",\"6\",\"6\",\"6\",\"6\",\"5\",\"6\",\"6\",\"6\",\"6\",\"7\",\"8\",\"6\",\"5\",\"5\",\"5\",\"7\",\"5\",\"6\",\"6\",\"5\",\"5\",\"6\",\"6\",\"6\",\"5\",\"6\",\"6\",\"7\",\"6\",\"4\",\"6\",\"5\",\"5\",\"7\",\"5\",\"5\",\"6\",\"5\",\"6\",\"5\",\"7\",\"7\",\"5\",\"7\",\"5\",\"7\",\"6\",\"6\",\"5\",\"6\",\"7\",\"5\",\"6\",\"5\",\"6\",\"5\",\"6\",\"6\",\"6\",\"5\",\"8\",\"6\",\"7\",\"7\",\"7\",\"6\",\"5\",\"5\",\"6\",\"6\",\"6\",\"6\",\"6\",\"7\",\"5\",\"8\",\"5\",\"5\",\"7\",\"3\",\"6\",\"5\",\"5\",\"5\",\"6\",\"5\",\"6\",\"6\",\"6\",\"5\",\"5\",\"6\",\"6\",\"5\",\"6\",\"5\",\"5\",\"6\",\"5\",\"6\",\"5\",\"8\",\"5\",\"5\",\"6\",\"5\",\"5\",\"6\",\"7\",\"6\",\"6\",\"7\",\"7\",\"6\",\"6\",\"8\",\"6\",\"5\",\"8\",\"6\",\"6\",\"7\",\"7\",\"7\",\"7\",\"7\",\"7\",\"6\",\"6\",\"7\",\"5\",\"6\",\"6\",\"7\",\"7\",\"5\",\"6\",\"3\",\"6\",\"5\",\"6\",\"5\",\"5\",\"5\",\"5\",\"5\",\"5\",\"6\",\"6\",\"5\",\"6\",\"5\",\"5\",\"6\",\"6\",\"6\",\"5\",\"6\",\"7\",\"5\",\"5\",\"6\",\"5\",\"6\",\"6\",\"5\",\"6\",\"6\",\"6\",\"6\",\"6\",\"6\",\"6\",\"5\",\"5\",\"5\",\"6\",\"5\",\"6\",\"6\",\"5\",\"5\",\"5\",\"6\",\"6\",\"5\",\"6\",\"6\",\"6\",\"6\",\"6\",\"6\",\"5\",\"4\",\"6\",\"6\",\"4\",\"5\",\"5\",\"6\",\"5\",\"5\",\"5\",\"7\",\"7\",\"6\",\"7\",\"5\",\"8\",\"7\",\"5\",\"6\",\"5\",\"5\",\"5\",\"5\",\"6\",\"6\",\"6\",\"6\",\"4\",\"6\",\"5\",\"6\",\"6\",\"6\",\"7\",\"6\",\"6\",\"6\",\"5\",\"5\",\"6\",\"5\",\"6\",\"5\",\"5\",\"6\",\"5\",\"5\",\"5\",\"5\",\"5\",\"6\",\"5\",\"5\",\"5\",\"5\",\"6\",\"5\",\"6\",\"5\",\"6\",\"4\",\"5\",\"5\",\"5\",\"5\",\"7\",\"6\",\"5\",\"5\",\"5\",\"5\",\"5\",\"7\",\"5\",\"4\",\"7\",\"6\",\"5\",\"5\",\"5\",\"6\",\"5\",\"5\",\"5\",\"7\",\"6\",\"4\",\"6\",\"5\",\"6\",\"6\",\"5\",\"5\",\"6\",\"6\",\"5\",\"6\",\"5\",\"5\",\"5\",\"5\",\"6\",\"5\",\"6\",\"5\",\"5\",\"5\",\"5\",\"6\",\"5\",\"5\",\"5\",\"5\",\"5\",\"5\",\"5\",\"5\",\"3\",\"5\",\"5\",\"5\",\"5\",\"6\",\"6\",\"6\",\"5\",\"6\",\"6\",\"6\",\"6\",\"4\",\"4\",\"5\",\"5\",\"5\",\"6\",\"6\",\"5\",\"5\",\"5\",\"5\",\"5\",\"6\",\"5\",\"5\",\"5\",\"5\",\"5\",\"5\",\"5\",\"5\",\"4\",\"5\",\"6\",\"5\",\"5\",\"6\",\"5\",\"5\",\"5\",\"5\",\"5\",\"5\",\"5\",\"6\",\"5\",\"5\",\"6\",\"5\",\"5\",\"5\",\"5\",\"6\",\"6\",\"5\",\"6\",\"6\",\"5\",\"5\",\"5\",\"5\",\"6\",\"6\",\"6\",\"5\",\"5\",\"5\",\"5\",\"5\",\"6\",\"5\",\"6\",\"6\",\"5\",\"5\",\"6\",\"5\",\"6\",\"5\",\"5\",\"6\",\"6\",\"5\",\"6\",\"6\",\"5\",\"5\",\"6\",\"5\",\"5\",\"5\",\"5\",\"5\",\"5\",\"6\",\"6\",\"5\",\"6\",\"5\",\"6\",\"5\",\"6\",\"5\",\"5\",\"7\",\"6\",\"6\",\"5\",\"5\",\"7\",\"6\",\"6\",\"7\",\"7\",\"7\",\"5\",\"6\",\"5\",\"6\",\"5\",\"4\",\"6\",\"5\",\"6\",\"6\",\"5\",\"5\",\"5\",\"7\",\"5\",\"5\",\"5\",\"5\",\"7\",\"5\",\"8\",\"6\",\"4\",\"6\",\"3\",\"4\",\"5\",\"5\",\"7\",\"7\",\"7\",\"5\",\"7\",\"5\",\"6\",\"5\",\"6\",\"5\",\"5\",\"6\",\"5\",\"5\",\"5\",\"5\",\"5\",\"6\",\"6\",\"7\",\"6\",\"7\",\"7\",\"6\",\"5\",\"6\",\"5\",\"5\",\"5\",\"5\",\"6\",\"6\",\"6\",\"6\",\"6\",\"5\",\"4\",\"7\",\"7\",\"7\",\"4\",\"6\",\"6\",\"5\",\"5\",\"6\",\"6\",\"5\",\"6\",\"5\",\"6\",\"7\",\"6\",\"5\",\"5\",\"5\",\"6\",\"5\",\"6\",\"6\",\"7\",\"6\",\"7\",\"3\",\"5\",\"7\",\"7\",\"7\",\"7\",\"5\",\"5\",\"6\",\"6\",\"6\",\"6\",\"6\",\"6\",\"7\",\"6\",\"6\",\"5\",\"6\",\"6\",\"6\",\"5\",\"6\",\"6\",\"6\",\"5\",\"7\",\"6\",\"4\",\"5\",\"7\",\"5\",\"5\",\"6\",\"5\",\"5\",\"6\",\"6\",\"4\",\"7\",\"5\",\"7\",\"7\",\"7\",\"7\",\"7\",\"7\",\"7\",\"7\",\"7\",\"7\",\"7\",\"7\",\"7\",\"7\",\"6\",\"5\",\"6\",\"6\",\"7\",\"5\",\"6\",\"5\",\"5\",\"6\",\"6\",\"6\",\"7\",\"5\",\"6\",\"5\",\"6\",\"6\",\"7\",\"5\",\"7\",\"5\",\"5\",\"5\",\"7\",\"5\",\"6\",\"5\",\"6\",\"6\",\"5\",\"6\",\"7\",\"5\",\"5\",\"6\",\"5\",\"5\",\"6\",\"5\",\"5\",\"6\",\"7\",\"7\",\"6\",\"6\",\"7\",\"7\",\"7\",\"7\",\"5\",\"7\",\"7\",\"7\",\"7\",\"5\",\"7\",\"6\",\"5\",\"6\",\"6\",\"6\",\"7\",\"6\",\"6\",\"5\",\"6\",\"6\",\"5\",\"6\",\"7\",\"6\",\"6\",\"5\",\"6\",\"7\",\"7\",\"7\",\"5\",\"6\",\"6\",\"7\",\"7\",\"5\",\"7\",\"6\",\"5\",\"6\",\"6\",\"7\",\"6\",\"6\",\"6\",\"5\",\"6\",\"6\",\"5\",\"5\",\"5\",\"7\",\"6\",\"6\",\"7\",\"5\",\"7\",\"7\",\"6\",\"8\",\"6\",\"6\",\"6\",\"6\",\"7\",\"7\",\"7\",\"5\",\"7\",\"5\",\"6\",\"6\",\"5\",\"7\",\"6\",\"5\",\"5\",\"7\",\"6\",\"7\",\"6\",\"6\",\"6\",\"5\",\"7\",\"6\",\"7\",\"7\",\"8\",\"6\",\"6\",\"7\",\"6\",\"5\",\"6\",\"5\",\"7\",\"5\",\"6\",\"6\",\"6\",\"6\",\"6\",\"5\",\"6\",\"7\",\"5\",\"6\",\"6\",\"7\",\"6\",\"6\",\"6\",\"6\",\"6\",\"6\",\"6\",\"5\",\"8\",\"6\",\"6\",\"6\",\"4\",\"7\",\"6\",\"6\",\"5\",\"6\",\"6\",\"5\",\"7\",\"7\",\"7\",\"6\",\"6\",\"6\",\"5\",\"6\",\"6\",\"6\",\"6\",\"6\",\"5\",\"6\",\"6\",\"7\",\"6\",\"6\",\"7\",\"6\",\"5\",\"6\",\"6\",\"5\",\"7\",\"7\",\"6\",\"5\",\"7\",\"6\",\"7\",\"5\",\"5\",\"5\",\"5\",\"7\",\"6\",\"6\",\"6\",\"6\",\"6\",\"6\",\"6\",\"6\",\"4\",\"7\",\"5\",\"6\",\"6\",\"5\",\"6\",\"5\",\"5\",\"6\",\"5\",\"6\",\"5\",\"4\",\"6\",\"5\",\"7\",\"5\",\"6\",\"6\",\"6\",\"6\",\"6\",\"6\",\"6\",\"7\",\"8\",\"5\",\"7\",\"7\",\"7\",\"5\",\"7\",\"7\",\"6\",\"5\",\"6\",\"6\",\"6\",\"6\",\"6\",\"6\",\"6\",\"6\",\"6\",\"6\",\"6\",\"6\",\"6\",\"5\",\"5\",\"5\",\"7\",\"5\",\"6\",\"5\",\"5\",\"4\",\"6\",\"4\",\"6\",\"6\",\"4\",\"4\",\"5\",\"5\",\"6\",\"5\",\"6\",\"5\",\"5\",\"5\",\"6\",\"6\",\"6\",\"5\",\"5\",\"5\",\"5\",\"5\",\"5\",\"6\",\"6\",\"6\",\"5\",\"4\",\"5\",\"4\",\"6\",\"6\",\"6\",\"6\",\"6\",\"8\",\"6\",\"6\",\"5\",\"5\",\"6\",\"6\",\"4\",\"6\",\"6\",\"7\",\"6\",\"6\",\"6\",\"6\",\"5\",\"5\",\"6\",\"5\",\"5\",\"5\",\"5\",\"6\",\"6\",\"4\",\"6\",\"5\",\"5\",\"6\",\"6\",\"3\",\"6\",\"6\",\"6\",\"5\",\"5\",\"5\",\"5\",\"4\",\"5\",\"5\",\"5\",\"6\",\"5\",\"6\",\"6\",\"6\",\"6\",\"6\",\"6\",\"6\",\"5\",\"6\",\"5\",\"7\",\"6\",\"6\",\"6\",\"6\",\"5\",\"6\",\"6\",\"5\",\"6\",\"5\",\"5\",\"6\",\"5\",\"5\",\"5\",\"6\",\"6\",\"6\",\"6\",\"6\",\"5\",\"6\",\"5\",\"5\",\"5\",\"5\",\"5\",\"6\",\"5\",\"5\",\"5\",\"5\",\"5\",\"6\",\"5\",\"6\",\"5\",\"5\",\"6\",\"4\",\"6\",\"5\",\"5\",\"6\",\"6\",\"4\",\"5\",\"6\",\"5\",\"5\",\"3\",\"5\",\"5\",\"6\",\"6\",\"6\",\"6\",\"5\",\"5\",\"5\",\"5\",\"5\",\"5\",\"5\",\"5\",\"5\",\"6\",\"5\",\"5\",\"5\",\"5\",\"6\",\"5\",\"5\",\"7\",\"6\",\"5\",\"5\",\"6\",\"8\",\"6\",\"7\",\"6\",\"6\",\"7\",\"6\",\"6\",\"6\",\"6\",\"5\",\"5\",\"5\",\"5\",\"7\",\"5\",\"5\",\"5\",\"5\",\"6\",\"4\",\"6\",\"6\",\"6\",\"5\",\"5\",\"5\",\"5\",\"6\",\"6\",\"7\",\"6\",\"6\",\"5\",\"5\",\"5\",\"6\",\"7\",\"6\",\"5\",\"5\",\"6\",\"6\",\"5\",\"5\",\"5\",\"8\",\"7\",\"7\",\"7\",\"5\",\"6\",\"6\",\"6\",\"5\",\"5\",\"7\",\"6\",\"4\",\"6\",\"6\",\"5\",\"5\",\"7\",\"4\",\"7\",\"3\",\"5\",\"5\",\"6\",\"5\",\"5\",\"7\",\"5\",\"7\",\"3\",\"5\",\"4\",\"5\",\"4\",\"5\",\"4\",\"5\",\"5\",\"5\",\"5\",\"6\",\"6\",\"5\",\"5\",\"5\",\"7\",\"6\",\"5\",\"6\",\"6\",\"6\",\"5\",\"5\",\"5\",\"6\",\"6\",\"3\",\"6\",\"6\",\"6\",\"5\",\"6\",\"5\",\"6\",\"6\",\"6\",\"6\",\"5\",\"6\",\"5\",\"5\",\"6\",\"4\",\"5\",\"5\",\"6\",\"5\",\"6\",\"6\",\"6\",\"6\",\"6\",\"5\",\"6\",\"5\",\"7\",\"6\",\"6\",\"6\",\"5\",\"5\",\"6\",\"7\",\"6\",\"6\",\"7\",\"6\",\"5\",\"5\",\"5\",\"8\",\"5\",\"5\",\"6\",\"5\",\"6\",\"7\",\"5\",\"6\",\"5\",\"5\",\"5\",\"5\",\"5\",\"5\",\"5\",\"6\",\"6\",\"5\",\"5\",\"6\",\"6\",\"6\",\"5\",\"6\",\"6\",\"6\",\"6\",\"6\",\"6\",\"5\",\"6\",\"5\",\"5\",\"5\",\"7\",\"6\",\"6\",\"6\",\"6\",\"5\",\"6\",\"6\",\"6\",\"6\",\"5\",\"6\",\"6\",\"5\",\"6\"],\"xaxis\":\"x\",\"yaxis\":\"y\",\"type\":\"histogram\"}],                        {\"template\":{\"data\":{\"bar\":[{\"error_x\":{\"color\":\"#2a3f5f\"},\"error_y\":{\"color\":\"#2a3f5f\"},\"marker\":{\"line\":{\"color\":\"#E5ECF6\",\"width\":0.5},\"pattern\":{\"fillmode\":\"overlay\",\"size\":10,\"solidity\":0.2}},\"type\":\"bar\"}],\"barpolar\":[{\"marker\":{\"line\":{\"color\":\"#E5ECF6\",\"width\":0.5},\"pattern\":{\"fillmode\":\"overlay\",\"size\":10,\"solidity\":0.2}},\"type\":\"barpolar\"}],\"carpet\":[{\"aaxis\":{\"endlinecolor\":\"#2a3f5f\",\"gridcolor\":\"white\",\"linecolor\":\"white\",\"minorgridcolor\":\"white\",\"startlinecolor\":\"#2a3f5f\"},\"baxis\":{\"endlinecolor\":\"#2a3f5f\",\"gridcolor\":\"white\",\"linecolor\":\"white\",\"minorgridcolor\":\"white\",\"startlinecolor\":\"#2a3f5f\"},\"type\":\"carpet\"}],\"choropleth\":[{\"colorbar\":{\"outlinewidth\":0,\"ticks\":\"\"},\"type\":\"choropleth\"}],\"contour\":[{\"colorbar\":{\"outlinewidth\":0,\"ticks\":\"\"},\"colorscale\":[[0.0,\"#0d0887\"],[0.1111111111111111,\"#46039f\"],[0.2222222222222222,\"#7201a8\"],[0.3333333333333333,\"#9c179e\"],[0.4444444444444444,\"#bd3786\"],[0.5555555555555556,\"#d8576b\"],[0.6666666666666666,\"#ed7953\"],[0.7777777777777778,\"#fb9f3a\"],[0.8888888888888888,\"#fdca26\"],[1.0,\"#f0f921\"]],\"type\":\"contour\"}],\"contourcarpet\":[{\"colorbar\":{\"outlinewidth\":0,\"ticks\":\"\"},\"type\":\"contourcarpet\"}],\"heatmap\":[{\"colorbar\":{\"outlinewidth\":0,\"ticks\":\"\"},\"colorscale\":[[0.0,\"#0d0887\"],[0.1111111111111111,\"#46039f\"],[0.2222222222222222,\"#7201a8\"],[0.3333333333333333,\"#9c179e\"],[0.4444444444444444,\"#bd3786\"],[0.5555555555555556,\"#d8576b\"],[0.6666666666666666,\"#ed7953\"],[0.7777777777777778,\"#fb9f3a\"],[0.8888888888888888,\"#fdca26\"],[1.0,\"#f0f921\"]],\"type\":\"heatmap\"}],\"heatmapgl\":[{\"colorbar\":{\"outlinewidth\":0,\"ticks\":\"\"},\"colorscale\":[[0.0,\"#0d0887\"],[0.1111111111111111,\"#46039f\"],[0.2222222222222222,\"#7201a8\"],[0.3333333333333333,\"#9c179e\"],[0.4444444444444444,\"#bd3786\"],[0.5555555555555556,\"#d8576b\"],[0.6666666666666666,\"#ed7953\"],[0.7777777777777778,\"#fb9f3a\"],[0.8888888888888888,\"#fdca26\"],[1.0,\"#f0f921\"]],\"type\":\"heatmapgl\"}],\"histogram\":[{\"marker\":{\"pattern\":{\"fillmode\":\"overlay\",\"size\":10,\"solidity\":0.2}},\"type\":\"histogram\"}],\"histogram2d\":[{\"colorbar\":{\"outlinewidth\":0,\"ticks\":\"\"},\"colorscale\":[[0.0,\"#0d0887\"],[0.1111111111111111,\"#46039f\"],[0.2222222222222222,\"#7201a8\"],[0.3333333333333333,\"#9c179e\"],[0.4444444444444444,\"#bd3786\"],[0.5555555555555556,\"#d8576b\"],[0.6666666666666666,\"#ed7953\"],[0.7777777777777778,\"#fb9f3a\"],[0.8888888888888888,\"#fdca26\"],[1.0,\"#f0f921\"]],\"type\":\"histogram2d\"}],\"histogram2dcontour\":[{\"colorbar\":{\"outlinewidth\":0,\"ticks\":\"\"},\"colorscale\":[[0.0,\"#0d0887\"],[0.1111111111111111,\"#46039f\"],[0.2222222222222222,\"#7201a8\"],[0.3333333333333333,\"#9c179e\"],[0.4444444444444444,\"#bd3786\"],[0.5555555555555556,\"#d8576b\"],[0.6666666666666666,\"#ed7953\"],[0.7777777777777778,\"#fb9f3a\"],[0.8888888888888888,\"#fdca26\"],[1.0,\"#f0f921\"]],\"type\":\"histogram2dcontour\"}],\"mesh3d\":[{\"colorbar\":{\"outlinewidth\":0,\"ticks\":\"\"},\"type\":\"mesh3d\"}],\"parcoords\":[{\"line\":{\"colorbar\":{\"outlinewidth\":0,\"ticks\":\"\"}},\"type\":\"parcoords\"}],\"pie\":[{\"automargin\":true,\"type\":\"pie\"}],\"scatter\":[{\"marker\":{\"colorbar\":{\"outlinewidth\":0,\"ticks\":\"\"}},\"type\":\"scatter\"}],\"scatter3d\":[{\"line\":{\"colorbar\":{\"outlinewidth\":0,\"ticks\":\"\"}},\"marker\":{\"colorbar\":{\"outlinewidth\":0,\"ticks\":\"\"}},\"type\":\"scatter3d\"}],\"scattercarpet\":[{\"marker\":{\"colorbar\":{\"outlinewidth\":0,\"ticks\":\"\"}},\"type\":\"scattercarpet\"}],\"scattergeo\":[{\"marker\":{\"colorbar\":{\"outlinewidth\":0,\"ticks\":\"\"}},\"type\":\"scattergeo\"}],\"scattergl\":[{\"marker\":{\"colorbar\":{\"outlinewidth\":0,\"ticks\":\"\"}},\"type\":\"scattergl\"}],\"scattermapbox\":[{\"marker\":{\"colorbar\":{\"outlinewidth\":0,\"ticks\":\"\"}},\"type\":\"scattermapbox\"}],\"scatterpolar\":[{\"marker\":{\"colorbar\":{\"outlinewidth\":0,\"ticks\":\"\"}},\"type\":\"scatterpolar\"}],\"scatterpolargl\":[{\"marker\":{\"colorbar\":{\"outlinewidth\":0,\"ticks\":\"\"}},\"type\":\"scatterpolargl\"}],\"scatterternary\":[{\"marker\":{\"colorbar\":{\"outlinewidth\":0,\"ticks\":\"\"}},\"type\":\"scatterternary\"}],\"surface\":[{\"colorbar\":{\"outlinewidth\":0,\"ticks\":\"\"},\"colorscale\":[[0.0,\"#0d0887\"],[0.1111111111111111,\"#46039f\"],[0.2222222222222222,\"#7201a8\"],[0.3333333333333333,\"#9c179e\"],[0.4444444444444444,\"#bd3786\"],[0.5555555555555556,\"#d8576b\"],[0.6666666666666666,\"#ed7953\"],[0.7777777777777778,\"#fb9f3a\"],[0.8888888888888888,\"#fdca26\"],[1.0,\"#f0f921\"]],\"type\":\"surface\"}],\"table\":[{\"cells\":{\"fill\":{\"color\":\"#EBF0F8\"},\"line\":{\"color\":\"white\"}},\"header\":{\"fill\":{\"color\":\"#C8D4E3\"},\"line\":{\"color\":\"white\"}},\"type\":\"table\"}]},\"layout\":{\"annotationdefaults\":{\"arrowcolor\":\"#2a3f5f\",\"arrowhead\":0,\"arrowwidth\":1},\"autotypenumbers\":\"strict\",\"coloraxis\":{\"colorbar\":{\"outlinewidth\":0,\"ticks\":\"\"}},\"colorscale\":{\"diverging\":[[0,\"#8e0152\"],[0.1,\"#c51b7d\"],[0.2,\"#de77ae\"],[0.3,\"#f1b6da\"],[0.4,\"#fde0ef\"],[0.5,\"#f7f7f7\"],[0.6,\"#e6f5d0\"],[0.7,\"#b8e186\"],[0.8,\"#7fbc41\"],[0.9,\"#4d9221\"],[1,\"#276419\"]],\"sequential\":[[0.0,\"#0d0887\"],[0.1111111111111111,\"#46039f\"],[0.2222222222222222,\"#7201a8\"],[0.3333333333333333,\"#9c179e\"],[0.4444444444444444,\"#bd3786\"],[0.5555555555555556,\"#d8576b\"],[0.6666666666666666,\"#ed7953\"],[0.7777777777777778,\"#fb9f3a\"],[0.8888888888888888,\"#fdca26\"],[1.0,\"#f0f921\"]],\"sequentialminus\":[[0.0,\"#0d0887\"],[0.1111111111111111,\"#46039f\"],[0.2222222222222222,\"#7201a8\"],[0.3333333333333333,\"#9c179e\"],[0.4444444444444444,\"#bd3786\"],[0.5555555555555556,\"#d8576b\"],[0.6666666666666666,\"#ed7953\"],[0.7777777777777778,\"#fb9f3a\"],[0.8888888888888888,\"#fdca26\"],[1.0,\"#f0f921\"]]},\"colorway\":[\"#636efa\",\"#EF553B\",\"#00cc96\",\"#ab63fa\",\"#FFA15A\",\"#19d3f3\",\"#FF6692\",\"#B6E880\",\"#FF97FF\",\"#FECB52\"],\"font\":{\"color\":\"#2a3f5f\"},\"geo\":{\"bgcolor\":\"white\",\"lakecolor\":\"white\",\"landcolor\":\"#E5ECF6\",\"showlakes\":true,\"showland\":true,\"subunitcolor\":\"white\"},\"hoverlabel\":{\"align\":\"left\"},\"hovermode\":\"closest\",\"mapbox\":{\"style\":\"light\"},\"paper_bgcolor\":\"white\",\"plot_bgcolor\":\"#E5ECF6\",\"polar\":{\"angularaxis\":{\"gridcolor\":\"white\",\"linecolor\":\"white\",\"ticks\":\"\"},\"bgcolor\":\"#E5ECF6\",\"radialaxis\":{\"gridcolor\":\"white\",\"linecolor\":\"white\",\"ticks\":\"\"}},\"scene\":{\"xaxis\":{\"backgroundcolor\":\"#E5ECF6\",\"gridcolor\":\"white\",\"gridwidth\":2,\"linecolor\":\"white\",\"showbackground\":true,\"ticks\":\"\",\"zerolinecolor\":\"white\"},\"yaxis\":{\"backgroundcolor\":\"#E5ECF6\",\"gridcolor\":\"white\",\"gridwidth\":2,\"linecolor\":\"white\",\"showbackground\":true,\"ticks\":\"\",\"zerolinecolor\":\"white\"},\"zaxis\":{\"backgroundcolor\":\"#E5ECF6\",\"gridcolor\":\"white\",\"gridwidth\":2,\"linecolor\":\"white\",\"showbackground\":true,\"ticks\":\"\",\"zerolinecolor\":\"white\"}},\"shapedefaults\":{\"line\":{\"color\":\"#2a3f5f\"}},\"ternary\":{\"aaxis\":{\"gridcolor\":\"white\",\"linecolor\":\"white\",\"ticks\":\"\"},\"baxis\":{\"gridcolor\":\"white\",\"linecolor\":\"white\",\"ticks\":\"\"},\"bgcolor\":\"#E5ECF6\",\"caxis\":{\"gridcolor\":\"white\",\"linecolor\":\"white\",\"ticks\":\"\"}},\"title\":{\"x\":0.05},\"xaxis\":{\"automargin\":true,\"gridcolor\":\"white\",\"linecolor\":\"white\",\"ticks\":\"\",\"title\":{\"standoff\":15},\"zerolinecolor\":\"white\",\"zerolinewidth\":2},\"yaxis\":{\"automargin\":true,\"gridcolor\":\"white\",\"linecolor\":\"white\",\"ticks\":\"\",\"title\":{\"standoff\":15},\"zerolinecolor\":\"white\",\"zerolinewidth\":2}}},\"xaxis\":{\"anchor\":\"y\",\"domain\":[0.0,1.0],\"title\":{\"text\":\"quality\"},\"categoryorder\":\"array\",\"categoryarray\":[1,2,3,4,5,6,7,8,9,10]},\"yaxis\":{\"anchor\":\"x\",\"domain\":[0.0,1.0],\"title\":{\"text\":\"count\"}},\"legend\":{\"tracegroupgap\":0},\"title\":{\"text\":\"Quality Distribuition\"},\"barmode\":\"relative\"},                        {\"responsive\": true}                    ).then(function(){\n",
              "                            \n",
              "var gd = document.getElementById('e409e716-0336-4d8e-a5c4-0bb1328a7a69');\n",
              "var x = new MutationObserver(function (mutations, observer) {{\n",
              "        var display = window.getComputedStyle(gd).display;\n",
              "        if (!display || display === 'none') {{\n",
              "            console.log([gd, 'removed!']);\n",
              "            Plotly.purge(gd);\n",
              "            observer.disconnect();\n",
              "        }}\n",
              "}});\n",
              "\n",
              "// Listen for the removal of the full notebook cells\n",
              "var notebookContainer = gd.closest('#notebook-container');\n",
              "if (notebookContainer) {{\n",
              "    x.observe(notebookContainer, {childList: true});\n",
              "}}\n",
              "\n",
              "// Listen for the clearing of the current output cell\n",
              "var outputEl = gd.closest('.output');\n",
              "if (outputEl) {{\n",
              "    x.observe(outputEl, {childList: true});\n",
              "}}\n",
              "\n",
              "                        })                };                            </script>        </div>\n",
              "</body>\n",
              "</html>"
            ]
          },
          "metadata": {}
        }
      ]
    },
    {
      "cell_type": "markdown",
      "source": [
        "### Features Distribuition"
      ],
      "metadata": {
        "id": "qkjG7XfIUyGH"
      }
    },
    {
      "cell_type": "code",
      "source": [
        "dataset.drop(labels='quality', axis=1).hist(bins=20, figsize=(20,20), color='#3366cc')"
      ],
      "metadata": {
        "colab": {
          "base_uri": "https://localhost:8080/",
          "height": 1000
        },
        "id": "6dJsAgzFrShO",
        "outputId": "e4678070-9de1-4eb1-b8e6-d702478fcf5b"
      },
      "execution_count": 85,
      "outputs": [
        {
          "output_type": "execute_result",
          "data": {
            "text/plain": [
              "array([[<matplotlib.axes._subplots.AxesSubplot object at 0x7f3844601c90>,\n",
              "        <matplotlib.axes._subplots.AxesSubplot object at 0x7f3844886710>,\n",
              "        <matplotlib.axes._subplots.AxesSubplot object at 0x7f3843e81ad0>],\n",
              "       [<matplotlib.axes._subplots.AxesSubplot object at 0x7f3843d09750>,\n",
              "        <matplotlib.axes._subplots.AxesSubplot object at 0x7f3843c091d0>,\n",
              "        <matplotlib.axes._subplots.AxesSubplot object at 0x7f384420a910>],\n",
              "       [<matplotlib.axes._subplots.AxesSubplot object at 0x7f38447d2d90>,\n",
              "        <matplotlib.axes._subplots.AxesSubplot object at 0x7f3844bf0410>,\n",
              "        <matplotlib.axes._subplots.AxesSubplot object at 0x7f3844bf0290>],\n",
              "       [<matplotlib.axes._subplots.AxesSubplot object at 0x7f38436b24d0>,\n",
              "        <matplotlib.axes._subplots.AxesSubplot object at 0x7f384368bb10>,\n",
              "        <matplotlib.axes._subplots.AxesSubplot object at 0x7f3843659610>]],\n",
              "      dtype=object)"
            ]
          },
          "metadata": {},
          "execution_count": 85
        },
        {
          "output_type": "display_data",
          "data": {
            "image/png": "[encoded data removed]",
            "text/plain": [
              "<Figure size 1440x1440 with 12 Axes>"
            ]
          },
          "metadata": {
            "needs_background": "light"
          }
        }
      ]
    },
    {
      "cell_type": "markdown",
      "source": [
        "### Correlation Heatmap"
      ],
      "metadata": {
        "id": "bgipkPESVPQc"
      }
    },
    {
      "cell_type": "code",
      "source": [
        "dataset.columns.to_list()"
      ],
      "metadata": {
        "colab": {
          "base_uri": "https://localhost:8080/"
        },
        "id": "dD5H8MfPsq66",
        "outputId": "bf055767-36d1-4724-a9ed-82992d47267c"
      },
      "execution_count": 60,
      "outputs": [
        {
          "output_type": "execute_result",
          "data": {
            "text/plain": [
              "['fixed acidity',\n",
              " 'volatile acidity',\n",
              " 'citric acid',\n",
              " 'residual sugar',\n",
              " 'chlorides',\n",
              " 'free sulfur dioxide',\n",
              " 'total sulfur dioxide',\n",
              " 'density',\n",
              " 'pH',\n",
              " 'sulphates',\n",
              " 'alcohol',\n",
              " 'quality']"
            ]
          },
          "metadata": {},
          "execution_count": 60
        }
      ]
    },
    {
      "cell_type": "code",
      "source": [
        "import plotly.graph_objects as go\n",
        "\n",
        "correlation = dataset.corr()\n",
        "\n",
        "numeric_columns = dataset.columns.to_list()\n",
        "\n",
        "corr_heatmap = go.Figure(data=go.Heatmap(\n",
        "                   colorscale=px.colors.sequential.Blues,\n",
        "                   z=correlation.values,\n",
        "                   x=numeric_columns,\n",
        "                   y=numeric_columns,\n",
        "                   hoverongaps = False))\n",
        "corr_heatmap.update_layout(title='Correlation Heatmap')\n",
        "corr_heatmap.show(renderer='colab')"
      ],
      "metadata": {
        "colab": {
          "base_uri": "https://localhost:8080/",
          "height": 542
        },
        "id": "4oZ79auxskxA",
        "outputId": "0792bd6f-2a02-49f5-d340-d05615e22d8f"
      },
      "execution_count": 61,
      "outputs": [
        {
          "output_type": "display_data",
          "data": {
            "text/html": [
              "<html>\n",
              "<head><meta charset=\"utf-8\" /></head>\n",
              "<body>\n",
              "    <div>            <script src=\"https://cdnjs.cloudflare.com/ajax/libs/mathjax/2.7.5/MathJax.js?config=TeX-AMS-MML_SVG\"></script><script type=\"text/javascript\">if (window.MathJax) {MathJax.Hub.Config({SVG: {font: \"STIX-Web\"}});}</script>                <script type=\"text/javascript\">window.PlotlyConfig = {MathJaxConfig: 'local'};</script>\n",
              "        <script src=\"https://cdn.plot.ly/plotly-2.8.3.min.js\"></script>                <div id=\"41acb981-e44e-4bd4-be9f-5274c3060810\" class=\"plotly-graph-div\" style=\"height:525px; width:100%;\"></div>            <script type=\"text/javascript\">                                    window.PLOTLYENV=window.PLOTLYENV || {};                                    if (document.getElementById(\"41acb981-e44e-4bd4-be9f-5274c3060810\")) {                    Plotly.newPlot(                        \"41acb981-e44e-4bd4-be9f-5274c3060810\",                        [{\"colorscale\":[[0.0,\"rgb(247,251,255)\"],[0.125,\"rgb(222,235,247)\"],[0.25,\"rgb(198,219,239)\"],[0.375,\"rgb(158,202,225)\"],[0.5,\"rgb(107,174,214)\"],[0.625,\"rgb(66,146,198)\"],[0.75,\"rgb(33,113,181)\"],[0.875,\"rgb(8,81,156)\"],[1.0,\"rgb(8,48,107)\"]],\"hoverongaps\":false,\"x\":[\"fixed acidity\",\"volatile acidity\",\"citric acid\",\"residual sugar\",\"chlorides\",\"free sulfur dioxide\",\"total sulfur dioxide\",\"density\",\"pH\",\"sulphates\",\"alcohol\",\"quality\"],\"y\":[\"fixed acidity\",\"volatile acidity\",\"citric acid\",\"residual sugar\",\"chlorides\",\"free sulfur dioxide\",\"total sulfur dioxide\",\"density\",\"pH\",\"sulphates\",\"alcohol\",\"quality\"],\"z\":[[1.0,-0.2561308919496685,0.6717034325527236,0.11477671968781705,0.09370518731375979,-0.15379419312144108,-0.11318144155719885,0.6680469361605643,-0.6829781850847095,0.18300566537092444,-0.06166828296517742,0.12405164828920061],[-0.2561308919496685,1.0,-0.5524956821155668,0.0019178846353105287,0.061297770822372775,-0.010503827195297705,0.07647000802097575,0.0220262853224828,0.23493727093245506,-0.26098668209881615,-0.20228802542695784,-0.3905577809088294],[0.6717034325527236,-0.5524956821155668,1.0,0.1435771628434367,0.20382291321668866,-0.060978126660153356,0.0355330269031868,0.36494712457457934,-0.5419041363325632,0.31277004199402325,0.10990324337400617,0.22637251334743033],[0.11477671968781705,0.0019178846353105287,0.1435771628434367,1.0,0.05560953603225352,0.18704899537393438,0.2030278832873898,0.35528339965160505,-0.08565241213406359,0.005527121289101434,0.042075441376938014,0.013731637021376546],[0.09370518731375979,0.061297770822372775,0.20382291321668866,0.05560953603225352,1.0,0.005562145616288524,0.04740046747556032,0.2006324806718492,-0.26502613588923674,0.37126047824120084,-0.22114054395058405,-0.12890655882054267],[-0.15379419312144108,-0.010503827195297705,-0.060978126660153356,0.18704899537393438,0.005562145616288524,1.0,0.667666450481023,-0.021945753007277188,0.07037751606102746,0.051657566470724635,-0.06940836283497392,-0.05065605724427594],[-0.11318144155719885,0.07647000802097575,0.0355330269031868,0.2030278832873898,0.04740046747556032,0.667666450481023,1.0,0.07126991575298039,-0.06649455777391722,0.042946832932183286,-0.20565395309730258,-0.1851002889265377],[0.6680469361605643,0.0220262853224828,0.36494712457457934,0.35528339965160505,0.2006324806718492,-0.021945753007277188,0.07126991575298039,1.0,-0.341698855050225,0.14850662690678001,-0.4961796190166168,-0.17491902557562117],[-0.6829781850847095,0.23493727093245506,-0.5419041363325632,-0.08565241213406359,-0.26502613588923674,0.07037751606102746,-0.06649455777391722,-0.341698855050225,1.0,-0.19664758945951463,0.20563252037950575,-0.057731392871791666],[0.18300566537092444,-0.26098668209881615,0.31277004199402325,0.005527121289101434,0.37126047824120084,0.051657566470724635,0.042946832932183286,0.14850662690678001,-0.19664758945951463,1.0,0.0935947568963578,0.25139707933995376],[-0.06166828296517742,-0.20228802542695784,0.10990324337400617,0.042075441376938014,-0.22114054395058405,-0.06940836283497392,-0.20565395309730258,-0.4961796190166168,0.20563252037950575,0.0935947568963578,1.0,0.4761663329041867],[0.12405164828920061,-0.3905577809088294,0.22637251334743033,0.013731637021376546,-0.12890655882054267,-0.05065605724427594,-0.1851002889265377,-0.17491902557562117,-0.057731392871791666,0.25139707933995376,0.4761663329041867,1.0]],\"type\":\"heatmap\"}],                        {\"template\":{\"data\":{\"bar\":[{\"error_x\":{\"color\":\"#2a3f5f\"},\"error_y\":{\"color\":\"#2a3f5f\"},\"marker\":{\"line\":{\"color\":\"#E5ECF6\",\"width\":0.5},\"pattern\":{\"fillmode\":\"overlay\",\"size\":10,\"solidity\":0.2}},\"type\":\"bar\"}],\"barpolar\":[{\"marker\":{\"line\":{\"color\":\"#E5ECF6\",\"width\":0.5},\"pattern\":{\"fillmode\":\"overlay\",\"size\":10,\"solidity\":0.2}},\"type\":\"barpolar\"}],\"carpet\":[{\"aaxis\":{\"endlinecolor\":\"#2a3f5f\",\"gridcolor\":\"white\",\"linecolor\":\"white\",\"minorgridcolor\":\"white\",\"startlinecolor\":\"#2a3f5f\"},\"baxis\":{\"endlinecolor\":\"#2a3f5f\",\"gridcolor\":\"white\",\"linecolor\":\"white\",\"minorgridcolor\":\"white\",\"startlinecolor\":\"#2a3f5f\"},\"type\":\"carpet\"}],\"choropleth\":[{\"colorbar\":{\"outlinewidth\":0,\"ticks\":\"\"},\"type\":\"choropleth\"}],\"contour\":[{\"colorbar\":{\"outlinewidth\":0,\"ticks\":\"\"},\"colorscale\":[[0.0,\"#0d0887\"],[0.1111111111111111,\"#46039f\"],[0.2222222222222222,\"#7201a8\"],[0.3333333333333333,\"#9c179e\"],[0.4444444444444444,\"#bd3786\"],[0.5555555555555556,\"#d8576b\"],[0.6666666666666666,\"#ed7953\"],[0.7777777777777778,\"#fb9f3a\"],[0.8888888888888888,\"#fdca26\"],[1.0,\"#f0f921\"]],\"type\":\"contour\"}],\"contourcarpet\":[{\"colorbar\":{\"outlinewidth\":0,\"ticks\":\"\"},\"type\":\"contourcarpet\"}],\"heatmap\":[{\"colorbar\":{\"outlinewidth\":0,\"ticks\":\"\"},\"colorscale\":[[0.0,\"#0d0887\"],[0.1111111111111111,\"#46039f\"],[0.2222222222222222,\"#7201a8\"],[0.3333333333333333,\"#9c179e\"],[0.4444444444444444,\"#bd3786\"],[0.5555555555555556,\"#d8576b\"],[0.6666666666666666,\"#ed7953\"],[0.7777777777777778,\"#fb9f3a\"],[0.8888888888888888,\"#fdca26\"],[1.0,\"#f0f921\"]],\"type\":\"heatmap\"}],\"heatmapgl\":[{\"colorbar\":{\"outlinewidth\":0,\"ticks\":\"\"},\"colorscale\":[[0.0,\"#0d0887\"],[0.1111111111111111,\"#46039f\"],[0.2222222222222222,\"#7201a8\"],[0.3333333333333333,\"#9c179e\"],[0.4444444444444444,\"#bd3786\"],[0.5555555555555556,\"#d8576b\"],[0.6666666666666666,\"#ed7953\"],[0.7777777777777778,\"#fb9f3a\"],[0.8888888888888888,\"#fdca26\"],[1.0,\"#f0f921\"]],\"type\":\"heatmapgl\"}],\"histogram\":[{\"marker\":{\"pattern\":{\"fillmode\":\"overlay\",\"size\":10,\"solidity\":0.2}},\"type\":\"histogram\"}],\"histogram2d\":[{\"colorbar\":{\"outlinewidth\":0,\"ticks\":\"\"},\"colorscale\":[[0.0,\"#0d0887\"],[0.1111111111111111,\"#46039f\"],[0.2222222222222222,\"#7201a8\"],[0.3333333333333333,\"#9c179e\"],[0.4444444444444444,\"#bd3786\"],[0.5555555555555556,\"#d8576b\"],[0.6666666666666666,\"#ed7953\"],[0.7777777777777778,\"#fb9f3a\"],[0.8888888888888888,\"#fdca26\"],[1.0,\"#f0f921\"]],\"type\":\"histogram2d\"}],\"histogram2dcontour\":[{\"colorbar\":{\"outlinewidth\":0,\"ticks\":\"\"},\"colorscale\":[[0.0,\"#0d0887\"],[0.1111111111111111,\"#46039f\"],[0.2222222222222222,\"#7201a8\"],[0.3333333333333333,\"#9c179e\"],[0.4444444444444444,\"#bd3786\"],[0.5555555555555556,\"#d8576b\"],[0.6666666666666666,\"#ed7953\"],[0.7777777777777778,\"#fb9f3a\"],[0.8888888888888888,\"#fdca26\"],[1.0,\"#f0f921\"]],\"type\":\"histogram2dcontour\"}],\"mesh3d\":[{\"colorbar\":{\"outlinewidth\":0,\"ticks\":\"\"},\"type\":\"mesh3d\"}],\"parcoords\":[{\"line\":{\"colorbar\":{\"outlinewidth\":0,\"ticks\":\"\"}},\"type\":\"parcoords\"}],\"pie\":[{\"automargin\":true,\"type\":\"pie\"}],\"scatter\":[{\"marker\":{\"colorbar\":{\"outlinewidth\":0,\"ticks\":\"\"}},\"type\":\"scatter\"}],\"scatter3d\":[{\"line\":{\"colorbar\":{\"outlinewidth\":0,\"ticks\":\"\"}},\"marker\":{\"colorbar\":{\"outlinewidth\":0,\"ticks\":\"\"}},\"type\":\"scatter3d\"}],\"scattercarpet\":[{\"marker\":{\"colorbar\":{\"outlinewidth\":0,\"ticks\":\"\"}},\"type\":\"scattercarpet\"}],\"scattergeo\":[{\"marker\":{\"colorbar\":{\"outlinewidth\":0,\"ticks\":\"\"}},\"type\":\"scattergeo\"}],\"scattergl\":[{\"marker\":{\"colorbar\":{\"outlinewidth\":0,\"ticks\":\"\"}},\"type\":\"scattergl\"}],\"scattermapbox\":[{\"marker\":{\"colorbar\":{\"outlinewidth\":0,\"ticks\":\"\"}},\"type\":\"scattermapbox\"}],\"scatterpolar\":[{\"marker\":{\"colorbar\":{\"outlinewidth\":0,\"ticks\":\"\"}},\"type\":\"scatterpolar\"}],\"scatterpolargl\":[{\"marker\":{\"colorbar\":{\"outlinewidth\":0,\"ticks\":\"\"}},\"type\":\"scatterpolargl\"}],\"scatterternary\":[{\"marker\":{\"colorbar\":{\"outlinewidth\":0,\"ticks\":\"\"}},\"type\":\"scatterternary\"}],\"surface\":[{\"colorbar\":{\"outlinewidth\":0,\"ticks\":\"\"},\"colorscale\":[[0.0,\"#0d0887\"],[0.1111111111111111,\"#46039f\"],[0.2222222222222222,\"#7201a8\"],[0.3333333333333333,\"#9c179e\"],[0.4444444444444444,\"#bd3786\"],[0.5555555555555556,\"#d8576b\"],[0.6666666666666666,\"#ed7953\"],[0.7777777777777778,\"#fb9f3a\"],[0.8888888888888888,\"#fdca26\"],[1.0,\"#f0f921\"]],\"type\":\"surface\"}],\"table\":[{\"cells\":{\"fill\":{\"color\":\"#EBF0F8\"},\"line\":{\"color\":\"white\"}},\"header\":{\"fill\":{\"color\":\"#C8D4E3\"},\"line\":{\"color\":\"white\"}},\"type\":\"table\"}]},\"layout\":{\"annotationdefaults\":{\"arrowcolor\":\"#2a3f5f\",\"arrowhead\":0,\"arrowwidth\":1},\"autotypenumbers\":\"strict\",\"coloraxis\":{\"colorbar\":{\"outlinewidth\":0,\"ticks\":\"\"}},\"colorscale\":{\"diverging\":[[0,\"#8e0152\"],[0.1,\"#c51b7d\"],[0.2,\"#de77ae\"],[0.3,\"#f1b6da\"],[0.4,\"#fde0ef\"],[0.5,\"#f7f7f7\"],[0.6,\"#e6f5d0\"],[0.7,\"#b8e186\"],[0.8,\"#7fbc41\"],[0.9,\"#4d9221\"],[1,\"#276419\"]],\"sequential\":[[0.0,\"#0d0887\"],[0.1111111111111111,\"#46039f\"],[0.2222222222222222,\"#7201a8\"],[0.3333333333333333,\"#9c179e\"],[0.4444444444444444,\"#bd3786\"],[0.5555555555555556,\"#d8576b\"],[0.6666666666666666,\"#ed7953\"],[0.7777777777777778,\"#fb9f3a\"],[0.8888888888888888,\"#fdca26\"],[1.0,\"#f0f921\"]],\"sequentialminus\":[[0.0,\"#0d0887\"],[0.1111111111111111,\"#46039f\"],[0.2222222222222222,\"#7201a8\"],[0.3333333333333333,\"#9c179e\"],[0.4444444444444444,\"#bd3786\"],[0.5555555555555556,\"#d8576b\"],[0.6666666666666666,\"#ed7953\"],[0.7777777777777778,\"#fb9f3a\"],[0.8888888888888888,\"#fdca26\"],[1.0,\"#f0f921\"]]},\"colorway\":[\"#636efa\",\"#EF553B\",\"#00cc96\",\"#ab63fa\",\"#FFA15A\",\"#19d3f3\",\"#FF6692\",\"#B6E880\",\"#FF97FF\",\"#FECB52\"],\"font\":{\"color\":\"#2a3f5f\"},\"geo\":{\"bgcolor\":\"white\",\"lakecolor\":\"white\",\"landcolor\":\"#E5ECF6\",\"showlakes\":true,\"showland\":true,\"subunitcolor\":\"white\"},\"hoverlabel\":{\"align\":\"left\"},\"hovermode\":\"closest\",\"mapbox\":{\"style\":\"light\"},\"paper_bgcolor\":\"white\",\"plot_bgcolor\":\"#E5ECF6\",\"polar\":{\"angularaxis\":{\"gridcolor\":\"white\",\"linecolor\":\"white\",\"ticks\":\"\"},\"bgcolor\":\"#E5ECF6\",\"radialaxis\":{\"gridcolor\":\"white\",\"linecolor\":\"white\",\"ticks\":\"\"}},\"scene\":{\"xaxis\":{\"backgroundcolor\":\"#E5ECF6\",\"gridcolor\":\"white\",\"gridwidth\":2,\"linecolor\":\"white\",\"showbackground\":true,\"ticks\":\"\",\"zerolinecolor\":\"white\"},\"yaxis\":{\"backgroundcolor\":\"#E5ECF6\",\"gridcolor\":\"white\",\"gridwidth\":2,\"linecolor\":\"white\",\"showbackground\":true,\"ticks\":\"\",\"zerolinecolor\":\"white\"},\"zaxis\":{\"backgroundcolor\":\"#E5ECF6\",\"gridcolor\":\"white\",\"gridwidth\":2,\"linecolor\":\"white\",\"showbackground\":true,\"ticks\":\"\",\"zerolinecolor\":\"white\"}},\"shapedefaults\":{\"line\":{\"color\":\"#2a3f5f\"}},\"ternary\":{\"aaxis\":{\"gridcolor\":\"white\",\"linecolor\":\"white\",\"ticks\":\"\"},\"baxis\":{\"gridcolor\":\"white\",\"linecolor\":\"white\",\"ticks\":\"\"},\"bgcolor\":\"#E5ECF6\",\"caxis\":{\"gridcolor\":\"white\",\"linecolor\":\"white\",\"ticks\":\"\"}},\"title\":{\"x\":0.05},\"xaxis\":{\"automargin\":true,\"gridcolor\":\"white\",\"linecolor\":\"white\",\"ticks\":\"\",\"title\":{\"standoff\":15},\"zerolinecolor\":\"white\",\"zerolinewidth\":2},\"yaxis\":{\"automargin\":true,\"gridcolor\":\"white\",\"linecolor\":\"white\",\"ticks\":\"\",\"title\":{\"standoff\":15},\"zerolinecolor\":\"white\",\"zerolinewidth\":2}}},\"title\":{\"text\":\"Correlation Heatmap\"}},                        {\"responsive\": true}                    ).then(function(){\n",
              "                            \n",
              "var gd = document.getElementById('41acb981-e44e-4bd4-be9f-5274c3060810');\n",
              "var x = new MutationObserver(function (mutations, observer) {{\n",
              "        var display = window.getComputedStyle(gd).display;\n",
              "        if (!display || display === 'none') {{\n",
              "            console.log([gd, 'removed!']);\n",
              "            Plotly.purge(gd);\n",
              "            observer.disconnect();\n",
              "        }}\n",
              "}});\n",
              "\n",
              "// Listen for the removal of the full notebook cells\n",
              "var notebookContainer = gd.closest('#notebook-container');\n",
              "if (notebookContainer) {{\n",
              "    x.observe(notebookContainer, {childList: true});\n",
              "}}\n",
              "\n",
              "// Listen for the clearing of the current output cell\n",
              "var outputEl = gd.closest('.output');\n",
              "if (outputEl) {{\n",
              "    x.observe(outputEl, {childList: true});\n",
              "}}\n",
              "\n",
              "                        })                };                            </script>        </div>\n",
              "</body>\n",
              "</html>"
            ]
          },
          "metadata": {}
        }
      ]
    },
    {
      "cell_type": "markdown",
      "source": [
        "### Feature Distribuition Among Quality"
      ],
      "metadata": {
        "id": "BzBE7BrWVXQJ"
      }
    },
    {
      "cell_type": "code",
      "source": [
        "fig = px.box(dataset, x='quality', y='fixed acidity')\n",
        "fig.show(render='colab')"
      ],
      "metadata": {
        "colab": {
          "base_uri": "https://localhost:8080/",
          "height": 542
        },
        "id": "qvsLq6dIzqIL",
        "outputId": "a49effde-931f-4c13-a409-0262d6efedc4"
      },
      "execution_count": 62,
      "outputs": [
        {
          "output_type": "display_data",
          "data": {
            "text/html": [
              "<html>\n",
              "<head><meta charset=\"utf-8\" /></head>\n",
              "<body>\n",
              "    <div>            <script src=\"https://cdnjs.cloudflare.com/ajax/libs/mathjax/2.7.5/MathJax.js?config=TeX-AMS-MML_SVG\"></script><script type=\"text/javascript\">if (window.MathJax) {MathJax.Hub.Config({SVG: {font: \"STIX-Web\"}});}</script>                <script type=\"text/javascript\">window.PlotlyConfig = {MathJaxConfig: 'local'};</script>\n",
              "        <script src=\"https://cdn.plot.ly/plotly-2.8.3.min.js\"></script>                <div id=\"8ecf61f8-9c36-487f-b5a9-1b9a67a8c9a1\" class=\"plotly-graph-div\" style=\"height:525px; width:100%;\"></div>            <script type=\"text/javascript\">                                    window.PLOTLYENV=window.PLOTLYENV || {};                                    if (document.getElementById(\"8ecf61f8-9c36-487f-b5a9-1b9a67a8c9a1\")) {                    Plotly.newPlot(                        \"8ecf61f8-9c36-487f-b5a9-1b9a67a8c9a1\",                        [{\"alignmentgroup\":\"True\",\"hovertemplate\":\"quality=%{x}<br>fixed acidity=%{y}<extra></extra>\",\"legendgroup\":\"\",\"marker\":{\"color\":\"#636efa\"},\"name\":\"\",\"notched\":false,\"offsetgroup\":\"\",\"orientation\":\"v\",\"showlegend\":false,\"x\":[5,5,5,6,5,5,5,7,7,5,5,5,5,5,5,5,7,5,4,6,6,5,5,5,6,5,5,5,5,6,5,6,5,6,5,6,6,7,4,5,5,4,6,5,5,4,5,5,5,5,5,6,6,5,6,5,5,5,5,6,5,5,7,5,5,5,5,5,5,6,6,5,5,4,5,5,5,6,5,4,5,5,5,5,6,5,6,5,5,5,5,6,5,5,4,6,5,5,5,6,6,6,6,5,5,5,5,5,6,5,5,5,5,6,5,6,6,6,6,6,5,6,5,5,5,5,5,5,7,5,5,5,5,6,6,5,5,5,5,5,5,5,6,5,6,5,5,5,6,6,6,4,5,5,5,5,5,5,5,6,5,4,6,5,5,5,5,4,6,5,4,6,6,6,5,5,5,6,5,5,5,5,5,5,6,5,5,5,5,5,5,6,5,5,5,5,5,6,7,4,7,5,5,5,6,7,7,5,5,7,6,6,6,5,6,5,5,5,5,5,6,5,5,6,4,6,6,5,6,5,7,6,6,5,6,6,6,6,6,6,5,6,6,7,7,6,5,5,6,6,6,6,5,5,6,5,5,5,5,7,5,4,5,5,5,7,4,8,6,6,6,6,5,5,5,6,6,6,8,7,6,7,5,7,5,5,6,6,7,5,7,5,6,6,6,5,5,5,5,5,6,6,5,5,5,6,5,6,6,6,6,6,6,5,5,6,5,6,7,6,7,5,5,6,6,6,7,5,6,5,6,6,6,5,7,7,6,5,6,7,6,6,6,6,6,5,7,6,6,6,6,6,5,5,6,6,5,7,7,6,5,6,5,5,7,6,7,5,5,7,5,6,6,5,6,7,6,7,6,6,6,6,6,6,5,6,6,6,6,7,8,6,5,5,5,7,5,6,6,5,5,6,6,6,5,6,6,7,6,4,6,5,5,7,5,5,6,5,6,5,7,7,5,7,5,7,6,6,5,6,7,5,6,5,6,5,6,6,6,5,8,6,7,7,7,6,5,5,6,6,6,6,6,7,5,8,5,5,7,3,6,5,5,5,6,5,6,6,6,5,5,6,6,5,6,5,5,6,5,6,5,8,5,5,6,5,5,6,7,6,6,7,7,6,6,8,6,5,8,6,6,7,7,7,7,7,7,6,6,7,5,6,6,7,7,5,6,3,6,5,6,5,5,5,5,5,5,6,6,5,6,5,5,6,6,6,5,6,7,5,5,6,5,6,6,5,6,6,6,6,6,6,6,5,5,5,6,5,6,6,5,5,5,6,6,5,6,6,6,6,6,6,5,4,6,6,4,5,5,6,5,5,5,7,7,6,7,5,8,7,5,6,5,5,5,5,6,6,6,6,4,6,5,6,6,6,7,6,6,6,5,5,6,5,6,5,5,6,5,5,5,5,5,6,5,5,5,5,6,5,6,5,6,4,5,5,5,5,7,6,5,5,5,5,5,7,5,4,7,6,5,5,5,6,5,5,5,7,6,4,6,5,6,6,5,5,6,6,5,6,5,5,5,5,6,5,6,5,5,5,5,6,5,5,5,5,5,5,5,5,3,5,5,5,5,6,6,6,5,6,6,6,6,4,4,5,5,5,6,6,5,5,5,5,5,6,5,5,5,5,5,5,5,5,4,5,6,5,5,6,5,5,5,5,5,5,5,6,5,5,6,5,5,5,5,6,6,5,6,6,5,5,5,5,6,6,6,5,5,5,5,5,6,5,6,6,5,5,6,5,6,5,5,6,6,5,6,6,5,5,6,5,5,5,5,5,5,6,6,5,6,5,6,5,6,5,5,7,6,6,5,5,7,6,6,7,7,7,5,6,5,6,5,4,6,5,6,6,5,5,5,7,5,5,5,5,7,5,8,6,4,6,3,4,5,5,7,7,7,5,7,5,6,5,6,5,5,6,5,5,5,5,5,6,6,7,6,7,7,6,5,6,5,5,5,5,6,6,6,6,6,5,4,7,7,7,4,6,6,5,5,6,6,5,6,5,6,7,6,5,5,5,6,5,6,6,7,6,7,3,5,7,7,7,7,5,5,6,6,6,6,6,6,7,6,6,5,6,6,6,5,6,6,6,5,7,6,4,5,7,5,5,6,5,5,6,6,4,7,5,7,7,7,7,7,7,7,7,7,7,7,7,7,7,6,5,6,6,7,5,6,5,5,6,6,6,7,5,6,5,6,6,7,5,7,5,5,5,7,5,6,5,6,6,5,6,7,5,5,6,5,5,6,5,5,6,7,7,6,6,7,7,7,7,5,7,7,7,7,5,7,6,5,6,6,6,7,6,6,5,6,6,5,6,7,6,6,5,6,7,7,7,5,6,6,7,7,5,7,6,5,6,6,7,6,6,6,5,6,6,5,5,5,7,6,6,7,5,7,7,6,8,6,6,6,6,7,7,7,5,7,5,6,6,5,7,6,5,5,7,6,7,6,6,6,5,7,6,7,7,8,6,6,7,6,5,6,5,7,5,6,6,6,6,6,5,6,7,5,6,6,7,6,6,6,6,6,6,6,5,8,6,6,6,4,7,6,6,5,6,6,5,7,7,7,6,6,6,5,6,6,6,6,6,5,6,6,7,6,6,7,6,5,6,6,5,7,7,6,5,7,6,7,5,5,5,5,7,6,6,6,6,6,6,6,6,4,7,5,6,6,5,6,5,5,6,5,6,5,4,6,5,7,5,6,6,6,6,6,6,6,7,8,5,7,7,7,5,7,7,6,5,6,6,6,6,6,6,6,6,6,6,6,6,6,5,5,5,7,5,6,5,5,4,6,4,6,6,4,4,5,5,6,5,6,5,5,5,6,6,6,5,5,5,5,5,5,6,6,6,5,4,5,4,6,6,6,6,6,8,6,6,5,5,6,6,4,6,6,7,6,6,6,6,5,5,6,5,5,5,5,6,6,4,6,5,5,6,6,3,6,6,6,5,5,5,5,4,5,5,5,6,5,6,6,6,6,6,6,6,5,6,5,7,6,6,6,6,5,6,6,5,6,5,5,6,5,5,5,6,6,6,6,6,5,6,5,5,5,5,5,6,5,5,5,5,5,6,5,6,5,5,6,4,6,5,5,6,6,4,5,6,5,5,3,5,5,6,6,6,6,5,5,5,5,5,5,5,5,5,6,5,5,5,5,6,5,5,7,6,5,5,6,8,6,7,6,6,7,6,6,6,6,5,5,5,5,7,5,5,5,5,6,4,6,6,6,5,5,5,5,6,6,7,6,6,5,5,5,6,7,6,5,5,6,6,5,5,5,8,7,7,7,5,6,6,6,5,5,7,6,4,6,6,5,5,7,4,7,3,5,5,6,5,5,7,5,7,3,5,4,5,4,5,4,5,5,5,5,6,6,5,5,5,7,6,5,6,6,6,5,5,5,6,6,3,6,6,6,5,6,5,6,6,6,6,5,6,5,5,6,4,5,5,6,5,6,6,6,6,6,5,6,5,7,6,6,6,5,5,6,7,6,6,7,6,5,5,5,8,5,5,6,5,6,7,5,6,5,5,5,5,5,5,5,6,6,5,5,6,6,6,5,6,6,6,6,6,6,5,6,5,5,5,7,6,6,6,6,5,6,6,6,6,5,6,6,5,6],\"x0\":\" \",\"xaxis\":\"x\",\"y\":[7.400000095367432,7.800000190734863,7.800000190734863,11.199999809265137,7.400000095367432,7.400000095367432,7.900000095367432,7.300000190734863,7.800000190734863,7.5,6.699999809265137,7.5,5.599999904632568,7.800000190734863,8.899999618530273,8.899999618530273,8.5,8.100000381469727,7.400000095367432,7.900000095367432,8.899999618530273,7.599999904632568,7.900000095367432,8.5,6.900000095367432,6.300000190734863,7.599999904632568,7.900000095367432,7.099999904632568,7.800000190734863,6.699999809265137,6.900000095367432,8.300000190734863,6.900000095367432,5.199999809265137,7.800000190734863,7.800000190734863,8.100000381469727,5.699999809265137,7.300000190734863,7.300000190734863,8.800000190734863,7.5,8.100000381469727,6.800000190734863,4.599999904632568,7.699999809265137,8.699999809265137,6.400000095367432,5.599999904632568,8.800000190734863,6.599999904632568,6.599999904632568,8.600000381469727,7.599999904632568,7.699999809265137,10.199999809265137,7.5,7.800000190734863,7.300000190734863,8.800000190734863,7.699999809265137,7.5,7.0,7.199999809265137,7.199999809265137,7.5,6.599999904632568,9.300000190734863,8.0,7.699999809265137,7.699999809265137,7.699999809265137,8.300000190734863,9.699999809265137,8.800000190734863,8.800000190734863,6.800000190734863,6.699999809265137,8.300000190734863,6.199999809265137,7.800000190734863,7.400000095367432,7.300000190734863,6.300000190734863,6.900000095367432,8.600000381469727,7.699999809265137,9.300000190734863,7.0,7.900000095367432,8.600000381469727,8.600000381469727,7.699999809265137,5.0,4.699999809265137,6.800000190734863,7.0,7.599999904632568,8.100000381469727,8.300000190734863,7.800000190734863,8.100000381469727,8.100000381469727,7.199999809265137,8.100000381469727,7.800000190734863,6.199999809265137,8.0,8.100000381469727,7.800000190734863,8.399999618530273,8.399999618530273,10.100000381469727,7.800000190734863,9.399999618530273,8.300000190734863,7.800000190734863,8.800000190734863,7.0,7.300000190734863,8.800000190734863,7.300000190734863,8.0,7.800000190734863,9.0,8.199999809265137,8.100000381469727,8.0,6.099999904632568,8.0,5.599999904632568,5.599999904632568,6.599999904632568,7.900000095367432,8.399999618530273,8.300000190734863,7.199999809265137,7.800000190734863,7.800000190734863,8.399999618530273,8.300000190734863,5.199999809265137,6.300000190734863,5.199999809265137,8.100000381469727,5.800000190734863,7.599999904632568,6.900000095367432,8.199999809265137,7.300000190734863,9.199999809265137,7.5,7.5,7.099999904632568,7.099999904632568,7.099999904632568,7.099999904632568,7.099999904632568,6.800000190734863,7.599999904632568,7.599999904632568,7.800000190734863,7.400000095367432,7.300000190734863,7.800000190734863,6.800000190734863,7.300000190734863,6.800000190734863,7.5,7.900000095367432,8.0,8.0,7.400000095367432,7.300000190734863,6.900000095367432,7.300000190734863,7.5,7.0,8.800000190734863,8.800000190734863,8.899999618530273,7.199999809265137,6.800000190734863,6.699999809265137,8.899999618530273,7.400000095367432,7.699999809265137,7.900000095367432,7.900000095367432,8.199999809265137,6.400000095367432,6.800000190734863,7.599999904632568,7.599999904632568,7.800000190734863,7.300000190734863,11.5,5.400000095367432,6.900000095367432,9.600000381469727,8.800000190734863,6.800000190734863,7.0,7.0,12.800000190734863,12.800000190734863,7.800000190734863,7.800000190734863,11.0,9.699999809265137,8.0,11.600000381469727,8.199999809265137,7.800000190734863,7.0,8.699999809265137,8.100000381469727,7.5,7.800000190734863,7.800000190734863,7.400000095367432,6.800000190734863,8.600000381469727,8.399999618530273,7.699999809265137,8.899999618530273,9.0,7.699999809265137,6.900000095367432,5.199999809265137,8.0,8.5,6.900000095367432,8.199999809265137,7.199999809265137,7.199999809265137,7.199999809265137,7.199999809265137,8.199999809265137,8.899999618530273,12.0,7.699999809265137,15.0,15.0,7.300000190734863,7.099999904632568,8.199999809265137,7.699999809265137,7.300000190734863,10.800000190734863,7.099999904632568,11.100000381469727,7.699999809265137,7.099999904632568,8.0,9.399999618530273,6.599999904632568,7.699999809265137,10.0,7.900000095367432,7.0,8.0,7.900000095367432,12.5,11.800000190734863,8.100000381469727,7.900000095367432,6.900000095367432,11.5,7.900000095367432,11.5,10.899999618530273,8.399999618530273,7.5,7.900000095367432,6.900000095367432,11.5,10.300000190734863,8.899999618530273,11.399999618530273,7.699999809265137,7.599999904632568,8.899999618530273,9.899999618530273,9.899999618530273,12.0,7.5,8.699999809265137,11.600000381469727,8.699999809265137,11.0,10.399999618530273,6.900000095367432,13.300000190734863,10.800000190734863,10.600000381469727,7.099999904632568,7.199999809265137,6.900000095367432,7.5,11.100000381469727,8.300000190734863,7.400000095367432,8.399999618530273,10.300000190734863,7.599999904632568,10.300000190734863,10.300000190734863,7.400000095367432,10.300000190734863,7.900000095367432,9.0,8.600000381469727,7.400000095367432,7.099999904632568,9.600000381469727,9.600000381469727,9.800000190734863,9.600000381469727,9.800000190734863,9.300000190734863,7.800000190734863,10.300000190734863,10.0,10.0,11.600000381469727,10.300000190734863,13.399999618530273,10.699999809265137,10.199999809265137,10.199999809265137,8.0,8.399999618530273,7.900000095367432,11.899999618530273,8.899999618530273,7.800000190734863,12.399999618530273,12.5,12.199999809265137,10.600000381469727,10.899999618530273,10.899999618530273,11.899999618530273,7.0,6.599999904632568,13.800000190734863,9.600000381469727,9.100000381469727,10.699999809265137,9.100000381469727,7.699999809265137,13.5,6.099999904632568,6.699999809265137,11.5,10.5,11.899999618530273,12.600000381469727,8.199999809265137,8.600000381469727,11.899999618530273,12.5,12.800000190734863,10.0,12.800000190734863,10.399999618530273,10.300000190734863,9.399999618530273,6.900000095367432,7.900000095367432,9.100000381469727,7.400000095367432,14.0,11.5,11.5,9.399999618530273,11.399999618530273,8.300000190734863,8.300000190734863,13.699999809265137,8.300000190734863,8.300000190734863,7.699999809265137,7.400000095367432,7.800000190734863,8.300000190734863,7.800000190734863,9.600000381469727,5.599999904632568,13.699999809265137,9.5,8.399999618530273,12.699999809265137,12.0,6.599999904632568,11.5,11.5,8.699999809265137,6.599999904632568,7.699999809265137,12.199999809265137,11.399999618530273,7.699999809265137,8.699999809265137,9.800000190734863,12.0,10.399999618530273,12.5,9.0,9.100000381469727,7.099999904632568,9.899999618530273,8.800000190734863,8.600000381469727,10.600000381469727,7.0,11.899999618530273,6.800000190734863,9.5,6.599999904632568,7.699999809265137,10.5,7.699999809265137,6.599999904632568,6.400000095367432,9.5,9.100000381469727,12.800000190734863,10.5,7.800000190734863,11.899999618530273,12.300000190734863,10.399999618530273,12.300000190734863,8.0,11.100000381469727,10.399999618530273,7.0,12.600000381469727,11.899999618530273,15.600000381469727,10.0,5.300000190734863,9.5,12.5,9.300000190734863,8.600000381469727,11.899999618530273,11.899999618530273,8.399999618530273,6.800000190734863,10.399999618530273,7.0,11.300000190734863,8.899999618530273,9.199999809265137,10.399999618530273,11.600000381469727,9.199999809265137,8.300000190734863,11.0,8.100000381469727,11.5,10.0,10.300000190734863,8.800000190734863,11.399999618530273,8.699999809265137,13.0,9.600000381469727,12.5,9.899999618530273,10.5,9.600000381469727,9.300000190734863,10.399999618530273,9.600000381469727,9.399999618530273,10.600000381469727,9.399999618530273,10.600000381469727,10.600000381469727,10.600000381469727,10.199999809265137,10.199999809265137,10.199999809265137,11.600000381469727,9.300000190734863,9.300000190734863,9.199999809265137,8.899999618530273,8.699999809265137,6.5,10.699999809265137,7.800000190734863,7.199999809265137,10.699999809265137,8.699999809265137,7.800000190734863,10.399999618530273,10.399999618530273,10.5,10.5,10.199999809265137,10.399999618530273,11.199999809265137,10.0,13.300000190734863,12.399999618530273,10.0,10.699999809265137,10.5,10.5,8.5,12.5,10.399999618530273,10.899999618530273,7.300000190734863,9.800000190734863,7.599999904632568,8.199999809265137,9.300000190734863,9.199999809265137,10.399999618530273,7.300000190734863,7.0,8.199999809265137,9.899999618530273,9.100000381469727,11.899999618530273,11.899999618530273,10.300000190734863,10.0,9.100000381469727,9.899999618530273,8.100000381469727,12.899999618530273,11.199999809265137,9.199999809265137,9.5,9.300000190734863,11.199999809265137,14.300000190734863,9.100000381469727,7.5,10.600000381469727,12.399999618530273,9.0,6.800000190734863,9.399999618530273,9.5,5.0,15.5,15.5,10.899999618530273,15.600000381469727,10.899999618530273,13.0,12.699999809265137,9.0,9.0,7.599999904632568,13.0,12.699999809265137,8.699999809265137,8.699999809265137,9.800000190734863,6.199999809265137,11.5,6.199999809265137,10.199999809265137,10.5,10.600000381469727,12.300000190734863,9.899999618530273,8.800000190734863,8.800000190734863,10.600000381469727,12.300000190734863,12.300000190734863,11.699999809265137,12.0,11.800000190734863,7.599999904632568,11.100000381469727,7.300000190734863,5.0,10.199999809265137,9.0,6.599999904632568,9.0,9.899999618530273,7.900000095367432,8.899999618530273,12.399999618530273,11.899999618530273,8.5,12.699999809265137,8.199999809265137,13.199999809265137,7.699999809265137,13.199999809265137,8.300000190734863,8.300000190734863,9.399999618530273,8.800000190734863,10.100000381469727,6.300000190734863,8.800000190734863,13.199999809265137,7.5,8.199999809265137,9.199999809265137,9.600000381469727,9.600000381469727,11.5,11.399999618530273,11.300000190734863,8.300000190734863,8.199999809265137,10.0,7.900000095367432,6.800000190734863,6.800000190734863,8.800000190734863,8.800000190734863,8.699999809265137,7.599999904632568,8.699999809265137,10.399999618530273,7.599999904632568,10.100000381469727,7.900000095367432,8.699999809265137,9.600000381469727,9.5,7.699999809265137,8.899999618530273,9.899999618530273,9.5,9.899999618530273,9.5,9.899999618530273,7.800000190734863,7.300000190734863,8.300000190734863,8.699999809265137,6.699999809265137,10.699999809265137,9.800000190734863,15.899999618530273,9.399999618530273,8.600000381469727,9.699999809265137,10.699999809265137,12.0,7.199999809265137,7.099999904632568,7.199999809265137,7.5,7.199999809265137,10.100000381469727,12.100000381469727,9.399999618530273,8.300000190734863,11.300000190734863,10.0,11.300000190734863,6.900000095367432,8.199999809265137,9.800000190734863,8.199999809265137,10.800000190734863,9.300000190734863,10.800000190734863,8.600000381469727,8.300000190734863,10.800000190734863,13.300000190734863,8.0,8.5,8.100000381469727,9.800000190734863,8.100000381469727,7.099999904632568,9.100000381469727,7.699999809265137,8.100000381469727,7.400000095367432,9.199999809265137,8.600000381469727,9.0,9.0,5.099999904632568,7.0,7.0,9.399999618530273,11.800000190734863,10.600000381469727,7.0,7.0,7.5,9.100000381469727,8.399999618530273,7.0,7.400000095367432,7.800000190734863,9.699999809265137,10.600000381469727,8.899999618530273,8.699999809265137,8.0,9.899999618530273,7.199999809265137,8.0,7.599999904632568,8.399999618530273,7.099999904632568,8.399999618530273,8.899999618530273,7.599999904632568,7.099999904632568,7.5,9.0,8.100000381469727,6.400000095367432,6.400000095367432,6.400000095367432,9.5,8.899999618530273,7.300000190734863,7.0,7.699999809265137,7.699999809265137,7.699999809265137,8.199999809265137,9.0,9.0,8.300000190734863,9.199999809265137,6.5,11.600000381469727,11.100000381469727,7.300000190734863,8.199999809265137,8.600000381469727,7.199999809265137,7.300000190734863,8.300000190734863,8.300000190734863,7.599999904632568,8.300000190734863,7.800000190734863,7.800000190734863,6.300000190734863,8.100000381469727,8.100000381469727,8.800000190734863,9.0,9.300000190734863,8.800000190734863,9.300000190734863,9.100000381469727,9.199999809265137,8.800000190734863,7.5,7.099999904632568,7.900000095367432,7.099999904632568,9.399999618530273,9.5,7.900000095367432,7.900000095367432,7.199999809265137,6.900000095367432,6.900000095367432,8.300000190734863,7.099999904632568,7.0,6.5,9.0,6.5,7.099999904632568,9.899999618530273,9.899999618530273,10.0,10.0,8.600000381469727,7.400000095367432,8.800000190734863,7.099999904632568,7.699999809265137,10.100000381469727,10.800000190734863,8.699999809265137,9.300000190734863,9.399999618530273,9.399999618530273,7.199999809265137,8.600000381469727,5.099999904632568,7.699999809265137,8.399999618530273,8.199999809265137,8.399999618530273,8.199999809265137,7.400000095367432,7.599999904632568,7.300000190734863,12.899999618530273,10.800000190734863,6.900000095367432,12.600000381469727,10.800000190734863,9.800000190734863,10.800000190734863,7.099999904632568,9.100000381469727,7.0,4.900000095367432,6.699999809265137,6.699999809265137,7.099999904632568,7.099999904632568,7.5,7.099999904632568,7.800000190734863,5.900000095367432,7.5,5.900000095367432,10.399999618530273,11.600000381469727,8.800000190734863,7.599999904632568,6.699999809265137,6.699999809265137,10.100000381469727,6.0,11.100000381469727,6.599999904632568,10.600000381469727,7.099999904632568,9.899999618530273,6.400000095367432,6.400000095367432,7.400000095367432,6.400000095367432,6.400000095367432,9.300000190734863,9.300000190734863,8.0,9.300000190734863,9.300000190734863,7.599999904632568,9.300000190734863,8.199999809265137,11.699999809265137,6.800000190734863,7.199999809265137,5.800000190734863,7.5,7.199999809265137,7.199999809265137,7.199999809265137,6.800000190734863,6.900000095367432,6.800000190734863,7.599999904632568,7.699999809265137,6.900000095367432,7.300000190734863,9.100000381469727,10.399999618530273,8.800000190734863,7.099999904632568,7.699999809265137,8.800000190734863,7.199999809265137,9.199999809265137,7.599999904632568,8.399999618530273,7.199999809265137,8.800000190734863,8.899999618530273,9.0,10.699999809265137,6.800000190734863,10.699999809265137,7.199999809265137,7.199999809265137,10.100000381469727,7.199999809265137,7.199999809265137,7.099999904632568,8.300000190734863,7.099999904632568,8.300000190734863,8.300000190734863,8.899999618530273,7.400000095367432,7.400000095367432,6.800000190734863,6.800000190734863,9.199999809265137,7.199999809265137,6.099999904632568,7.400000095367432,7.300000190734863,9.300000190734863,9.100000381469727,10.0,9.399999618530273,7.300000190734863,8.600000381469727,5.300000190734863,6.800000190734863,8.399999618530273,8.399999618530273,9.600000381469727,8.399999618530273,8.399999618530273,6.800000190734863,8.600000381469727,8.600000381469727,9.399999618530273,8.399999618530273,8.600000381469727,8.699999809265137,6.599999904632568,7.400000095367432,7.599999904632568,7.400000095367432,6.599999904632568,8.800000190734863,8.800000190734863,12.0,7.199999809265137,6.199999809265137,9.600000381469727,9.899999618530273,10.100000381469727,9.800000190734863,8.300000190734863,10.199999809265137,10.199999809265137,8.300000190734863,8.899999618530273,8.899999618530273,8.899999618530273,8.300000190734863,8.199999809265137,10.199999809265137,7.599999904632568,8.5,9.0,9.5,6.400000095367432,8.0,8.5,7.099999904632568,6.599999904632568,8.800000190734863,8.5,8.300000190734863,9.0,8.5,9.0,6.699999809265137,10.399999618530273,10.399999618530273,10.100000381469727,8.5,8.800000190734863,7.199999809265137,7.199999809265137,8.399999618530273,7.0,12.199999809265137,9.100000381469727,9.5,7.300000190734863,9.100000381469727,12.199999809265137,7.400000095367432,9.800000190734863,7.099999904632568,7.699999809265137,9.699999809265137,7.699999809265137,7.099999904632568,6.5,7.099999904632568,10.0,7.699999809265137,5.599999904632568,5.599999904632568,8.899999618530273,6.400000095367432,7.5,9.899999618530273,9.100000381469727,6.800000190734863,8.199999809265137,6.800000190734863,9.100000381469727,9.100000381469727,8.899999618530273,9.600000381469727,8.899999618530273,8.899999618530273,7.699999809265137,7.5,8.0,10.5,8.899999618530273,8.0,8.0,7.0,11.300000190734863,11.300000190734863,7.0,8.199999809265137,7.699999809265137,8.600000381469727,7.900000095367432,6.400000095367432,7.199999809265137,7.699999809265137,7.099999904632568,7.300000190734863,8.100000381469727,7.5,8.899999618530273,10.100000381469727,7.599999904632568,7.300000190734863,8.699999809265137,8.899999618530273,7.400000095367432,6.900000095367432,8.899999618530273,9.5,6.400000095367432,6.900000095367432,7.599999904632568,7.099999904632568,9.300000190734863,9.300000190734863,7.099999904632568,8.5,5.599999904632568,8.300000190734863,8.199999809265137,8.199999809265137,8.899999618530273,7.599999904632568,9.899999618530273,8.899999618530273,11.600000381469727,9.100000381469727,8.0,10.199999809265137,8.199999809265137,7.699999809265137,6.599999904632568,11.100000381469727,11.100000381469727,8.0,9.300000190734863,7.5,7.199999809265137,8.0,7.5,9.100000381469727,9.899999618530273,8.600000381469727,8.600000381469727,7.900000095367432,10.300000190734863,7.900000095367432,7.199999809265137,8.699999809265137,7.199999809265137,6.800000190734863,8.5,7.900000095367432,11.600000381469727,11.600000381469727,10.0,7.900000095367432,7.0,9.199999809265137,6.599999904632568,9.399999618530273,6.599999904632568,8.600000381469727,8.0,8.600000381469727,8.399999618530273,7.400000095367432,6.099999904632568,7.400000095367432,8.0,6.300000190734863,8.199999809265137,9.100000381469727,8.100000381469727,10.800000190734863,8.300000190734863,5.400000095367432,7.900000095367432,8.899999618530273,5.0,7.0,7.0,7.0,7.099999904632568,5.599999904632568,7.900000095367432,6.599999904632568,6.300000190734863,10.699999809265137,6.5,8.800000190734863,5.800000190734863,6.300000190734863,10.0,10.5,9.100000381469727,5.900000095367432,7.400000095367432,7.199999809265137,8.5,8.0,10.399999618530273,10.399999618530273,7.5,8.199999809265137,7.300000190734863,8.199999809265137,6.900000095367432,7.0,7.300000190734863,8.199999809265137,7.800000190734863,10.0,7.800000190734863,10.0,8.199999809265137,6.099999904632568,8.300000190734863,9.600000381469727,6.599999904632568,8.300000190734863,8.5,5.099999904632568,6.699999809265137,10.199999809265137,10.600000381469727,8.800000190734863,8.5,9.0,9.0,8.5,9.899999618530273,8.199999809265137,6.5,7.599999904632568,9.199999809265137,7.099999904632568,9.699999809265137,7.599999904632568,7.599999904632568,6.5,6.5,7.099999904632568,5.599999904632568,8.199999809265137,8.199999809265137,9.800000190734863,10.199999809265137,6.800000190734863,6.699999809265137,7.0,6.599999904632568,7.0,6.699999809265137,8.800000190734863,9.100000381469727,6.5,7.199999809265137,6.400000095367432,7.0,6.199999809265137,7.900000095367432,7.699999809265137,7.699999809265137,7.900000095367432,7.699999809265137,7.900000095367432,8.600000381469727,9.899999618530273,7.199999809265137,7.199999809265137,7.199999809265137,9.899999618530273,7.199999809265137,6.199999809265137,6.800000190734863,6.599999904632568,6.800000190734863,9.600000381469727,10.199999809265137,8.800000190734863,7.900000095367432,8.199999809265137,8.199999809265137,9.0,10.899999618530273,10.899999618530273,8.100000381469727,10.5,12.600000381469727,9.199999809265137,7.5,9.0,5.099999904632568,7.599999904632568,7.699999809265137,7.800000190734863,7.599999904632568,10.199999809265137,7.099999904632568,6.0,7.800000190734863,7.099999904632568,8.100000381469727,6.5,7.5,9.800000190734863,9.0,8.300000190734863,5.900000095367432,7.400000095367432,7.400000095367432,7.400000095367432,6.900000095367432,7.099999904632568,7.099999904632568,7.5,7.099999904632568,7.900000095367432,7.800000190734863,6.099999904632568,7.5,7.0,6.800000190734863,6.800000190734863,8.600000381469727,6.300000190734863,9.800000190734863,8.199999809265137,8.5,7.199999809265137,7.199999809265137,10.399999618530273,6.900000095367432,5.5,5.0,7.300000190734863,5.900000095367432,7.5,7.800000190734863,8.0,8.5,7.0,8.0,9.800000190734863,7.099999904632568,7.099999904632568,7.900000095367432,8.699999809265137,7.0,11.300000190734863,7.099999904632568,8.0,7.0,7.0,7.599999904632568,8.199999809265137,5.900000095367432,7.5,8.199999809265137,6.599999904632568,6.599999904632568,7.199999809265137,5.699999809265137,7.599999904632568,5.199999809265137,6.699999809265137,9.100000381469727,8.0,7.599999904632568,7.5,9.699999809265137,6.800000190734863,9.699999809265137,7.0,7.5,6.5,8.0,7.0,7.0,7.5,5.400000095367432,9.899999618530273,7.5,9.100000381469727,9.699999809265137,5.0,9.100000381469727,9.100000381469727,6.699999809265137,6.699999809265137,6.699999809265137,6.699999809265137,6.5,7.400000095367432,7.400000095367432,7.800000190734863,8.399999618530273,9.100000381469727,7.199999809265137,6.599999904632568,6.0,6.0,6.0,7.5,7.5,7.5,7.599999904632568,7.5,11.5,8.199999809265137,6.099999904632568,7.199999809265137,7.199999809265137,6.900000095367432,9.0,7.199999809265137,7.599999904632568,7.599999904632568,7.199999809265137,6.099999904632568,6.099999904632568,7.300000190734863,7.400000095367432,11.600000381469727,9.199999809265137,8.300000190734863,11.600000381469727,8.0,7.199999809265137,7.800000190734863,7.300000190734863,6.900000095367432,8.0,6.599999904632568,8.699999809265137,7.5,8.699999809265137,7.699999809265137,6.800000190734863,7.199999809265137,8.199999809265137,5.199999809265137,7.199999809265137,7.5,7.5,6.800000190734863,8.0,8.0,7.099999904632568,8.0,7.400000095367432,7.400000095367432,6.599999904632568,6.699999809265137,6.0,8.0,7.099999904632568,8.0,6.400000095367432,8.600000381469727,8.699999809265137,7.300000190734863,7.0,7.199999809265137,7.900000095367432,7.900000095367432,7.599999904632568,7.199999809265137,8.0,7.699999809265137,8.199999809265137,6.0,8.100000381469727,6.0,6.599999904632568,6.400000095367432,8.199999809265137,9.899999618530273,10.0,6.199999809265137,10.0,7.300000190734863,7.800000190734863,7.699999809265137,7.800000190734863,7.5,7.0,6.400000095367432,8.300000190734863,8.300000190734863,7.699999809265137,7.599999904632568,7.800000190734863,7.900000095367432,7.400000095367432,7.599999904632568,5.900000095367432,6.099999904632568,10.199999809265137,10.199999809265137,10.0,6.800000190734863,7.0,7.300000190734863,7.199999809265137,7.400000095367432,6.900000095367432,6.900000095367432,7.300000190734863,7.400000095367432,6.900000095367432,6.800000190734863,6.900000095367432,7.199999809265137,7.199999809265137,7.800000190734863,6.599999904632568,7.599999904632568,11.699999809265137,6.5,6.0,7.599999904632568,8.399999618530273,7.900000095367432,6.400000095367432,6.199999809265137,6.800000190734863,6.900000095367432,6.800000190734863,6.800000190734863,7.300000190734863,6.699999809265137,7.300000190734863,7.300000190734863,10.0,6.699999809265137,7.599999904632568,6.099999904632568,9.899999618530273,5.300000190734863,9.899999618530273,5.300000190734863,7.099999904632568,8.199999809265137,5.599999904632568,8.199999809265137,7.199999809265137,8.100000381469727,6.800000190734863,7.0,6.800000190734863,6.0,5.599999904632568,6.199999809265137,7.099999904632568,5.599999904632568,6.199999809265137,7.699999809265137,6.400000095367432,7.0,7.699999809265137,6.900000095367432,6.599999904632568,6.900000095367432,7.5,7.800000190734863,7.300000190734863,6.199999809265137,7.5,6.699999809265137,6.800000190734863,7.5,7.099999904632568,7.900000095367432,6.400000095367432,7.099999904632568,6.400000095367432,6.400000095367432,6.900000095367432,6.900000095367432,6.099999904632568,6.5,7.400000095367432,6.599999904632568,6.5,6.900000095367432,6.099999904632568,6.800000190734863,6.0,6.699999809265137,6.800000190734863,7.099999904632568,7.900000095367432,7.099999904632568,6.599999904632568,6.099999904632568,7.199999809265137,8.0,6.599999904632568,7.0,6.099999904632568,5.400000095367432,6.199999809265137,7.199999809265137,6.199999809265137,7.400000095367432,6.699999809265137,11.100000381469727,8.399999618530273,6.5,7.0,6.300000190734863,11.199999809265137,7.400000095367432,7.099999904632568,7.099999904632568,6.300000190734863,7.300000190734863,6.599999904632568,7.0,6.599999904632568,6.599999904632568,6.900000095367432,7.800000190734863,7.800000190734863,7.800000190734863,7.199999809265137,7.199999809265137,7.199999809265137,6.699999809265137,6.699999809265137,7.199999809265137,7.0,6.199999809265137,6.400000095367432,6.400000095367432,7.300000190734863,6.0,5.599999904632568,7.5,8.0,6.199999809265137,6.800000190734863,6.199999809265137,7.400000095367432,6.199999809265137,6.099999904632568,6.199999809265137,6.699999809265137,7.199999809265137,7.5,5.800000190734863,7.199999809265137,6.599999904632568,6.300000190734863,5.400000095367432,6.300000190734863,6.800000190734863,6.199999809265137,5.900000095367432,6.300000190734863,5.900000095367432,6.0],\"y0\":\" \",\"yaxis\":\"y\",\"type\":\"box\"}],                        {\"template\":{\"data\":{\"bar\":[{\"error_x\":{\"color\":\"#2a3f5f\"},\"error_y\":{\"color\":\"#2a3f5f\"},\"marker\":{\"line\":{\"color\":\"#E5ECF6\",\"width\":0.5},\"pattern\":{\"fillmode\":\"overlay\",\"size\":10,\"solidity\":0.2}},\"type\":\"bar\"}],\"barpolar\":[{\"marker\":{\"line\":{\"color\":\"#E5ECF6\",\"width\":0.5},\"pattern\":{\"fillmode\":\"overlay\",\"size\":10,\"solidity\":0.2}},\"type\":\"barpolar\"}],\"carpet\":[{\"aaxis\":{\"endlinecolor\":\"#2a3f5f\",\"gridcolor\":\"white\",\"linecolor\":\"white\",\"minorgridcolor\":\"white\",\"startlinecolor\":\"#2a3f5f\"},\"baxis\":{\"endlinecolor\":\"#2a3f5f\",\"gridcolor\":\"white\",\"linecolor\":\"white\",\"minorgridcolor\":\"white\",\"startlinecolor\":\"#2a3f5f\"},\"type\":\"carpet\"}],\"choropleth\":[{\"colorbar\":{\"outlinewidth\":0,\"ticks\":\"\"},\"type\":\"choropleth\"}],\"contour\":[{\"colorbar\":{\"outlinewidth\":0,\"ticks\":\"\"},\"colorscale\":[[0.0,\"#0d0887\"],[0.1111111111111111,\"#46039f\"],[0.2222222222222222,\"#7201a8\"],[0.3333333333333333,\"#9c179e\"],[0.4444444444444444,\"#bd3786\"],[0.5555555555555556,\"#d8576b\"],[0.6666666666666666,\"#ed7953\"],[0.7777777777777778,\"#fb9f3a\"],[0.8888888888888888,\"#fdca26\"],[1.0,\"#f0f921\"]],\"type\":\"contour\"}],\"contourcarpet\":[{\"colorbar\":{\"outlinewidth\":0,\"ticks\":\"\"},\"type\":\"contourcarpet\"}],\"heatmap\":[{\"colorbar\":{\"outlinewidth\":0,\"ticks\":\"\"},\"colorscale\":[[0.0,\"#0d0887\"],[0.1111111111111111,\"#46039f\"],[0.2222222222222222,\"#7201a8\"],[0.3333333333333333,\"#9c179e\"],[0.4444444444444444,\"#bd3786\"],[0.5555555555555556,\"#d8576b\"],[0.6666666666666666,\"#ed7953\"],[0.7777777777777778,\"#fb9f3a\"],[0.8888888888888888,\"#fdca26\"],[1.0,\"#f0f921\"]],\"type\":\"heatmap\"}],\"heatmapgl\":[{\"colorbar\":{\"outlinewidth\":0,\"ticks\":\"\"},\"colorscale\":[[0.0,\"#0d0887\"],[0.1111111111111111,\"#46039f\"],[0.2222222222222222,\"#7201a8\"],[0.3333333333333333,\"#9c179e\"],[0.4444444444444444,\"#bd3786\"],[0.5555555555555556,\"#d8576b\"],[0.6666666666666666,\"#ed7953\"],[0.7777777777777778,\"#fb9f3a\"],[0.8888888888888888,\"#fdca26\"],[1.0,\"#f0f921\"]],\"type\":\"heatmapgl\"}],\"histogram\":[{\"marker\":{\"pattern\":{\"fillmode\":\"overlay\",\"size\":10,\"solidity\":0.2}},\"type\":\"histogram\"}],\"histogram2d\":[{\"colorbar\":{\"outlinewidth\":0,\"ticks\":\"\"},\"colorscale\":[[0.0,\"#0d0887\"],[0.1111111111111111,\"#46039f\"],[0.2222222222222222,\"#7201a8\"],[0.3333333333333333,\"#9c179e\"],[0.4444444444444444,\"#bd3786\"],[0.5555555555555556,\"#d8576b\"],[0.6666666666666666,\"#ed7953\"],[0.7777777777777778,\"#fb9f3a\"],[0.8888888888888888,\"#fdca26\"],[1.0,\"#f0f921\"]],\"type\":\"histogram2d\"}],\"histogram2dcontour\":[{\"colorbar\":{\"outlinewidth\":0,\"ticks\":\"\"},\"colorscale\":[[0.0,\"#0d0887\"],[0.1111111111111111,\"#46039f\"],[0.2222222222222222,\"#7201a8\"],[0.3333333333333333,\"#9c179e\"],[0.4444444444444444,\"#bd3786\"],[0.5555555555555556,\"#d8576b\"],[0.6666666666666666,\"#ed7953\"],[0.7777777777777778,\"#fb9f3a\"],[0.8888888888888888,\"#fdca26\"],[1.0,\"#f0f921\"]],\"type\":\"histogram2dcontour\"}],\"mesh3d\":[{\"colorbar\":{\"outlinewidth\":0,\"ticks\":\"\"},\"type\":\"mesh3d\"}],\"parcoords\":[{\"line\":{\"colorbar\":{\"outlinewidth\":0,\"ticks\":\"\"}},\"type\":\"parcoords\"}],\"pie\":[{\"automargin\":true,\"type\":\"pie\"}],\"scatter\":[{\"marker\":{\"colorbar\":{\"outlinewidth\":0,\"ticks\":\"\"}},\"type\":\"scatter\"}],\"scatter3d\":[{\"line\":{\"colorbar\":{\"outlinewidth\":0,\"ticks\":\"\"}},\"marker\":{\"colorbar\":{\"outlinewidth\":0,\"ticks\":\"\"}},\"type\":\"scatter3d\"}],\"scattercarpet\":[{\"marker\":{\"colorbar\":{\"outlinewidth\":0,\"ticks\":\"\"}},\"type\":\"scattercarpet\"}],\"scattergeo\":[{\"marker\":{\"colorbar\":{\"outlinewidth\":0,\"ticks\":\"\"}},\"type\":\"scattergeo\"}],\"scattergl\":[{\"marker\":{\"colorbar\":{\"outlinewidth\":0,\"ticks\":\"\"}},\"type\":\"scattergl\"}],\"scattermapbox\":[{\"marker\":{\"colorbar\":{\"outlinewidth\":0,\"ticks\":\"\"}},\"type\":\"scattermapbox\"}],\"scatterpolar\":[{\"marker\":{\"colorbar\":{\"outlinewidth\":0,\"ticks\":\"\"}},\"type\":\"scatterpolar\"}],\"scatterpolargl\":[{\"marker\":{\"colorbar\":{\"outlinewidth\":0,\"ticks\":\"\"}},\"type\":\"scatterpolargl\"}],\"scatterternary\":[{\"marker\":{\"colorbar\":{\"outlinewidth\":0,\"ticks\":\"\"}},\"type\":\"scatterternary\"}],\"surface\":[{\"colorbar\":{\"outlinewidth\":0,\"ticks\":\"\"},\"colorscale\":[[0.0,\"#0d0887\"],[0.1111111111111111,\"#46039f\"],[0.2222222222222222,\"#7201a8\"],[0.3333333333333333,\"#9c179e\"],[0.4444444444444444,\"#bd3786\"],[0.5555555555555556,\"#d8576b\"],[0.6666666666666666,\"#ed7953\"],[0.7777777777777778,\"#fb9f3a\"],[0.8888888888888888,\"#fdca26\"],[1.0,\"#f0f921\"]],\"type\":\"surface\"}],\"table\":[{\"cells\":{\"fill\":{\"color\":\"#EBF0F8\"},\"line\":{\"color\":\"white\"}},\"header\":{\"fill\":{\"color\":\"#C8D4E3\"},\"line\":{\"color\":\"white\"}},\"type\":\"table\"}]},\"layout\":{\"annotationdefaults\":{\"arrowcolor\":\"#2a3f5f\",\"arrowhead\":0,\"arrowwidth\":1},\"autotypenumbers\":\"strict\",\"coloraxis\":{\"colorbar\":{\"outlinewidth\":0,\"ticks\":\"\"}},\"colorscale\":{\"diverging\":[[0,\"#8e0152\"],[0.1,\"#c51b7d\"],[0.2,\"#de77ae\"],[0.3,\"#f1b6da\"],[0.4,\"#fde0ef\"],[0.5,\"#f7f7f7\"],[0.6,\"#e6f5d0\"],[0.7,\"#b8e186\"],[0.8,\"#7fbc41\"],[0.9,\"#4d9221\"],[1,\"#276419\"]],\"sequential\":[[0.0,\"#0d0887\"],[0.1111111111111111,\"#46039f\"],[0.2222222222222222,\"#7201a8\"],[0.3333333333333333,\"#9c179e\"],[0.4444444444444444,\"#bd3786\"],[0.5555555555555556,\"#d8576b\"],[0.6666666666666666,\"#ed7953\"],[0.7777777777777778,\"#fb9f3a\"],[0.8888888888888888,\"#fdca26\"],[1.0,\"#f0f921\"]],\"sequentialminus\":[[0.0,\"#0d0887\"],[0.1111111111111111,\"#46039f\"],[0.2222222222222222,\"#7201a8\"],[0.3333333333333333,\"#9c179e\"],[0.4444444444444444,\"#bd3786\"],[0.5555555555555556,\"#d8576b\"],[0.6666666666666666,\"#ed7953\"],[0.7777777777777778,\"#fb9f3a\"],[0.8888888888888888,\"#fdca26\"],[1.0,\"#f0f921\"]]},\"colorway\":[\"#636efa\",\"#EF553B\",\"#00cc96\",\"#ab63fa\",\"#FFA15A\",\"#19d3f3\",\"#FF6692\",\"#B6E880\",\"#FF97FF\",\"#FECB52\"],\"font\":{\"color\":\"#2a3f5f\"},\"geo\":{\"bgcolor\":\"white\",\"lakecolor\":\"white\",\"landcolor\":\"#E5ECF6\",\"showlakes\":true,\"showland\":true,\"subunitcolor\":\"white\"},\"hoverlabel\":{\"align\":\"left\"},\"hovermode\":\"closest\",\"mapbox\":{\"style\":\"light\"},\"paper_bgcolor\":\"white\",\"plot_bgcolor\":\"#E5ECF6\",\"polar\":{\"angularaxis\":{\"gridcolor\":\"white\",\"linecolor\":\"white\",\"ticks\":\"\"},\"bgcolor\":\"#E5ECF6\",\"radialaxis\":{\"gridcolor\":\"white\",\"linecolor\":\"white\",\"ticks\":\"\"}},\"scene\":{\"xaxis\":{\"backgroundcolor\":\"#E5ECF6\",\"gridcolor\":\"white\",\"gridwidth\":2,\"linecolor\":\"white\",\"showbackground\":true,\"ticks\":\"\",\"zerolinecolor\":\"white\"},\"yaxis\":{\"backgroundcolor\":\"#E5ECF6\",\"gridcolor\":\"white\",\"gridwidth\":2,\"linecolor\":\"white\",\"showbackground\":true,\"ticks\":\"\",\"zerolinecolor\":\"white\"},\"zaxis\":{\"backgroundcolor\":\"#E5ECF6\",\"gridcolor\":\"white\",\"gridwidth\":2,\"linecolor\":\"white\",\"showbackground\":true,\"ticks\":\"\",\"zerolinecolor\":\"white\"}},\"shapedefaults\":{\"line\":{\"color\":\"#2a3f5f\"}},\"ternary\":{\"aaxis\":{\"gridcolor\":\"white\",\"linecolor\":\"white\",\"ticks\":\"\"},\"baxis\":{\"gridcolor\":\"white\",\"linecolor\":\"white\",\"ticks\":\"\"},\"bgcolor\":\"#E5ECF6\",\"caxis\":{\"gridcolor\":\"white\",\"linecolor\":\"white\",\"ticks\":\"\"}},\"title\":{\"x\":0.05},\"xaxis\":{\"automargin\":true,\"gridcolor\":\"white\",\"linecolor\":\"white\",\"ticks\":\"\",\"title\":{\"standoff\":15},\"zerolinecolor\":\"white\",\"zerolinewidth\":2},\"yaxis\":{\"automargin\":true,\"gridcolor\":\"white\",\"linecolor\":\"white\",\"ticks\":\"\",\"title\":{\"standoff\":15},\"zerolinecolor\":\"white\",\"zerolinewidth\":2}}},\"xaxis\":{\"anchor\":\"y\",\"domain\":[0.0,1.0],\"title\":{\"text\":\"quality\"}},\"yaxis\":{\"anchor\":\"x\",\"domain\":[0.0,1.0],\"title\":{\"text\":\"fixed acidity\"}},\"legend\":{\"tracegroupgap\":0},\"margin\":{\"t\":60},\"boxmode\":\"group\"},                        {\"responsive\": true}                    ).then(function(){\n",
              "                            \n",
              "var gd = document.getElementById('8ecf61f8-9c36-487f-b5a9-1b9a67a8c9a1');\n",
              "var x = new MutationObserver(function (mutations, observer) {{\n",
              "        var display = window.getComputedStyle(gd).display;\n",
              "        if (!display || display === 'none') {{\n",
              "            console.log([gd, 'removed!']);\n",
              "            Plotly.purge(gd);\n",
              "            observer.disconnect();\n",
              "        }}\n",
              "}});\n",
              "\n",
              "// Listen for the removal of the full notebook cells\n",
              "var notebookContainer = gd.closest('#notebook-container');\n",
              "if (notebookContainer) {{\n",
              "    x.observe(notebookContainer, {childList: true});\n",
              "}}\n",
              "\n",
              "// Listen for the clearing of the current output cell\n",
              "var outputEl = gd.closest('.output');\n",
              "if (outputEl) {{\n",
              "    x.observe(outputEl, {childList: true});\n",
              "}}\n",
              "\n",
              "                        })                };                            </script>        </div>\n",
              "</body>\n",
              "</html>"
            ]
          },
          "metadata": {}
        }
      ]
    },
    {
      "cell_type": "code",
      "source": [
        "fig = px.box(dataset, x='quality', y='citric acid')\n",
        "fig.show(render='colab')"
      ],
      "metadata": {
        "colab": {
          "base_uri": "https://localhost:8080/",
          "height": 542
        },
        "id": "Ow7X5b1Z2Gi0",
        "outputId": "c2ae4442-79c3-41bf-df64-629e000f19dc"
      },
      "execution_count": 63,
      "outputs": [
        {
          "output_type": "display_data",
          "data": {
            "text/html": [
              "<html>\n",
              "<head><meta charset=\"utf-8\" /></head>\n",
              "<body>\n",
              "    <div>            <script src=\"https://cdnjs.cloudflare.com/ajax/libs/mathjax/2.7.5/MathJax.js?config=TeX-AMS-MML_SVG\"></script><script type=\"text/javascript\">if (window.MathJax) {MathJax.Hub.Config({SVG: {font: \"STIX-Web\"}});}</script>                <script type=\"text/javascript\">window.PlotlyConfig = {MathJaxConfig: 'local'};</script>\n",
              "        <script src=\"https://cdn.plot.ly/plotly-2.8.3.min.js\"></script>                <div id=\"0ed14510-240b-4a68-b257-61afcb0423a4\" class=\"plotly-graph-div\" style=\"height:525px; width:100%;\"></div>            <script type=\"text/javascript\">                                    window.PLOTLYENV=window.PLOTLYENV || {};                                    if (document.getElementById(\"0ed14510-240b-4a68-b257-61afcb0423a4\")) {                    Plotly.newPlot(                        \"0ed14510-240b-4a68-b257-61afcb0423a4\",                        [{\"alignmentgroup\":\"True\",\"hovertemplate\":\"quality=%{x}<br>citric acid=%{y}<extra></extra>\",\"legendgroup\":\"\",\"marker\":{\"color\":\"#636efa\"},\"name\":\"\",\"notched\":false,\"offsetgroup\":\"\",\"orientation\":\"v\",\"showlegend\":false,\"x\":[5,5,5,6,5,5,5,7,7,5,5,5,5,5,5,5,7,5,4,6,6,5,5,5,6,5,5,5,5,6,5,6,5,6,5,6,6,7,4,5,5,4,6,5,5,4,5,5,5,5,5,6,6,5,6,5,5,5,5,6,5,5,7,5,5,5,5,5,5,6,6,5,5,4,5,5,5,6,5,4,5,5,5,5,6,5,6,5,5,5,5,6,5,5,4,6,5,5,5,6,6,6,6,5,5,5,5,5,6,5,5,5,5,6,5,6,6,6,6,6,5,6,5,5,5,5,5,5,7,5,5,5,5,6,6,5,5,5,5,5,5,5,6,5,6,5,5,5,6,6,6,4,5,5,5,5,5,5,5,6,5,4,6,5,5,5,5,4,6,5,4,6,6,6,5,5,5,6,5,5,5,5,5,5,6,5,5,5,5,5,5,6,5,5,5,5,5,6,7,4,7,5,5,5,6,7,7,5,5,7,6,6,6,5,6,5,5,5,5,5,6,5,5,6,4,6,6,5,6,5,7,6,6,5,6,6,6,6,6,6,5,6,6,7,7,6,5,5,6,6,6,6,5,5,6,5,5,5,5,7,5,4,5,5,5,7,4,8,6,6,6,6,5,5,5,6,6,6,8,7,6,7,5,7,5,5,6,6,7,5,7,5,6,6,6,5,5,5,5,5,6,6,5,5,5,6,5,6,6,6,6,6,6,5,5,6,5,6,7,6,7,5,5,6,6,6,7,5,6,5,6,6,6,5,7,7,6,5,6,7,6,6,6,6,6,5,7,6,6,6,6,6,5,5,6,6,5,7,7,6,5,6,5,5,7,6,7,5,5,7,5,6,6,5,6,7,6,7,6,6,6,6,6,6,5,6,6,6,6,7,8,6,5,5,5,7,5,6,6,5,5,6,6,6,5,6,6,7,6,4,6,5,5,7,5,5,6,5,6,5,7,7,5,7,5,7,6,6,5,6,7,5,6,5,6,5,6,6,6,5,8,6,7,7,7,6,5,5,6,6,6,6,6,7,5,8,5,5,7,3,6,5,5,5,6,5,6,6,6,5,5,6,6,5,6,5,5,6,5,6,5,8,5,5,6,5,5,6,7,6,6,7,7,6,6,8,6,5,8,6,6,7,7,7,7,7,7,6,6,7,5,6,6,7,7,5,6,3,6,5,6,5,5,5,5,5,5,6,6,5,6,5,5,6,6,6,5,6,7,5,5,6,5,6,6,5,6,6,6,6,6,6,6,5,5,5,6,5,6,6,5,5,5,6,6,5,6,6,6,6,6,6,5,4,6,6,4,5,5,6,5,5,5,7,7,6,7,5,8,7,5,6,5,5,5,5,6,6,6,6,4,6,5,6,6,6,7,6,6,6,5,5,6,5,6,5,5,6,5,5,5,5,5,6,5,5,5,5,6,5,6,5,6,4,5,5,5,5,7,6,5,5,5,5,5,7,5,4,7,6,5,5,5,6,5,5,5,7,6,4,6,5,6,6,5,5,6,6,5,6,5,5,5,5,6,5,6,5,5,5,5,6,5,5,5,5,5,5,5,5,3,5,5,5,5,6,6,6,5,6,6,6,6,4,4,5,5,5,6,6,5,5,5,5,5,6,5,5,5,5,5,5,5,5,4,5,6,5,5,6,5,5,5,5,5,5,5,6,5,5,6,5,5,5,5,6,6,5,6,6,5,5,5,5,6,6,6,5,5,5,5,5,6,5,6,6,5,5,6,5,6,5,5,6,6,5,6,6,5,5,6,5,5,5,5,5,5,6,6,5,6,5,6,5,6,5,5,7,6,6,5,5,7,6,6,7,7,7,5,6,5,6,5,4,6,5,6,6,5,5,5,7,5,5,5,5,7,5,8,6,4,6,3,4,5,5,7,7,7,5,7,5,6,5,6,5,5,6,5,5,5,5,5,6,6,7,6,7,7,6,5,6,5,5,5,5,6,6,6,6,6,5,4,7,7,7,4,6,6,5,5,6,6,5,6,5,6,7,6,5,5,5,6,5,6,6,7,6,7,3,5,7,7,7,7,5,5,6,6,6,6,6,6,7,6,6,5,6,6,6,5,6,6,6,5,7,6,4,5,7,5,5,6,5,5,6,6,4,7,5,7,7,7,7,7,7,7,7,7,7,7,7,7,7,6,5,6,6,7,5,6,5,5,6,6,6,7,5,6,5,6,6,7,5,7,5,5,5,7,5,6,5,6,6,5,6,7,5,5,6,5,5,6,5,5,6,7,7,6,6,7,7,7,7,5,7,7,7,7,5,7,6,5,6,6,6,7,6,6,5,6,6,5,6,7,6,6,5,6,7,7,7,5,6,6,7,7,5,7,6,5,6,6,7,6,6,6,5,6,6,5,5,5,7,6,6,7,5,7,7,6,8,6,6,6,6,7,7,7,5,7,5,6,6,5,7,6,5,5,7,6,7,6,6,6,5,7,6,7,7,8,6,6,7,6,5,6,5,7,5,6,6,6,6,6,5,6,7,5,6,6,7,6,6,6,6,6,6,6,5,8,6,6,6,4,7,6,6,5,6,6,5,7,7,7,6,6,6,5,6,6,6,6,6,5,6,6,7,6,6,7,6,5,6,6,5,7,7,6,5,7,6,7,5,5,5,5,7,6,6,6,6,6,6,6,6,4,7,5,6,6,5,6,5,5,6,5,6,5,4,6,5,7,5,6,6,6,6,6,6,6,7,8,5,7,7,7,5,7,7,6,5,6,6,6,6,6,6,6,6,6,6,6,6,6,5,5,5,7,5,6,5,5,4,6,4,6,6,4,4,5,5,6,5,6,5,5,5,6,6,6,5,5,5,5,5,5,6,6,6,5,4,5,4,6,6,6,6,6,8,6,6,5,5,6,6,4,6,6,7,6,6,6,6,5,5,6,5,5,5,5,6,6,4,6,5,5,6,6,3,6,6,6,5,5,5,5,4,5,5,5,6,5,6,6,6,6,6,6,6,5,6,5,7,6,6,6,6,5,6,6,5,6,5,5,6,5,5,5,6,6,6,6,6,5,6,5,5,5,5,5,6,5,5,5,5,5,6,5,6,5,5,6,4,6,5,5,6,6,4,5,6,5,5,3,5,5,6,6,6,6,5,5,5,5,5,5,5,5,5,6,5,5,5,5,6,5,5,7,6,5,5,6,8,6,7,6,6,7,6,6,6,6,5,5,5,5,7,5,5,5,5,6,4,6,6,6,5,5,5,5,6,6,7,6,6,5,5,5,6,7,6,5,5,6,6,5,5,5,8,7,7,7,5,6,6,6,5,5,7,6,4,6,6,5,5,7,4,7,3,5,5,6,5,5,7,5,7,3,5,4,5,4,5,4,5,5,5,5,6,6,5,5,5,7,6,5,6,6,6,5,5,5,6,6,3,6,6,6,5,6,5,6,6,6,6,5,6,5,5,6,4,5,5,6,5,6,6,6,6,6,5,6,5,7,6,6,6,5,5,6,7,6,6,7,6,5,5,5,8,5,5,6,5,6,7,5,6,5,5,5,5,5,5,5,6,6,5,5,6,6,6,5,6,6,6,6,6,6,5,6,5,5,5,7,6,6,6,6,5,6,6,6,6,5,6,6,5,6],\"x0\":\" \",\"xaxis\":\"x\",\"y\":[0.0,0.0,0.03999999910593033,0.5600000023841858,0.0,0.0,0.05999999865889549,0.0,0.019999999552965164,0.36000001430511475,0.07999999821186066,0.36000001430511475,0.0,0.28999999165534973,0.18000000715255737,0.1899999976158142,0.5600000023841858,0.2800000011920929,0.07999999821186066,0.5099999904632568,0.47999998927116394,0.3100000023841858,0.20999999344348907,0.10999999940395355,0.14000000059604645,0.1599999964237213,0.23999999463558197,0.20999999344348907,0.0,0.0,0.07000000029802322,0.0,0.11999999731779099,0.11999999731779099,0.25,0.0,0.14000000059604645,0.2800000011920929,0.09000000357627869,0.36000001430511475,0.36000001430511475,0.30000001192092896,0.20000000298023224,0.2199999988079071,0.019999999552965164,0.15000000596046448,0.4300000071525574,0.5199999809265137,0.23000000417232513,0.3700000047683716,0.25999999046325684,0.03999999910593033,0.03999999910593033,0.36000001430511475,0.15000000596046448,0.03999999910593033,0.5699999928474426,0.11999999731779099,0.18000000715255737,0.3100000023841858,0.4000000059604645,0.49000000953674316,0.1599999964237213,0.05000000074505806,0.05000000074505806,0.05000000074505806,0.10999999940395355,0.07000000029802322,0.5699999928474426,0.05000000074505806,0.07999999821186066,0.23000000417232513,0.2199999988079071,0.25999999046325684,0.5400000214576721,0.6399999856948853,0.6399999856948853,0.0,0.11999999731779099,0.20000000298023224,0.20000000298023224,0.699999988079071,0.4699999988079071,0.25999999046325684,0.47999998927116394,0.15000000596046448,0.2800000011920929,0.25999999046325684,0.4399999976158142,0.07999999821186066,0.25999999046325684,0.2800000011920929,0.28999999165534973,0.25999999046325684,0.03999999910593033,0.17000000178813934,0.0,0.25,0.05999999865889549,0.18000000715255737,0.30000001192092896,0.30000001192092896,0.18000000715255737,0.2199999988079071,0.23999999463558197,0.2199999988079071,0.6800000071525574,0.3100000023841858,0.5299999713897705,0.5199999809265137,0.1899999976158142,0.09000000357627869,0.10000000149011612,0.4399999976158142,0.1899999976158142,0.3100000023841858,0.2800000011920929,0.11999999731779099,0.03999999910593033,0.07999999821186066,0.09000000357627869,0.03999999910593033,0.0,0.0,0.17000000178813934,0.03999999910593033,0.0,0.0,0.1599999964237213,0.15000000596046448,0.5600000023841858,0.09000000357627869,0.09000000357627869,0.009999999776482582,0.05000000074505806,0.10999999940395355,0.15000000596046448,0.36000001430511475,0.1899999976158142,0.1899999976158142,0.10999999940395355,0.15000000596046448,0.0,0.07999999821186066,0.0,0.550000011920929,0.019999999552965164,0.25999999046325684,0.10000000149011612,0.4399999976158142,0.4699999988079071,1.0,0.029999999329447746,0.029999999329447746,0.41999998688697815,0.41999998688697815,0.41999998688697815,0.41999998688697815,0.0,0.18000000715255737,0.029999999329447746,0.019999999552965164,0.03999999910593033,0.25999999046325684,0.25999999046325684,0.47999998927116394,0.10000000149011612,0.029999999329447746,0.07000000029802322,0.23999999463558197,0.029999999329447746,0.17000000178813934,0.17000000178813934,0.05000000074505806,0.20999999344348907,0.03999999910593033,0.20999999344348907,0.41999998688697815,0.0,0.14000000059604645,0.14000000059604645,0.49000000953674316,0.019999999552965164,0.20000000298023224,0.20999999344348907,0.5699999928474426,0.47999998927116394,0.10000000149011612,0.33000001311302185,0.3199999928474426,0.3499999940395355,0.25,0.11999999731779099,0.20999999344348907,0.20999999344348907,0.33000001311302185,0.30000001192092896,0.6000000238418579,0.07999999821186066,0.05999999865889549,0.4699999988079071,0.47999998927116394,0.10999999940395355,0.3499999940395355,0.36000001430511475,0.7400000095367432,0.7400000095367432,0.3100000023841858,0.2800000011920929,0.5799999833106995,0.6000000238418579,0.23999999463558197,0.6399999856948853,0.25999999046325684,0.07999999821186066,0.49000000953674316,0.1599999964237213,0.2199999988079071,0.1899999976158142,0.33000001311302185,0.3700000047683716,0.25999999046325684,0.03999999910593033,0.25,0.36000001430511475,0.25,0.5,0.14000000059604645,0.25,0.25,0.03999999910593033,0.05999999865889549,0.20000000298023224,0.25,0.09000000357627869,0.0,0.0,0.0,0.0,0.09000000357627869,0.3700000047683716,0.5600000023841858,0.10000000149011612,0.4399999976158142,0.4399999976158142,0.0,0.07000000029802322,0.17000000178813934,0.05999999865889549,0.0,0.4399999976158142,0.0,0.47999998927116394,0.41999998688697815,0.0,0.23000000417232513,0.3700000047683716,0.0,0.7599999904632568,0.4699999988079071,0.23000000417232513,0.03999999910593033,0.029999999329447746,0.23000000417232513,0.49000000953674316,0.5199999809265137,0.0,0.46000000834465027,0.03999999910593033,0.5099999904632568,0.05999999865889549,0.5099999904632568,0.5799999833106995,0.20000000298023224,0.18000000715255737,0.05999999865889549,0.03999999910593033,0.5099999904632568,0.44999998807907104,0.3199999928474426,0.4399999976158142,0.6800000071525574,0.11999999731779099,0.3199999928474426,0.07000000029802322,0.07000000029802322,0.550000011920929,0.11999999731779099,0.09000000357627869,0.5299999713897705,0.09000000357627869,0.47999998927116394,0.23000000417232513,0.25,0.5199999809265137,0.46000000834465027,0.3700000047683716,0.05999999865889549,0.019999999552965164,0.05999999865889549,0.05999999865889549,0.47999998927116394,0.11999999731779099,0.11999999731779099,0.6000000238418579,0.47999998927116394,0.3199999928474426,0.41999998688697815,0.4399999976158142,0.3799999952316284,0.47999998927116394,0.23999999463558197,0.3100000023841858,0.30000001192092896,0.28999999165534973,0.28999999165534973,0.23000000417232513,0.11999999731779099,0.38999998569488525,0.11999999731779099,0.38999998569488525,0.25999999046325684,0.05000000074505806,0.41999998688697815,0.20000000298023224,0.20000000298023224,0.6600000262260437,0.5,0.6200000047683716,0.38999998569488525,0.6399999856948853,0.6399999856948853,0.2800000011920929,0.07999999821186066,0.009999999776482582,0.5299999713897705,0.44999998807907104,0.3199999928474426,0.5799999833106995,0.5400000214576721,0.5,0.47999998927116394,0.4699999988079071,0.4699999988079071,0.5,0.0,0.019999999552965164,0.6700000166893005,0.3100000023841858,0.0,0.2199999988079071,0.0,0.0,0.7900000214576721,0.4000000059604645,0.009999999776482582,0.5199999809265137,0.6600000262260437,0.6600000262260437,0.6600000262260437,0.23000000417232513,0.3100000023841858,0.6600000262260437,0.6299999952316284,0.6600000262260437,0.5,0.6600000262260437,0.6100000143051147,0.5199999809265137,0.5299999713897705,0.019999999552965164,0.4000000059604645,0.47999998927116394,0.2199999988079071,0.6299999952316284,0.7099999785423279,0.5,0.5299999713897705,0.6600000262260437,0.3799999952316284,0.41999998688697815,0.6800000071525574,0.41999998688697815,0.41999998688697815,0.2800000011920929,0.07000000029802322,0.25999999046325684,0.15000000596046448,0.25999999046325684,0.3100000023841858,0.05000000074505806,0.6800000071525574,0.5199999809265137,0.6100000143051147,0.6499999761581421,0.7599999904632568,0.019999999552965164,0.5899999737739563,0.5899999737739563,0.2199999988079071,0.019999999552965164,0.30000001192092896,0.5400000214576721,0.49000000953674316,0.05000000074505806,0.46000000834465027,0.4699999988079071,0.6600000262260437,0.5799999833106995,0.49000000953674316,0.3400000035762787,0.3499999940395355,0.1599999964237213,0.5299999713897705,0.3400000035762787,0.23999999463558197,0.6399999856948853,0.11999999731779099,0.5099999904632568,0.0,0.33000001311302185,0.029999999329447746,0.20000000298023224,0.4699999988079071,0.20000000298023224,0.029999999329447746,0.07999999821186066,0.2199999988079071,0.33000001311302185,0.6299999952316284,0.4699999988079071,0.3499999940395355,0.6899999976158142,0.6299999952316284,0.550000011920929,0.6299999952316284,0.30000001192092896,0.7300000190734863,0.550000011920929,0.18000000715255737,0.7200000286102295,0.6499999761581421,0.7599999904632568,0.49000000953674316,0.009999999776482582,0.10000000149011612,0.6000000238418579,0.28999999165534973,0.2199999988079071,0.6899999976158142,0.6899999976158142,0.5299999713897705,0.029999999329447746,0.6299999952316284,0.4000000059604645,0.6700000166893005,0.38999998569488525,0.20999999344348907,0.6299999952316284,0.6600000262260437,0.5199999809265137,0.2199999988079071,0.6800000071525574,0.699999988079071,0.5400000214576721,0.4000000059604645,0.41999998688697815,0.44999998807907104,0.6899999976158142,0.019999999552965164,0.6499999761581421,0.41999998688697815,0.550000011920929,0.550000011920929,0.5099999904632568,0.23999999463558197,0.4099999964237213,0.49000000953674316,0.23999999463558197,0.10999999940395355,0.38999998569488525,0.5600000023841858,0.5899999737739563,0.6000000238418579,0.6800000071525574,0.38999998569488525,0.38999998569488525,0.36000001430511475,0.550000011920929,0.4000000059604645,0.27000001072883606,0.5,0.5099999904632568,0.3100000023841858,0.23000000417232513,0.5299999713897705,0.25,0.3199999928474426,0.5299999713897705,0.3100000023841858,0.25,0.7300000190734863,0.7300000190734863,0.4699999988079071,0.41999998688697815,0.6299999952316284,0.46000000834465027,0.550000011920929,0.3100000023841858,0.75,0.49000000953674316,0.3100000023841858,0.47999998927116394,0.6399999856948853,0.6399999856948853,0.49000000953674316,0.49000000953674316,0.49000000953674316,0.49000000953674316,0.49000000953674316,0.49000000953674316,0.49000000953674316,0.49000000953674316,0.49000000953674316,0.49000000953674316,0.23999999463558197,0.49000000953674316,0.49000000953674316,0.49000000953674316,0.23999999463558197,0.23999999463558197,0.49000000953674316,0.49000000953674316,0.23999999463558197,0.23999999463558197,0.23999999463558197,0.23999999463558197,0.23999999463558197,0.49000000953674316,0.7400000095367432,0.23999999463558197,0.49000000953674316,0.23999999463558197,0.23999999463558197,0.7400000095367432,0.49000000953674316,0.23999999463558197,0.49000000953674316,0.49000000953674316,0.49000000953674316,0.009999999776482582,0.23999999463558197,0.23999999463558197,0.23999999463558197,0.49000000953674316,0.49000000953674316,0.49000000953674316,0.49000000953674316,0.49000000953674316,0.49000000953674316,0.49000000953674316,0.49000000953674316,0.49000000953674316,0.49000000953674316,0.49000000953674316,0.49000000953674316,0.23999999463558197,0.23999999463558197,0.49000000953674316,0.23999999463558197,0.49000000953674316,0.23999999463558197,0.49000000953674316,0.49000000953674316,0.49000000953674316,0.49000000953674316,0.23999999463558197,0.49000000953674316,0.49000000953674316,0.49000000953674316,0.49000000953674316,0.49000000953674316,0.49000000953674316,0.49000000953674316,0.49000000953674316,0.23999999463558197,0.49000000953674316,0.23999999463558197,0.23999999463558197,0.49000000953674316,0.49000000953674316,0.49000000953674316,0.49000000953674316,0.5799999833106995,0.17000000178813934,0.4099999964237213,0.5099999904632568,0.5799999833106995,0.18000000715255737,0.44999998807907104,0.27000001072883606,0.5199999809265137,0.0,0.5199999809265137,0.12999999523162842,0.12999999523162842,0.47999998927116394,0.4099999964237213,0.3700000047683716,0.1899999976158142,0.5400000214576721,0.550000011920929,0.0,0.3799999952316284,0.18000000715255737,0.5,0.5,0.5099999904632568,0.5,0.4099999964237213,0.23999999463558197,0.23000000417232513,0.2199999988079071,0.25,0.0,0.0,0.28999999165534973,0.28999999165534973,0.25999999046325684,0.23000000417232513,0.25999999046325684,0.5400000214576721,0.14000000059604645,0.2199999988079071,0.20999999344348907,0.0,0.2800000011920929,0.27000001072883606,0.11999999731779099,0.3499999940395355,0.44999998807907104,0.4399999976158142,0.44999998807907104,0.4399999976158142,0.44999998807907104,0.10000000149011612,0.05000000074505806,0.009999999776482582,0.30000001192092896,0.27000001072883606,0.38999998569488525,0.25,0.6499999761581421,0.5899999737739563,0.4699999988079071,0.17000000178813934,0.38999998569488525,0.5899999737739563,0.07000000029802322,0.019999999552965164,0.07000000029802322,0.3100000023841858,0.05999999865889549,0.46000000834465027,0.5199999809265137,0.14000000059604645,0.36000001430511475,0.44999998807907104,0.4300000071525574,0.44999998807907104,0.23999999463558197,0.20999999344348907,0.3400000035762787,0.20999999344348907,0.4099999964237213,0.38999998569488525,0.4099999964237213,0.10999999940395355,0.10000000149011612,0.44999998807907104,0.5799999833106995,0.23000000417232513,0.3100000023841858,0.23000000417232513,0.3199999928474426,0.23000000417232513,0.18000000715255737,0.23000000417232513,0.03999999910593033,0.47999998927116394,0.0,0.23999999463558197,0.5099999904632568,0.3199999928474426,0.3100000023841858,0.019999999552965164,0.019999999552965164,0.019999999552965164,0.2800000011920929,0.550000011920929,0.4300000071525574,0.019999999552965164,0.019999999552965164,0.47999998927116394,0.03999999910593033,0.15000000596046448,0.07999999821186066,0.1899999976158142,0.11999999731779099,0.4699999988079071,0.4300000071525574,0.3400000035762787,0.0,0.36000001430511475,0.2800000011920929,0.18000000715255737,0.36000001430511475,0.10999999940395355,0.03999999910593033,0.0,0.03999999910593033,0.23999999463558197,0.07999999821186066,0.30000001192092896,0.10000000149011612,0.17000000178813934,0.09000000357627869,0.019999999552965164,0.019999999552965164,0.029999999329447746,0.6600000262260437,0.12999999523162842,0.029999999329447746,0.3400000035762787,0.20000000298023224,0.10000000149011612,0.10000000149011612,0.0,0.23000000417232513,0.0,0.28999999165534973,0.23999999463558197,0.0,0.5799999833106995,0.5400000214576721,0.18000000715255737,0.3799999952316284,0.4000000059604645,0.18000000715255737,0.18000000715255737,0.10000000149011612,0.10000000149011612,0.12999999523162842,0.10000000149011612,0.6800000071525574,0.07000000029802322,0.009999999776482582,0.0,0.0,0.20999999344348907,0.25,0.25999999046325684,0.0,0.25999999046325684,0.10999999940395355,0.10000000149011612,0.18000000715255737,0.3199999928474426,0.019999999552965164,0.009999999776482582,0.019999999552965164,0.25999999046325684,0.27000001072883606,0.28999999165534973,0.30000001192092896,0.0,0.18000000715255737,0.17000000178813934,0.30000001192092896,0.029999999329447746,0.0,0.14000000059604645,0.05000000074505806,0.14000000059604645,0.009999999776482582,0.4099999964237213,0.4099999964237213,0.23999999463558197,0.23999999463558197,0.17000000178813934,0.4300000071525574,0.17000000178813934,0.019999999552965164,0.0,0.5400000214576721,0.30000001192092896,0.3100000023841858,0.4399999976158142,0.3400000035762787,0.3400000035762787,0.07999999821186066,0.09000000357627869,0.0,0.07999999821186066,0.2199999988079071,0.4000000059604645,0.38999998569488525,0.4000000059604645,0.11999999731779099,0.3100000023841858,0.10000000149011612,0.550000011920929,0.33000001311302185,0.23999999463558197,0.5400000214576721,0.33000001311302185,0.1899999976158142,0.41999998688697815,0.0,0.15000000596046448,0.0,0.0,0.12999999523162842,0.12999999523162842,0.2800000011920929,0.14000000059604645,0.3400000035762787,0.14000000059604645,0.09000000357627869,0.07999999821186066,0.07000000029802322,0.07999999821186066,0.41999998688697815,0.4399999976158142,0.25999999046325684,0.10000000149011612,0.2800000011920929,0.2800000011920929,0.3499999940395355,0.03999999910593033,0.4699999988079071,0.0,0.44999998807907104,0.3499999940395355,0.46000000834465027,0.20999999344348907,0.20999999344348907,0.1599999964237213,0.20999999344348907,0.20999999344348907,0.4399999976158142,0.4399999976158142,0.3199999928474426,0.38999998569488525,0.38999998569488525,0.019999999552965164,0.38999998569488525,0.3400000035762787,0.4699999988079071,0.2199999988079071,0.05999999865889549,0.6600000262260437,0.3199999928474426,0.05999999865889549,0.05999999865889549,0.07000000029802322,0.2199999988079071,0.23000000417232513,0.2199999988079071,0.029999999329447746,0.009999999776482582,0.029999999329447746,0.23999999463558197,0.3700000047683716,0.46000000834465027,0.4000000059604645,0.0,0.009999999776482582,0.1899999976158142,0.03999999910593033,0.18000000715255737,0.0,0.28999999165534973,0.03999999910593033,0.1899999976158142,0.14000000059604645,0.11999999731779099,0.3799999952316284,0.0,0.3400000035762787,0.23999999463558197,0.029999999329447746,0.23000000417232513,0.029999999329447746,0.029999999329447746,0.009999999776482582,0.38999998569488525,0.009999999776482582,0.38999998569488525,0.019999999552965164,0.36000001430511475,0.10000000149011612,0.10000000149011612,0.05999999865889549,0.05999999865889549,0.20000000298023224,0.27000001072883606,0.0,0.12999999523162842,0.38999998569488525,0.47999998927116394,0.46000000834465027,0.4399999976158142,0.46000000834465027,0.38999998569488525,0.4000000059604645,0.1899999976158142,0.3100000023841858,0.3199999928474426,0.11999999731779099,0.3700000047683716,0.3199999928474426,0.11999999731779099,0.3100000023841858,0.27000001072883606,0.36000001430511475,0.33000001311302185,0.1899999976158142,0.27000001072883606,0.3799999952316284,0.009999999776482582,0.009999999776482582,0.28999999165534973,0.009999999776482582,0.009999999776482582,0.3799999952316284,0.3799999952316284,0.5,0.3799999952316284,0.17000000178813934,0.5199999809265137,0.49000000953674316,0.4000000059604645,0.3400000035762787,0.49000000953674316,0.41999998688697815,0.5799999833106995,0.47999998927116394,0.44999998807907104,0.44999998807907104,0.44999998807907104,0.47999998927116394,0.4000000059604645,0.47999998927116394,0.4000000059604645,0.5199999809265137,0.5199999809265137,0.5199999809265137,0.11999999731779099,0.05000000074505806,0.27000001072883606,0.14000000059604645,0.019999999552965164,0.38999998569488525,0.27000001072883606,0.4000000059604645,0.4099999964237213,0.20000000298023224,0.4300000071525574,0.09000000357627869,0.47999998927116394,0.47999998927116394,0.5,0.4399999976158142,0.4099999964237213,0.30000001192092896,0.30000001192092896,0.28999999165534973,0.3199999928474426,0.49000000953674316,0.30000001192092896,0.25999999046325684,0.3199999928474426,0.30000001192092896,0.49000000953674316,0.0,0.38999998569488525,0.30000001192092896,0.11999999731779099,0.4000000059604645,0.11999999731779099,0.2800000011920929,0.10000000149011612,0.2800000011920929,0.44999998807907104,0.05999999865889549,0.0,0.0,0.3400000035762787,0.0,0.30000001192092896,0.3799999952316284,0.33000001311302185,0.3199999928474426,0.28999999165534973,0.3199999928474426,0.33000001311302185,0.3400000035762787,0.4000000059604645,0.36000001430511475,0.44999998807907104,0.3100000023841858,0.15000000596046448,0.0,0.1599999964237213,0.46000000834465027,0.4000000059604645,0.3700000047683716,0.3700000047683716,0.14000000059604645,0.6600000262260437,0.6600000262260437,0.09000000357627869,0.41999998688697815,0.009999999776482582,0.0,0.3199999928474426,0.0,0.20999999344348907,0.009999999776482582,0.0,0.009999999776482582,0.0,0.07999999821186066,0.18000000715255737,0.3400000035762787,0.3400000035762787,0.10000000149011612,0.4099999964237213,0.20999999344348907,0.0,0.1899999976158142,0.20999999344348907,0.4099999964237213,0.33000001311302185,0.0,0.0,0.17000000178813934,0.36000001430511475,0.36000001430511475,0.17000000178813934,0.5899999737739563,0.05000000074505806,0.41999998688697815,0.27000001072883606,0.27000001072883606,0.5299999713897705,0.25,0.5699999928474426,0.5299999713897705,0.5699999928474426,0.5,0.4399999976158142,0.6499999761581421,0.09000000357627869,0.18000000715255737,0.07999999821186066,0.5299999713897705,0.5299999713897705,0.3499999940395355,0.44999998807907104,0.20000000298023224,0.25999999046325684,0.33000001311302185,0.20000000298023224,0.3400000035762787,0.5600000023841858,0.6499999761581421,0.6499999761581421,0.6800000071525574,0.5600000023841858,0.6800000071525574,0.30000001192092896,0.44999998807907104,0.30000001192092896,0.07999999821186066,0.4000000059604645,0.41999998688697815,0.5400000214576721,0.5400000214576721,0.5400000214576721,0.41999998688697815,0.09000000357627869,0.36000001430511475,0.09000000357627869,0.4699999988079071,0.09000000357627869,0.3799999952316284,0.44999998807907104,0.3799999952316284,0.41999998688697815,0.27000001072883606,0.09000000357627869,0.27000001072883606,0.3400000035762787,0.2800000011920929,0.41999998688697815,0.4099999964237213,0.10000000149011612,0.4300000071525574,0.0,0.27000001072883606,0.4099999964237213,0.38999998569488525,0.5,0.07000000029802322,0.07000000029802322,0.07000000029802322,0.11999999731779099,0.0,0.3400000035762787,0.0,0.0,0.3700000047683716,0.0,0.3499999940395355,0.25999999046325684,0.0,0.33000001311302185,0.3499999940395355,0.0,0.20999999344348907,0.3400000035762787,0.07000000029802322,0.3499999940395355,0.4300000071525574,0.44999998807907104,0.44999998807907104,0.15000000596046448,0.23999999463558197,0.30000001192092896,0.3199999928474426,0.10999999940395355,0.30000001192092896,0.23000000417232513,0.4300000071525574,0.11999999731779099,0.44999998807907104,0.41999998688697815,0.4699999988079071,0.3199999928474426,0.23000000417232513,0.25,0.3499999940395355,0.0,0.25,0.5099999904632568,0.18000000715255737,0.4300000071525574,0.4300000071525574,0.5699999928474426,0.4300000071525574,0.41999998688697815,0.23999999463558197,0.23999999463558197,0.5,0.25999999046325684,0.38999998569488525,0.27000001072883606,0.28999999165534973,0.3400000035762787,0.0,0.46000000834465027,0.3100000023841858,0.3100000023841858,0.0,0.029999999329447746,0.0,0.0,0.33000001311302185,0.33000001311302185,0.4300000071525574,0.4000000059604645,0.07000000029802322,0.23000000417232513,0.30000001192092896,0.029999999329447746,0.30000001192092896,0.23000000417232513,0.05000000074505806,0.5699999928474426,0.0,0.3700000047683716,0.0,0.11999999731779099,0.2199999988079071,0.23000000417232513,0.20999999344348907,0.25999999046325684,0.23000000417232513,0.20999999344348907,0.36000001430511475,0.38999998569488525,0.1899999976158142,0.46000000834465027,0.46000000834465027,0.46000000834465027,0.550000011920929,0.46000000834465027,0.4300000071525574,0.019999999552965164,0.15000000596046448,0.019999999552965164,0.41999998688697815,0.46000000834465027,0.46000000834465027,0.3100000023841858,0.3700000047683716,0.3100000023841858,0.4000000059604645,0.5199999809265137,0.5199999809265137,0.2199999988079071,0.4699999988079071,0.49000000953674316,0.23000000417232513,0.029999999329447746,0.25,0.0,0.28999999165534973,0.3400000035762787,0.009999999776482582,0.28999999165534973,0.3700000047683716,0.009999999776482582,0.3199999928474426,0.0,0.009999999776482582,0.0,0.0,0.20000000298023224,0.38999998569488525,0.4099999964237213,0.2199999988079071,0.25,0.1899999976158142,0.07000000029802322,0.1899999976158142,0.33000001311302185,0.009999999776482582,0.009999999776482582,0.14000000059604645,0.0,0.0,0.05999999865889549,0.019999999552965164,0.2199999988079071,0.2800000011920929,0.0,0.0,0.6800000071525574,0.0,0.3799999952316284,0.0,0.3199999928474426,0.05000000074505806,0.05000000074505806,0.5,0.3100000023841858,0.029999999329447746,0.009999999776482582,0.20000000298023224,0.0,0.20000000298023224,0.12999999523162842,0.2199999988079071,0.4000000059604645,0.0,0.2199999988079071,0.38999998569488525,0.20000000298023224,0.20000000298023224,0.0,0.2800000011920929,0.1899999976158142,0.5,0.4399999976158142,0.07999999821186066,0.30000001192092896,0.30000001192092896,0.0,0.10000000149011612,0.12999999523162842,0.0,0.10000000149011612,0.0,0.0,0.14000000059604645,0.0,0.0,0.0,0.07000000029802322,0.3199999928474426,0.4399999976158142,0.20999999344348907,0.25999999046325684,0.3199999928474426,0.09000000357627869,0.3199999928474426,0.10000000149011612,0.25999999046325684,0.15000000596046448,0.20999999344348907,0.20999999344348907,0.20999999344348907,0.27000001072883606,0.0,0.46000000834465027,0.27000001072883606,0.6800000071525574,0.3400000035762787,0.0,0.41999998688697815,0.38999998569488525,0.23999999463558197,0.23999999463558197,0.23999999463558197,0.23999999463558197,0.10999999940395355,0.25999999046325684,0.25999999046325684,0.25999999046325684,0.10000000149011612,0.2199999988079071,0.0,0.019999999552965164,0.0,0.0,0.0,0.019999999552965164,0.019999999552965164,0.019999999552965164,0.019999999552965164,0.019999999552965164,0.47999998927116394,0.23999999463558197,0.009999999776482582,0.029999999329447746,0.029999999329447746,0.0,0.28999999165534973,0.009999999776482582,0.029999999329447746,0.029999999329447746,0.029999999329447746,0.25,0.25,0.23999999463558197,0.17000000178813934,0.4000000059604645,0.3100000023841858,0.14000000059604645,0.4000000059604645,0.27000001072883606,0.019999999552965164,0.09000000357627869,0.07999999821186066,0.30000001192092896,0.3199999928474426,0.0,0.5099999904632568,0.5600000023841858,0.5099999904632568,0.27000001072883606,0.0,0.25999999046325684,0.20000000298023224,0.25999999046325684,0.15000000596046448,0.019999999552965164,0.019999999552965164,0.09000000357627869,0.2199999988079071,0.2199999988079071,0.15000000596046448,0.25,0.07000000029802322,0.07000000029802322,0.3100000023841858,0.019999999552965164,0.0,0.2199999988079071,0.05999999865889549,0.25,0.14000000059604645,0.10000000149011612,0.10000000149011612,0.25999999046325684,0.11999999731779099,0.0,0.20999999344348907,0.20999999344348907,0.41999998688697815,0.33000001311302185,0.38999998569488525,0.30000001192092896,0.3400000035762787,0.0,0.36000001430511475,0.0,0.0,0.4000000059604645,0.3400000035762787,0.25,0.5899999737739563,0.0,0.5899999737739563,0.33000001311302185,0.009999999776482582,0.20999999344348907,0.009999999776482582,0.18000000715255737,0.0,0.09000000357627869,0.3700000047683716,0.3700000047683716,0.3700000047683716,0.33000001311302185,0.0,0.4000000059604645,0.23999999463558197,0.3100000023841858,0.0,0.1599999964237213,0.3700000047683716,0.3700000047683716,0.3799999952316284,0.28999999165534973,0.0,0.019999999552965164,0.3199999928474426,0.1899999976158142,0.019999999552965164,0.20000000298023224,0.019999999552965164,0.1899999976158142,0.019999999552965164,0.0,0.009999999776482582,0.3100000023841858,0.3199999928474426,0.4399999976158142,0.019999999552965164,0.33000001311302185,0.6299999952316284,0.0,0.05999999865889549,0.33000001311302185,0.4000000059604645,0.3499999940395355,0.09000000357627869,0.0,0.029999999329447746,0.009999999776482582,0.10000000149011612,0.10000000149011612,0.3199999928474426,0.07999999821186066,0.3199999928474426,0.05000000074505806,0.10999999940395355,0.07999999821186066,0.6000000238418579,0.07999999821186066,0.5,0.10999999940395355,0.5,0.10999999940395355,0.05000000074505806,0.6000000238418579,0.029999999329447746,0.6000000238418579,0.5400000214576721,0.4399999976158142,0.05999999865889549,0.1599999964237213,0.20999999344348907,0.05000000074505806,0.03999999910593033,0.10000000149011612,0.49000000953674316,0.03999999910593033,0.05999999865889549,0.25999999046325684,0.09000000357627869,0.019999999552965164,0.25999999046325684,0.029999999329447746,0.03999999910593033,0.029999999329447746,0.03999999910593033,0.28999999165534973,0.18000000715255737,0.38999998569488525,0.5699999928474426,0.019999999552965164,0.05000000074505806,0.5699999928474426,0.6000000238418579,0.4000000059604645,0.20999999344348907,0.03999999910593033,0.03999999910593033,0.15000000596046448,0.20999999344348907,0.20999999344348907,0.25,0.05999999865889549,0.46000000834465027,0.07999999821186066,0.05999999865889549,0.20000000298023224,0.25,0.25,0.1899999976158142,0.07999999821186066,0.07999999821186066,0.07000000029802322,0.49000000953674316,0.07999999821186066,0.09000000357627869,0.10000000149011612,0.12999999523162842,0.30000001192092896,0.14000000059604645,0.12999999523162842,0.07999999821186066,0.07999999821186066,0.09000000357627869,0.3199999928474426,0.07999999821186066,0.28999999165534973,0.019999999552965164,0.41999998688697815,0.4300000071525574,0.33000001311302185,0.019999999552965164,0.10000000149011612,0.5,0.30000001192092896,0.0,0.0,0.009999999776482582,0.0,0.019999999552965164,0.17000000178813934,0.03999999910593033,0.019999999552965164,0.33000001311302185,0.25999999046325684,0.25999999046325684,0.25999999046325684,0.12999999523162842,0.12999999523162842,0.12999999523162842,0.019999999552965164,0.6399999856948853,0.12999999523162842,0.12999999523162842,0.14000000059604645,0.5299999713897705,0.14000000059604645,0.3199999928474426,0.20000000298023224,0.7799999713897705,0.4000000059604645,0.6299999952316284,0.15000000596046448,0.15000000596046448,0.09000000357627869,0.33000001311302185,0.09000000357627869,0.10000000149011612,0.28999999165534973,0.4399999976158142,0.4399999976158142,0.4099999964237213,0.10999999940395355,0.33000001311302185,0.20000000298023224,0.15000000596046448,0.09000000357627869,0.12999999523162842,0.07999999821186066,0.07999999821186066,0.10000000149011612,0.12999999523162842,0.11999999731779099,0.4699999988079071],\"y0\":\" \",\"yaxis\":\"y\",\"type\":\"box\"}],                        {\"template\":{\"data\":{\"bar\":[{\"error_x\":{\"color\":\"#2a3f5f\"},\"error_y\":{\"color\":\"#2a3f5f\"},\"marker\":{\"line\":{\"color\":\"#E5ECF6\",\"width\":0.5},\"pattern\":{\"fillmode\":\"overlay\",\"size\":10,\"solidity\":0.2}},\"type\":\"bar\"}],\"barpolar\":[{\"marker\":{\"line\":{\"color\":\"#E5ECF6\",\"width\":0.5},\"pattern\":{\"fillmode\":\"overlay\",\"size\":10,\"solidity\":0.2}},\"type\":\"barpolar\"}],\"carpet\":[{\"aaxis\":{\"endlinecolor\":\"#2a3f5f\",\"gridcolor\":\"white\",\"linecolor\":\"white\",\"minorgridcolor\":\"white\",\"startlinecolor\":\"#2a3f5f\"},\"baxis\":{\"endlinecolor\":\"#2a3f5f\",\"gridcolor\":\"white\",\"linecolor\":\"white\",\"minorgridcolor\":\"white\",\"startlinecolor\":\"#2a3f5f\"},\"type\":\"carpet\"}],\"choropleth\":[{\"colorbar\":{\"outlinewidth\":0,\"ticks\":\"\"},\"type\":\"choropleth\"}],\"contour\":[{\"colorbar\":{\"outlinewidth\":0,\"ticks\":\"\"},\"colorscale\":[[0.0,\"#0d0887\"],[0.1111111111111111,\"#46039f\"],[0.2222222222222222,\"#7201a8\"],[0.3333333333333333,\"#9c179e\"],[0.4444444444444444,\"#bd3786\"],[0.5555555555555556,\"#d8576b\"],[0.6666666666666666,\"#ed7953\"],[0.7777777777777778,\"#fb9f3a\"],[0.8888888888888888,\"#fdca26\"],[1.0,\"#f0f921\"]],\"type\":\"contour\"}],\"contourcarpet\":[{\"colorbar\":{\"outlinewidth\":0,\"ticks\":\"\"},\"type\":\"contourcarpet\"}],\"heatmap\":[{\"colorbar\":{\"outlinewidth\":0,\"ticks\":\"\"},\"colorscale\":[[0.0,\"#0d0887\"],[0.1111111111111111,\"#46039f\"],[0.2222222222222222,\"#7201a8\"],[0.3333333333333333,\"#9c179e\"],[0.4444444444444444,\"#bd3786\"],[0.5555555555555556,\"#d8576b\"],[0.6666666666666666,\"#ed7953\"],[0.7777777777777778,\"#fb9f3a\"],[0.8888888888888888,\"#fdca26\"],[1.0,\"#f0f921\"]],\"type\":\"heatmap\"}],\"heatmapgl\":[{\"colorbar\":{\"outlinewidth\":0,\"ticks\":\"\"},\"colorscale\":[[0.0,\"#0d0887\"],[0.1111111111111111,\"#46039f\"],[0.2222222222222222,\"#7201a8\"],[0.3333333333333333,\"#9c179e\"],[0.4444444444444444,\"#bd3786\"],[0.5555555555555556,\"#d8576b\"],[0.6666666666666666,\"#ed7953\"],[0.7777777777777778,\"#fb9f3a\"],[0.8888888888888888,\"#fdca26\"],[1.0,\"#f0f921\"]],\"type\":\"heatmapgl\"}],\"histogram\":[{\"marker\":{\"pattern\":{\"fillmode\":\"overlay\",\"size\":10,\"solidity\":0.2}},\"type\":\"histogram\"}],\"histogram2d\":[{\"colorbar\":{\"outlinewidth\":0,\"ticks\":\"\"},\"colorscale\":[[0.0,\"#0d0887\"],[0.1111111111111111,\"#46039f\"],[0.2222222222222222,\"#7201a8\"],[0.3333333333333333,\"#9c179e\"],[0.4444444444444444,\"#bd3786\"],[0.5555555555555556,\"#d8576b\"],[0.6666666666666666,\"#ed7953\"],[0.7777777777777778,\"#fb9f3a\"],[0.8888888888888888,\"#fdca26\"],[1.0,\"#f0f921\"]],\"type\":\"histogram2d\"}],\"histogram2dcontour\":[{\"colorbar\":{\"outlinewidth\":0,\"ticks\":\"\"},\"colorscale\":[[0.0,\"#0d0887\"],[0.1111111111111111,\"#46039f\"],[0.2222222222222222,\"#7201a8\"],[0.3333333333333333,\"#9c179e\"],[0.4444444444444444,\"#bd3786\"],[0.5555555555555556,\"#d8576b\"],[0.6666666666666666,\"#ed7953\"],[0.7777777777777778,\"#fb9f3a\"],[0.8888888888888888,\"#fdca26\"],[1.0,\"#f0f921\"]],\"type\":\"histogram2dcontour\"}],\"mesh3d\":[{\"colorbar\":{\"outlinewidth\":0,\"ticks\":\"\"},\"type\":\"mesh3d\"}],\"parcoords\":[{\"line\":{\"colorbar\":{\"outlinewidth\":0,\"ticks\":\"\"}},\"type\":\"parcoords\"}],\"pie\":[{\"automargin\":true,\"type\":\"pie\"}],\"scatter\":[{\"marker\":{\"colorbar\":{\"outlinewidth\":0,\"ticks\":\"\"}},\"type\":\"scatter\"}],\"scatter3d\":[{\"line\":{\"colorbar\":{\"outlinewidth\":0,\"ticks\":\"\"}},\"marker\":{\"colorbar\":{\"outlinewidth\":0,\"ticks\":\"\"}},\"type\":\"scatter3d\"}],\"scattercarpet\":[{\"marker\":{\"colorbar\":{\"outlinewidth\":0,\"ticks\":\"\"}},\"type\":\"scattercarpet\"}],\"scattergeo\":[{\"marker\":{\"colorbar\":{\"outlinewidth\":0,\"ticks\":\"\"}},\"type\":\"scattergeo\"}],\"scattergl\":[{\"marker\":{\"colorbar\":{\"outlinewidth\":0,\"ticks\":\"\"}},\"type\":\"scattergl\"}],\"scattermapbox\":[{\"marker\":{\"colorbar\":{\"outlinewidth\":0,\"ticks\":\"\"}},\"type\":\"scattermapbox\"}],\"scatterpolar\":[{\"marker\":{\"colorbar\":{\"outlinewidth\":0,\"ticks\":\"\"}},\"type\":\"scatterpolar\"}],\"scatterpolargl\":[{\"marker\":{\"colorbar\":{\"outlinewidth\":0,\"ticks\":\"\"}},\"type\":\"scatterpolargl\"}],\"scatterternary\":[{\"marker\":{\"colorbar\":{\"outlinewidth\":0,\"ticks\":\"\"}},\"type\":\"scatterternary\"}],\"surface\":[{\"colorbar\":{\"outlinewidth\":0,\"ticks\":\"\"},\"colorscale\":[[0.0,\"#0d0887\"],[0.1111111111111111,\"#46039f\"],[0.2222222222222222,\"#7201a8\"],[0.3333333333333333,\"#9c179e\"],[0.4444444444444444,\"#bd3786\"],[0.5555555555555556,\"#d8576b\"],[0.6666666666666666,\"#ed7953\"],[0.7777777777777778,\"#fb9f3a\"],[0.8888888888888888,\"#fdca26\"],[1.0,\"#f0f921\"]],\"type\":\"surface\"}],\"table\":[{\"cells\":{\"fill\":{\"color\":\"#EBF0F8\"},\"line\":{\"color\":\"white\"}},\"header\":{\"fill\":{\"color\":\"#C8D4E3\"},\"line\":{\"color\":\"white\"}},\"type\":\"table\"}]},\"layout\":{\"annotationdefaults\":{\"arrowcolor\":\"#2a3f5f\",\"arrowhead\":0,\"arrowwidth\":1},\"autotypenumbers\":\"strict\",\"coloraxis\":{\"colorbar\":{\"outlinewidth\":0,\"ticks\":\"\"}},\"colorscale\":{\"diverging\":[[0,\"#8e0152\"],[0.1,\"#c51b7d\"],[0.2,\"#de77ae\"],[0.3,\"#f1b6da\"],[0.4,\"#fde0ef\"],[0.5,\"#f7f7f7\"],[0.6,\"#e6f5d0\"],[0.7,\"#b8e186\"],[0.8,\"#7fbc41\"],[0.9,\"#4d9221\"],[1,\"#276419\"]],\"sequential\":[[0.0,\"#0d0887\"],[0.1111111111111111,\"#46039f\"],[0.2222222222222222,\"#7201a8\"],[0.3333333333333333,\"#9c179e\"],[0.4444444444444444,\"#bd3786\"],[0.5555555555555556,\"#d8576b\"],[0.6666666666666666,\"#ed7953\"],[0.7777777777777778,\"#fb9f3a\"],[0.8888888888888888,\"#fdca26\"],[1.0,\"#f0f921\"]],\"sequentialminus\":[[0.0,\"#0d0887\"],[0.1111111111111111,\"#46039f\"],[0.2222222222222222,\"#7201a8\"],[0.3333333333333333,\"#9c179e\"],[0.4444444444444444,\"#bd3786\"],[0.5555555555555556,\"#d8576b\"],[0.6666666666666666,\"#ed7953\"],[0.7777777777777778,\"#fb9f3a\"],[0.8888888888888888,\"#fdca26\"],[1.0,\"#f0f921\"]]},\"colorway\":[\"#636efa\",\"#EF553B\",\"#00cc96\",\"#ab63fa\",\"#FFA15A\",\"#19d3f3\",\"#FF6692\",\"#B6E880\",\"#FF97FF\",\"#FECB52\"],\"font\":{\"color\":\"#2a3f5f\"},\"geo\":{\"bgcolor\":\"white\",\"lakecolor\":\"white\",\"landcolor\":\"#E5ECF6\",\"showlakes\":true,\"showland\":true,\"subunitcolor\":\"white\"},\"hoverlabel\":{\"align\":\"left\"},\"hovermode\":\"closest\",\"mapbox\":{\"style\":\"light\"},\"paper_bgcolor\":\"white\",\"plot_bgcolor\":\"#E5ECF6\",\"polar\":{\"angularaxis\":{\"gridcolor\":\"white\",\"linecolor\":\"white\",\"ticks\":\"\"},\"bgcolor\":\"#E5ECF6\",\"radialaxis\":{\"gridcolor\":\"white\",\"linecolor\":\"white\",\"ticks\":\"\"}},\"scene\":{\"xaxis\":{\"backgroundcolor\":\"#E5ECF6\",\"gridcolor\":\"white\",\"gridwidth\":2,\"linecolor\":\"white\",\"showbackground\":true,\"ticks\":\"\",\"zerolinecolor\":\"white\"},\"yaxis\":{\"backgroundcolor\":\"#E5ECF6\",\"gridcolor\":\"white\",\"gridwidth\":2,\"linecolor\":\"white\",\"showbackground\":true,\"ticks\":\"\",\"zerolinecolor\":\"white\"},\"zaxis\":{\"backgroundcolor\":\"#E5ECF6\",\"gridcolor\":\"white\",\"gridwidth\":2,\"linecolor\":\"white\",\"showbackground\":true,\"ticks\":\"\",\"zerolinecolor\":\"white\"}},\"shapedefaults\":{\"line\":{\"color\":\"#2a3f5f\"}},\"ternary\":{\"aaxis\":{\"gridcolor\":\"white\",\"linecolor\":\"white\",\"ticks\":\"\"},\"baxis\":{\"gridcolor\":\"white\",\"linecolor\":\"white\",\"ticks\":\"\"},\"bgcolor\":\"#E5ECF6\",\"caxis\":{\"gridcolor\":\"white\",\"linecolor\":\"white\",\"ticks\":\"\"}},\"title\":{\"x\":0.05},\"xaxis\":{\"automargin\":true,\"gridcolor\":\"white\",\"linecolor\":\"white\",\"ticks\":\"\",\"title\":{\"standoff\":15},\"zerolinecolor\":\"white\",\"zerolinewidth\":2},\"yaxis\":{\"automargin\":true,\"gridcolor\":\"white\",\"linecolor\":\"white\",\"ticks\":\"\",\"title\":{\"standoff\":15},\"zerolinecolor\":\"white\",\"zerolinewidth\":2}}},\"xaxis\":{\"anchor\":\"y\",\"domain\":[0.0,1.0],\"title\":{\"text\":\"quality\"}},\"yaxis\":{\"anchor\":\"x\",\"domain\":[0.0,1.0],\"title\":{\"text\":\"citric acid\"}},\"legend\":{\"tracegroupgap\":0},\"margin\":{\"t\":60},\"boxmode\":\"group\"},                        {\"responsive\": true}                    ).then(function(){\n",
              "                            \n",
              "var gd = document.getElementById('0ed14510-240b-4a68-b257-61afcb0423a4');\n",
              "var x = new MutationObserver(function (mutations, observer) {{\n",
              "        var display = window.getComputedStyle(gd).display;\n",
              "        if (!display || display === 'none') {{\n",
              "            console.log([gd, 'removed!']);\n",
              "            Plotly.purge(gd);\n",
              "            observer.disconnect();\n",
              "        }}\n",
              "}});\n",
              "\n",
              "// Listen for the removal of the full notebook cells\n",
              "var notebookContainer = gd.closest('#notebook-container');\n",
              "if (notebookContainer) {{\n",
              "    x.observe(notebookContainer, {childList: true});\n",
              "}}\n",
              "\n",
              "// Listen for the clearing of the current output cell\n",
              "var outputEl = gd.closest('.output');\n",
              "if (outputEl) {{\n",
              "    x.observe(outputEl, {childList: true});\n",
              "}}\n",
              "\n",
              "                        })                };                            </script>        </div>\n",
              "</body>\n",
              "</html>"
            ]
          },
          "metadata": {}
        }
      ]
    },
    {
      "cell_type": "markdown",
      "source": [
        "## Feature selection"
      ],
      "metadata": {
        "id": "n-6qsi8bwdk8"
      }
    },
    {
      "cell_type": "code",
      "source": [
        "features = ['fixed acidity',\n",
        "            'volatile acidity',\n",
        "            'citric acid',\n",
        "            'residual sugar',\n",
        "            'chlorides',\n",
        "            'free sulfur dioxide',\n",
        "            'total sulfur dioxide',\n",
        "            'density',\n",
        "            'pH',\n",
        "            'sulphates',\n",
        "            'alcohol']\n",
        "dependent_variable = 'quality'"
      ],
      "metadata": {
        "id": "NdNtdNtLwcty"
      },
      "execution_count": 64,
      "outputs": []
    },
    {
      "cell_type": "code",
      "source": [
        "from pyspark.sql.functions import when\n",
        "\n",
        "required_features = ['fixed acidity',\n",
        "            'volatile acidity',\n",
        "            'citric acid',\n",
        "            'residual sugar',\n",
        "            'chlorides',\n",
        "            'free sulfur dioxide',\n",
        "            'total sulfur dioxide',\n",
        "            'density',\n",
        "            'pH',\n",
        "            'sulphates',\n",
        "            'alcohol']\n",
        "\n",
        "from pyspark.ml.feature import VectorAssembler\n",
        "\n",
        "df = df.withColumn('wine_quality', when(df.quality >= 6, 1).otherwise(0))\n",
        "assembler = VectorAssembler(inputCols=required_features, outputCol='features')\n",
        "transformed_data = assembler.transform(df)"
      ],
      "metadata": {
        "id": "8cG0g4EE3YGx"
      },
      "execution_count": 65,
      "outputs": []
    },
    {
      "cell_type": "code",
      "source": [
        "transformed_data.show()"
      ],
      "metadata": {
        "colab": {
          "base_uri": "https://localhost:8080/"
        },
        "id": "Y9PVkH_I3-p5",
        "outputId": "b8d60105-4b8e-4164-f6a2-6767d6c969fe"
      },
      "execution_count": 66,
      "outputs": [
        {
          "output_type": "stream",
          "name": "stdout",
          "text": [
            "+-------------+----------------+-----------+--------------+---------+-------------------+--------------------+-------+----+---------+-------+-------+------------+--------------------+\n",
            "|fixed acidity|volatile acidity|citric acid|residual sugar|chlorides|free sulfur dioxide|total sulfur dioxide|density|  pH|sulphates|alcohol|quality|wine_quality|            features|\n",
            "+-------------+----------------+-----------+--------------+---------+-------------------+--------------------+-------+----+---------+-------+-------+------------+--------------------+\n",
            "|          7.4|             0.7|        0.0|           1.9|    0.076|               11.0|                34.0| 0.9978|3.51|     0.56|    9.4|      5|           0|[7.40000009536743...|\n",
            "|          7.8|            0.88|        0.0|           2.6|    0.098|               25.0|                67.0| 0.9968| 3.2|     0.68|    9.8|      5|           0|[7.80000019073486...|\n",
            "|          7.8|            0.76|       0.04|           2.3|    0.092|               15.0|                54.0|  0.997|3.26|     0.65|    9.8|      5|           0|[7.80000019073486...|\n",
            "|         11.2|            0.28|       0.56|           1.9|    0.075|               17.0|                60.0|  0.998|3.16|     0.58|    9.8|      6|           1|[11.1999998092651...|\n",
            "|          7.4|             0.7|        0.0|           1.9|    0.076|               11.0|                34.0| 0.9978|3.51|     0.56|    9.4|      5|           0|[7.40000009536743...|\n",
            "|          7.4|            0.66|        0.0|           1.8|    0.075|               13.0|                40.0| 0.9978|3.51|     0.56|    9.4|      5|           0|[7.40000009536743...|\n",
            "|          7.9|             0.6|       0.06|           1.6|    0.069|               15.0|                59.0| 0.9964| 3.3|     0.46|    9.4|      5|           0|[7.90000009536743...|\n",
            "|          7.3|            0.65|        0.0|           1.2|    0.065|               15.0|                21.0| 0.9946|3.39|     0.47|   10.0|      7|           1|[7.30000019073486...|\n",
            "|          7.8|            0.58|       0.02|           2.0|    0.073|                9.0|                18.0| 0.9968|3.36|     0.57|    9.5|      7|           1|[7.80000019073486...|\n",
            "|          7.5|             0.5|       0.36|           6.1|    0.071|               17.0|               102.0| 0.9978|3.35|      0.8|   10.5|      5|           0|[7.5,0.5,0.360000...|\n",
            "|          6.7|            0.58|       0.08|           1.8|    0.097|               15.0|                65.0| 0.9959|3.28|     0.54|    9.2|      5|           0|[6.69999980926513...|\n",
            "|          7.5|             0.5|       0.36|           6.1|    0.071|               17.0|               102.0| 0.9978|3.35|      0.8|   10.5|      5|           0|[7.5,0.5,0.360000...|\n",
            "|          5.6|           0.615|        0.0|           1.6|    0.089|               16.0|                59.0| 0.9943|3.58|     0.52|    9.9|      5|           0|[5.59999990463256...|\n",
            "|          7.8|            0.61|       0.29|           1.6|    0.114|                9.0|                29.0| 0.9974|3.26|     1.56|    9.1|      5|           0|[7.80000019073486...|\n",
            "|          8.9|            0.62|       0.18|           3.8|    0.176|               52.0|               145.0| 0.9986|3.16|     0.88|    9.2|      5|           0|[8.89999961853027...|\n",
            "|          8.9|            0.62|       0.19|           3.9|     0.17|               51.0|               148.0| 0.9986|3.17|     0.93|    9.2|      5|           0|[8.89999961853027...|\n",
            "|          8.5|            0.28|       0.56|           1.8|    0.092|               35.0|               103.0| 0.9969| 3.3|     0.75|   10.5|      7|           1|[8.5,0.2800000011...|\n",
            "|          8.1|            0.56|       0.28|           1.7|    0.368|               16.0|                56.0| 0.9968|3.11|     1.28|    9.3|      5|           0|[8.10000038146972...|\n",
            "|          7.4|            0.59|       0.08|           4.4|    0.086|                6.0|                29.0| 0.9974|3.38|      0.5|    9.0|      4|           0|[7.40000009536743...|\n",
            "|          7.9|            0.32|       0.51|           1.8|    0.341|               17.0|                56.0| 0.9969|3.04|     1.08|    9.2|      6|           1|[7.90000009536743...|\n",
            "+-------------+----------------+-----------+--------------+---------+-------------------+--------------------+-------+----+---------+-------+-------+------------+--------------------+\n",
            "only showing top 20 rows\n",
            "\n"
          ]
        }
      ]
    },
    {
      "cell_type": "markdown",
      "source": [
        "## Feature Engineering"
      ],
      "metadata": {
        "id": "ssaTD1Z2SUaM"
      }
    },
    {
      "cell_type": "markdown",
      "source": [
        "### Scaling all features using standard scaler"
      ],
      "metadata": {
        "id": "D62R-7ooVjp2"
      }
    },
    {
      "cell_type": "code",
      "source": [
        "from pyspark.ml.feature import StandardScaler\n",
        "\n",
        "scaler = StandardScaler(inputCol=\"features\", outputCol=\"scaledFeatures\")\n",
        "scalerModel = scaler.fit(transformed_data)\n",
        "scaledData = scalerModel.transform(transformed_data)"
      ],
      "metadata": {
        "id": "ZxWR7KBv3-i0"
      },
      "execution_count": 67,
      "outputs": []
    },
    {
      "cell_type": "code",
      "source": [
        "scaledData.show()"
      ],
      "metadata": {
        "colab": {
          "base_uri": "https://localhost:8080/"
        },
        "id": "_STATBwP7diW",
        "outputId": "4c8b7b69-c4e0-4018-89a5-175211d7f32b"
      },
      "execution_count": 68,
      "outputs": [
        {
          "output_type": "stream",
          "name": "stdout",
          "text": [
            "+-------------+----------------+-----------+--------------+---------+-------------------+--------------------+-------+----+---------+-------+-------+------------+--------------------+--------------------+\n",
            "|fixed acidity|volatile acidity|citric acid|residual sugar|chlorides|free sulfur dioxide|total sulfur dioxide|density|  pH|sulphates|alcohol|quality|wine_quality|            features|      scaledFeatures|\n",
            "+-------------+----------------+-----------+--------------+---------+-------------------+--------------------+-------+----+---------+-------+-------+------------+--------------------+--------------------+\n",
            "|          7.4|             0.7|        0.0|           1.9|    0.076|               11.0|                34.0| 0.9978|3.51|     0.56|    9.4|      5|           0|[7.40000009536743...|[4.25019570652240...|\n",
            "|          7.8|            0.88|        0.0|           2.6|    0.098|               25.0|                67.0| 0.9968| 3.2|     0.68|    9.8|      5|           0|[7.80000019073486...|[4.47993606679665...|\n",
            "|          7.8|            0.76|       0.04|           2.3|    0.092|               15.0|                54.0|  0.997|3.26|     0.65|    9.8|      5|           0|[7.80000019073486...|[4.47993606679665...|\n",
            "|         11.2|            0.28|       0.56|           1.9|    0.075|               17.0|                60.0|  0.998|3.16|     0.58|    9.8|      6|           1|[11.1999998092651...|[6.43272844444832...|\n",
            "|          7.4|             0.7|        0.0|           1.9|    0.076|               11.0|                34.0| 0.9978|3.51|     0.56|    9.4|      5|           0|[7.40000009536743...|[4.25019570652240...|\n",
            "|          7.4|            0.66|        0.0|           1.8|    0.075|               13.0|                40.0| 0.9978|3.51|     0.56|    9.4|      5|           0|[7.40000009536743...|[4.25019570652240...|\n",
            "|          7.9|             0.6|       0.06|           1.6|    0.069|               15.0|                59.0| 0.9964| 3.3|     0.46|    9.4|      5|           0|[7.90000009536743...|[4.53737108839727...|\n",
            "|          7.3|            0.65|        0.0|           1.2|    0.065|               15.0|                21.0| 0.9946|3.39|     0.47|   10.0|      7|           1|[7.30000019073486...|[4.19276068492178...|\n",
            "|          7.8|            0.58|       0.02|           2.0|    0.073|                9.0|                18.0| 0.9968|3.36|     0.57|    9.5|      7|           1|[7.80000019073486...|[4.47993606679665...|\n",
            "|          7.5|             0.5|       0.36|           6.1|    0.071|               17.0|               102.0| 0.9978|3.35|      0.8|   10.5|      5|           0|[7.5,0.5,0.360000...|[4.30763072812302...|\n",
            "|          6.7|            0.58|       0.08|           1.8|    0.097|               15.0|                65.0| 0.9959|3.28|     0.54|    9.2|      5|           0|[6.69999980926513...|[3.84815000757451...|\n",
            "|          7.5|             0.5|       0.36|           6.1|    0.071|               17.0|               102.0| 0.9978|3.35|      0.8|   10.5|      5|           0|[7.5,0.5,0.360000...|[4.30763072812302...|\n",
            "|          5.6|           0.615|        0.0|           1.6|    0.089|               16.0|                59.0| 0.9943|3.58|     0.52|    9.9|      5|           0|[5.59999990463256...|[3.21636422222416...|\n",
            "|          7.8|            0.61|       0.29|           1.6|    0.114|                9.0|                29.0| 0.9974|3.26|     1.56|    9.1|      5|           0|[7.80000019073486...|[4.47993606679665...|\n",
            "|          8.9|            0.62|       0.18|           3.8|    0.176|               52.0|               145.0| 0.9986|3.16|     0.88|    9.2|      5|           0|[8.89999961853027...|[5.11172157827522...|\n",
            "|          8.9|            0.62|       0.19|           3.9|     0.17|               51.0|               148.0| 0.9986|3.17|     0.93|    9.2|      5|           0|[8.89999961853027...|[5.11172157827522...|\n",
            "|          8.5|            0.28|       0.56|           1.8|    0.092|               35.0|               103.0| 0.9969| 3.3|     0.75|   10.5|      7|           1|[8.5,0.2800000011...|[4.88198149187275...|\n",
            "|          8.1|            0.56|       0.28|           1.7|    0.368|               16.0|                56.0| 0.9968|3.11|     1.28|    9.3|      5|           0|[8.10000038146972...|[4.65224140547029...|\n",
            "|          7.4|            0.59|       0.08|           4.4|    0.086|                6.0|                29.0| 0.9974|3.38|      0.5|    9.0|      4|           0|[7.40000009536743...|[4.25019570652240...|\n",
            "|          7.9|            0.32|       0.51|           1.8|    0.341|               17.0|                56.0| 0.9969|3.04|     1.08|    9.2|      6|           1|[7.90000009536743...|[4.53737108839727...|\n",
            "+-------------+----------------+-----------+--------------+---------+-------------------+--------------------+-------+----+---------+-------+-------+------------+--------------------+--------------------+\n",
            "only showing top 20 rows\n",
            "\n"
          ]
        }
      ]
    },
    {
      "cell_type": "markdown",
      "source": [
        "## Training"
      ],
      "metadata": {
        "id": "gDcneFEtSZHt"
      }
    },
    {
      "cell_type": "code",
      "source": [
        "(training_data, test_data) = scaledData.randomSplit([0.75,0.25])"
      ],
      "metadata": {
        "id": "vRGwlwcs66WP"
      },
      "execution_count": 69,
      "outputs": []
    },
    {
      "cell_type": "markdown",
      "source": [
        "### Linear SVC Classification"
      ],
      "metadata": {
        "id": "mLGn0Z4MVrzI"
      }
    },
    {
      "cell_type": "code",
      "source": [
        "from pyspark.ml.classification import LinearSVC\n",
        "\n",
        "def train_svc_model(training_data, depth):\n",
        "  rf = LinearSVC(labelCol='wine_quality', featuresCol='scaledFeatures')\n",
        "  model = rf.fit(training_data)\n",
        "  return model"
      ],
      "metadata": {
        "id": "hAqipaSBQgNC"
      },
      "execution_count": 70,
      "outputs": []
    },
    {
      "cell_type": "markdown",
      "source": [
        "### GBT Classification"
      ],
      "metadata": {
        "id": "yrjR5mJjVt9Z"
      }
    },
    {
      "cell_type": "code",
      "source": [
        "from pyspark.ml.classification import GBTClassifier\n",
        "\n",
        "\n",
        "def train_gbt_model(training_data, depth):\n",
        "  rf = GBTClassifier(labelCol='wine_quality', \n",
        "                            featuresCol='scaledFeatures',\n",
        "                            maxDepth=depth)\n",
        "  model = rf.fit(training_data)\n",
        "  return model"
      ],
      "metadata": {
        "id": "PNSTNwBIPUbS"
      },
      "execution_count": 71,
      "outputs": []
    },
    {
      "cell_type": "markdown",
      "source": [
        "### Decision Tree Classification"
      ],
      "metadata": {
        "id": "Bu2WfJU9VxOt"
      }
    },
    {
      "cell_type": "code",
      "source": [
        "from pyspark.ml.classification import DecisionTreeClassifier\n",
        "\n",
        "\n",
        "def train_decision_tree_model(training_data, depth):\n",
        "  rf = DecisionTreeClassifier(labelCol='wine_quality', \n",
        "                            featuresCol='scaledFeatures',\n",
        "                            maxDepth=depth)\n",
        "  model = rf.fit(training_data)\n",
        "  return model"
      ],
      "metadata": {
        "id": "UyUwtxVA_Wxl"
      },
      "execution_count": 72,
      "outputs": []
    },
    {
      "cell_type": "markdown",
      "source": [
        "### Random Forest Classification"
      ],
      "metadata": {
        "id": "-1WZ6hbcV1Pi"
      }
    },
    {
      "cell_type": "code",
      "source": [
        "from pyspark.ml.classification import RandomForestClassifier\n",
        "\n",
        "\n",
        "def train_random_forest_model(training_data, depth):\n",
        "  rf = RandomForestClassifier(labelCol='wine_quality', \n",
        "                            featuresCol='scaledFeatures',\n",
        "                            maxDepth=depth)\n",
        "  model = rf.fit(training_data)\n",
        "  return model"
      ],
      "metadata": {
        "id": "obsxjO4FPRHx"
      },
      "execution_count": 73,
      "outputs": []
    },
    {
      "cell_type": "code",
      "source": [
        "from pyspark.ml.evaluation import MulticlassClassificationEvaluator\n",
        "\n",
        "def build_evaluator(metricName):\n",
        "  return MulticlassClassificationEvaluator(\n",
        "    labelCol='wine_quality', \n",
        "    predictionCol='prediction', \n",
        "    metricName=metricName)\n",
        "\n",
        "def evaluate_model(model, predictions): \n",
        "  accuracy_evaluator = build_evaluator('accuracy')\n",
        "  f1_evaluator = build_evaluator('f1')\n",
        "\n",
        "  accuracy = accuracy_evaluator.evaluate(predictions)\n",
        "  f1_score = f1_evaluator.evaluate(predictions)\n",
        "\n",
        "  print(f'Model Accuracy: {accuracy:.4f}')\n",
        "  print(f'F1 Score: {f1_score:.4f}')\n",
        "\n"
      ],
      "metadata": {
        "id": "UYWEBXX2EYZt"
      },
      "execution_count": 74,
      "outputs": []
    },
    {
      "cell_type": "markdown",
      "source": [
        "## Model evaluation"
      ],
      "metadata": {
        "id": "k3BNYtxLSh0M"
      }
    },
    {
      "cell_type": "code",
      "source": [
        "print('Decision Tree')\n",
        "\n",
        "\n",
        "for depth in range(1, 21): \n",
        "  model = train_decision_tree_model(training_data, depth)\n",
        "\n",
        "  predictions = model.transform(test_data)\n",
        "  evaluate_model(model, predictions)"
      ],
      "metadata": {
        "colab": {
          "base_uri": "https://localhost:8080/"
        },
        "id": "poGYUPfWEm0E",
        "outputId": "491459e3-b0ac-41f9-cbad-8801a47c7460"
      },
      "execution_count": 75,
      "outputs": [
        {
          "output_type": "stream",
          "name": "stdout",
          "text": [
            "Decision Tree\n",
            "Model Accuracy: 0.7157\n",
            "F1 Score: 0.7163\n",
            "Model Accuracy: 0.7157\n",
            "F1 Score: 0.7163\n",
            "Model Accuracy: 0.7132\n",
            "F1 Score: 0.7077\n",
            "Model Accuracy: 0.7207\n",
            "F1 Score: 0.7188\n",
            "Model Accuracy: 0.7431\n",
            "F1 Score: 0.7435\n",
            "Model Accuracy: 0.7132\n",
            "F1 Score: 0.7131\n",
            "Model Accuracy: 0.7232\n",
            "F1 Score: 0.7233\n",
            "Model Accuracy: 0.7332\n",
            "F1 Score: 0.7315\n",
            "Model Accuracy: 0.7481\n",
            "F1 Score: 0.7475\n",
            "Model Accuracy: 0.7332\n",
            "F1 Score: 0.7327\n",
            "Model Accuracy: 0.7456\n",
            "F1 Score: 0.7447\n",
            "Model Accuracy: 0.7456\n",
            "F1 Score: 0.7447\n",
            "Model Accuracy: 0.7556\n",
            "F1 Score: 0.7537\n",
            "Model Accuracy: 0.7481\n",
            "F1 Score: 0.7468\n",
            "Model Accuracy: 0.7581\n",
            "F1 Score: 0.7564\n",
            "Model Accuracy: 0.7581\n",
            "F1 Score: 0.7564\n",
            "Model Accuracy: 0.7581\n",
            "F1 Score: 0.7564\n",
            "Model Accuracy: 0.7581\n",
            "F1 Score: 0.7564\n",
            "Model Accuracy: 0.7581\n",
            "F1 Score: 0.7564\n",
            "Model Accuracy: 0.7581\n",
            "F1 Score: 0.7564\n"
          ]
        }
      ]
    },
    {
      "cell_type": "code",
      "source": [
        "print('GBT')\n",
        "\n",
        "for depth in range(1, 21): \n",
        "  model = train_gbt_model(training_data, depth)\n",
        "\n",
        "  predictions = model.transform(test_data)\n",
        "  evaluate_model(model, predictions)"
      ],
      "metadata": {
        "colab": {
          "base_uri": "https://localhost:8080/"
        },
        "id": "n8H2WXYMSw0a",
        "outputId": "5fcd68f8-dcae-4584-c282-1754559ea1f1"
      },
      "execution_count": 76,
      "outputs": [
        {
          "output_type": "stream",
          "name": "stdout",
          "text": [
            "GBT\n",
            "Model Accuracy: 0.7406\n",
            "F1 Score: 0.7409\n",
            "Model Accuracy: 0.7581\n",
            "F1 Score: 0.7587\n",
            "Model Accuracy: 0.7357\n",
            "F1 Score: 0.7339\n",
            "Model Accuracy: 0.7531\n",
            "F1 Score: 0.7532\n",
            "Model Accuracy: 0.7431\n",
            "F1 Score: 0.7435\n",
            "Model Accuracy: 0.7656\n",
            "F1 Score: 0.7651\n",
            "Model Accuracy: 0.7880\n",
            "F1 Score: 0.7880\n",
            "Model Accuracy: 0.7631\n",
            "F1 Score: 0.7630\n",
            "Model Accuracy: 0.7731\n",
            "F1 Score: 0.7727\n",
            "Model Accuracy: 0.7581\n",
            "F1 Score: 0.7569\n",
            "Model Accuracy: 0.7481\n",
            "F1 Score: 0.7468\n",
            "Model Accuracy: 0.7531\n",
            "F1 Score: 0.7518\n",
            "Model Accuracy: 0.7481\n",
            "F1 Score: 0.7468\n",
            "Model Accuracy: 0.7531\n",
            "F1 Score: 0.7516\n",
            "Model Accuracy: 0.7531\n",
            "F1 Score: 0.7516\n",
            "Model Accuracy: 0.7531\n",
            "F1 Score: 0.7516\n",
            "Model Accuracy: 0.7531\n",
            "F1 Score: 0.7516\n",
            "Model Accuracy: 0.7531\n",
            "F1 Score: 0.7516\n",
            "Model Accuracy: 0.7531\n",
            "F1 Score: 0.7516\n",
            "Model Accuracy: 0.7531\n",
            "F1 Score: 0.7516\n"
          ]
        }
      ]
    },
    {
      "cell_type": "code",
      "source": [
        "print('Random Forest')\n",
        "\n",
        "for depth in range(1, 21): \n",
        "  model = train_random_forest_model(training_data, depth)\n",
        "\n",
        "  predictions = model.transform(test_data)\n",
        "  evaluate_model(model, predictions)"
      ],
      "metadata": {
        "colab": {
          "base_uri": "https://localhost:8080/"
        },
        "id": "jDdgdoSqSvsz",
        "outputId": "f4c5d3e7-983a-402a-b9da-a3c7ac42eaee"
      },
      "execution_count": 77,
      "outputs": [
        {
          "output_type": "stream",
          "name": "stdout",
          "text": [
            "Random Forest\n",
            "Model Accuracy: 0.7481\n",
            "F1 Score: 0.7473\n",
            "Model Accuracy: 0.7531\n",
            "F1 Score: 0.7527\n",
            "Model Accuracy: 0.7481\n",
            "F1 Score: 0.7483\n",
            "Model Accuracy: 0.7506\n",
            "F1 Score: 0.7509\n",
            "Model Accuracy: 0.7731\n",
            "F1 Score: 0.7730\n",
            "Model Accuracy: 0.7756\n",
            "F1 Score: 0.7756\n",
            "Model Accuracy: 0.7805\n",
            "F1 Score: 0.7807\n",
            "Model Accuracy: 0.7905\n",
            "F1 Score: 0.7906\n",
            "Model Accuracy: 0.8005\n",
            "F1 Score: 0.8006\n",
            "Model Accuracy: 0.8080\n",
            "F1 Score: 0.8080\n",
            "Model Accuracy: 0.8204\n",
            "F1 Score: 0.8207\n",
            "Model Accuracy: 0.8204\n",
            "F1 Score: 0.8208\n",
            "Model Accuracy: 0.8204\n",
            "F1 Score: 0.8207\n",
            "Model Accuracy: 0.8180\n",
            "F1 Score: 0.8183\n",
            "Model Accuracy: 0.8204\n",
            "F1 Score: 0.8207\n",
            "Model Accuracy: 0.8229\n",
            "F1 Score: 0.8232\n",
            "Model Accuracy: 0.8229\n",
            "F1 Score: 0.8232\n",
            "Model Accuracy: 0.8204\n",
            "F1 Score: 0.8207\n",
            "Model Accuracy: 0.8204\n",
            "F1 Score: 0.8207\n",
            "Model Accuracy: 0.8204\n",
            "F1 Score: 0.8207\n"
          ]
        }
      ]
    },
    {
      "cell_type": "code",
      "source": [
        "print('SVC')\n",
        "\n",
        "model = train_svc_model(training_data, depth)\n",
        "\n",
        "predictions = model.transform(test_data)\n",
        "evaluate_model(model, predictions)"
      ],
      "metadata": {
        "colab": {
          "base_uri": "https://localhost:8080/"
        },
        "id": "Xqk_NTKqSxsl",
        "outputId": "d89708cd-e6cb-4531-e668-bf5d206ce459"
      },
      "execution_count": 78,
      "outputs": [
        {
          "output_type": "stream",
          "name": "stdout",
          "text": [
            "SVC\n",
            "Model Accuracy: 0.7556\n",
            "F1 Score: 0.7555\n"
          ]
        }
      ]
    },
    {
      "cell_type": "markdown",
      "source": [
        "## Conclusion\n",
        "Almost all features have a good correlation\n",
        "\n",
        "Better to compute quality into a binary variable (*wine_quality*) instead of trying to predicting the quality itself\n",
        "\n",
        "**Random Forest is the winner** - better accuracy and F1 Score"
      ],
      "metadata": {
        "id": "gtGsgWxLV9oc"
      }
    }
  ]
}
